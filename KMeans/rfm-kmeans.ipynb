{
 "cells": [
  {
   "cell_type": "code",
   "execution_count": 1,
   "id": "127037ab",
   "metadata": {
    "_cell_guid": "b1076dfc-b9ad-4769-8c92-a6c4dae69d19",
    "_uuid": "8f2839f25d086af736a60e9eeb907d3b93b6e0e5",
    "execution": {
     "iopub.execute_input": "2025-01-24T12:48:53.578257Z",
     "iopub.status.busy": "2025-01-24T12:48:53.577840Z",
     "iopub.status.idle": "2025-01-24T12:48:57.764472Z",
     "shell.execute_reply": "2025-01-24T12:48:57.763431Z"
    },
    "papermill": {
     "duration": 4.199468,
     "end_time": "2025-01-24T12:48:57.766408",
     "exception": false,
     "start_time": "2025-01-24T12:48:53.566940",
     "status": "completed"
    },
    "tags": []
   },
   "outputs": [],
   "source": [
    "import pandas as pd\n",
    "from scipy import stats\n",
    "import datetime as dt\n",
    "import matplotlib.pyplot as plt\n",
    "from sklearn.preprocessing import MinMaxScaler\n",
    "from sklearn.cluster import KMeans\n",
    "from scipy.cluster.hierarchy import dendrogram\n",
    "from scipy.cluster.hierarchy import linkage\n",
    "from yellowbrick.cluster import KElbowVisualizer\n",
    "from sklearn.cluster import AgglomerativeClustering\n",
    "from sklearn.preprocessing import StandardScaler\n",
    "import seaborn as sns\n",
    "import numpy as np\n",
    "import warnings\n",
    "\n",
    "pd.set_option('display.max_columns',50)\n",
    "pd.set_option('display.max_rows', 50)\n",
    "pd.set_option('display.float_format', lambda x:'%.2f' % x)\n",
    "pd.set_option('display.width', 1000)\n",
    "warnings.filterwarnings (\"ignore\")"
   ]
  },
  {
   "cell_type": "code",
   "execution_count": 2,
   "id": "4e79b33a",
   "metadata": {
    "execution": {
     "iopub.execute_input": "2025-01-24T12:48:57.784660Z",
     "iopub.status.busy": "2025-01-24T12:48:57.784119Z",
     "iopub.status.idle": "2025-01-24T12:49:55.497223Z",
     "shell.execute_reply": "2025-01-24T12:49:55.495971Z"
    },
    "papermill": {
     "duration": 57.724253,
     "end_time": "2025-01-24T12:49:55.499299",
     "exception": false,
     "start_time": "2025-01-24T12:48:57.775046",
     "status": "completed"
    },
    "tags": []
   },
   "outputs": [],
   "source": [
    "df_ = pd.read_excel(\"/kaggle/input/online-retail-ii-dataset/online_retail_II.xlsx\", sheet_name=\"Year 2009-2010\")\n",
    "df = df_.copy()"
   ]
  },
  {
   "cell_type": "code",
   "execution_count": 3,
   "id": "82afaa93",
   "metadata": {
    "execution": {
     "iopub.execute_input": "2025-01-24T12:49:55.517543Z",
     "iopub.status.busy": "2025-01-24T12:49:55.517006Z",
     "iopub.status.idle": "2025-01-24T12:49:55.522436Z",
     "shell.execute_reply": "2025-01-24T12:49:55.521446Z"
    },
    "papermill": {
     "duration": 0.016226,
     "end_time": "2025-01-24T12:49:55.524057",
     "exception": false,
     "start_time": "2025-01-24T12:49:55.507831",
     "status": "completed"
    },
    "tags": []
   },
   "outputs": [],
   "source": [
    "def check_data(dataframe, head=5):\n",
    "    print(\"######### SHAPE #########\")\n",
    "    print(dataframe.shape)\n",
    "    print(\"######### INFO #########\")\n",
    "    print(dataframe.info())\n",
    "    print(\"######### DESCRIBE #########\")\n",
    "    print(dataframe.describe([0.01, 0.1, 0.25, 0.50, 0.75, 0.9, 0.95, 0.99]))\n",
    "    print(\"######### NA VALUES #########\")\n",
    "    print(dataframe.isnull().sum())\n",
    "    print(\"######### FIRST {} ROWS #########\".format (head))\n",
    "    print(dataframe.shape)"
   ]
  },
  {
   "cell_type": "code",
   "execution_count": 4,
   "id": "0c0d17c7",
   "metadata": {
    "execution": {
     "iopub.execute_input": "2025-01-24T12:49:55.541841Z",
     "iopub.status.busy": "2025-01-24T12:49:55.541455Z",
     "iopub.status.idle": "2025-01-24T12:49:56.001133Z",
     "shell.execute_reply": "2025-01-24T12:49:55.999770Z"
    },
    "papermill": {
     "duration": 0.470679,
     "end_time": "2025-01-24T12:49:56.003078",
     "exception": false,
     "start_time": "2025-01-24T12:49:55.532399",
     "status": "completed"
    },
    "tags": []
   },
   "outputs": [
    {
     "name": "stdout",
     "output_type": "stream",
     "text": [
      "######### SHAPE #########\n",
      "(525461, 8)\n",
      "######### INFO #########\n",
      "<class 'pandas.core.frame.DataFrame'>\n",
      "RangeIndex: 525461 entries, 0 to 525460\n",
      "Data columns (total 8 columns):\n",
      " #   Column       Non-Null Count   Dtype         \n",
      "---  ------       --------------   -----         \n",
      " 0   Invoice      525461 non-null  object        \n",
      " 1   StockCode    525461 non-null  object        \n",
      " 2   Description  522533 non-null  object        \n",
      " 3   Quantity     525461 non-null  int64         \n",
      " 4   InvoiceDate  525461 non-null  datetime64[ns]\n",
      " 5   Price        525461 non-null  float64       \n",
      " 6   Customer ID  417534 non-null  float64       \n",
      " 7   Country      525461 non-null  object        \n",
      "dtypes: datetime64[ns](1), float64(2), int64(1), object(4)\n",
      "memory usage: 32.1+ MB\n",
      "None\n",
      "######### DESCRIBE #########\n",
      "       Quantity                    InvoiceDate     Price  Customer ID\n",
      "count 525461.00                         525461 525461.00    417534.00\n",
      "mean      10.34  2010-06-28 11:37:36.845017856      4.69     15360.65\n",
      "min    -9600.00            2009-12-01 07:45:00 -53594.36     12346.00\n",
      "1%        -3.00            2009-12-02 14:36:00      0.21     12435.00\n",
      "10%        1.00            2010-01-12 09:48:00      0.65     13042.00\n",
      "25%        1.00            2010-03-21 12:20:00      1.25     13983.00\n",
      "50%        3.00            2010-07-06 09:51:00      2.10     15311.00\n",
      "75%       10.00            2010-10-15 12:45:00      4.21     16799.00\n",
      "90%       24.00            2010-11-19 13:06:00      7.95     17706.00\n",
      "95%       30.00            2010-11-29 15:18:00     10.17     17913.00\n",
      "99%      120.00            2010-12-08 10:40:00     19.95     18196.00\n",
      "max    19152.00            2010-12-09 20:01:00  25111.09     18287.00\n",
      "std      107.42                            NaN    146.13      1680.81\n",
      "######### NA VALUES #########\n",
      "Invoice             0\n",
      "StockCode           0\n",
      "Description      2928\n",
      "Quantity            0\n",
      "InvoiceDate         0\n",
      "Price               0\n",
      "Customer ID    107927\n",
      "Country             0\n",
      "dtype: int64\n",
      "######### FIRST 5 ROWS #########\n",
      "(525461, 8)\n"
     ]
    }
   ],
   "source": [
    "check_data(df)"
   ]
  },
  {
   "cell_type": "code",
   "execution_count": 5,
   "id": "5733f300",
   "metadata": {
    "execution": {
     "iopub.execute_input": "2025-01-24T12:49:56.021871Z",
     "iopub.status.busy": "2025-01-24T12:49:56.021511Z",
     "iopub.status.idle": "2025-01-24T12:49:56.757537Z",
     "shell.execute_reply": "2025-01-24T12:49:56.756443Z"
    },
    "papermill": {
     "duration": 0.747551,
     "end_time": "2025-01-24T12:49:56.759658",
     "exception": false,
     "start_time": "2025-01-24T12:49:56.012107",
     "status": "completed"
    },
    "tags": []
   },
   "outputs": [],
   "source": [
    "df = df[~df[\"Invoice\"].str.contains(\"C\", na=False)]\n",
    "df = df[(df[\"Quantity\"] > 0)]\n",
    "df.dropna(inplace=True)"
   ]
  },
  {
   "cell_type": "code",
   "execution_count": 6,
   "id": "12b8c2eb",
   "metadata": {
    "execution": {
     "iopub.execute_input": "2025-01-24T12:49:56.778050Z",
     "iopub.status.busy": "2025-01-24T12:49:56.777700Z",
     "iopub.status.idle": "2025-01-24T12:49:56.855203Z",
     "shell.execute_reply": "2025-01-24T12:49:56.853999Z"
    },
    "papermill": {
     "duration": 0.088869,
     "end_time": "2025-01-24T12:49:56.857107",
     "exception": false,
     "start_time": "2025-01-24T12:49:56.768238",
     "status": "completed"
    },
    "tags": []
   },
   "outputs": [
    {
     "data": {
      "text/html": [
       "<div>\n",
       "<style scoped>\n",
       "    .dataframe tbody tr th:only-of-type {\n",
       "        vertical-align: middle;\n",
       "    }\n",
       "\n",
       "    .dataframe tbody tr th {\n",
       "        vertical-align: top;\n",
       "    }\n",
       "\n",
       "    .dataframe thead th {\n",
       "        text-align: right;\n",
       "    }\n",
       "</style>\n",
       "<table border=\"1\" class=\"dataframe\">\n",
       "  <thead>\n",
       "    <tr style=\"text-align: right;\">\n",
       "      <th></th>\n",
       "      <th>Quantity</th>\n",
       "      <th>InvoiceDate</th>\n",
       "      <th>Price</th>\n",
       "      <th>Customer ID</th>\n",
       "    </tr>\n",
       "  </thead>\n",
       "  <tbody>\n",
       "    <tr>\n",
       "      <th>count</th>\n",
       "      <td>407695.00</td>\n",
       "      <td>407695</td>\n",
       "      <td>407695.00</td>\n",
       "      <td>407695.00</td>\n",
       "    </tr>\n",
       "    <tr>\n",
       "      <th>mean</th>\n",
       "      <td>13.59</td>\n",
       "      <td>2010-07-01 10:10:10.782178048</td>\n",
       "      <td>3.29</td>\n",
       "      <td>15368.50</td>\n",
       "    </tr>\n",
       "    <tr>\n",
       "      <th>min</th>\n",
       "      <td>1.00</td>\n",
       "      <td>2009-12-01 07:45:00</td>\n",
       "      <td>0.00</td>\n",
       "      <td>12346.00</td>\n",
       "    </tr>\n",
       "    <tr>\n",
       "      <th>1%</th>\n",
       "      <td>1.00</td>\n",
       "      <td>2009-12-02 15:10:00</td>\n",
       "      <td>0.29</td>\n",
       "      <td>12435.00</td>\n",
       "    </tr>\n",
       "    <tr>\n",
       "      <th>10%</th>\n",
       "      <td>1.00</td>\n",
       "      <td>2010-01-19 11:01:00</td>\n",
       "      <td>0.65</td>\n",
       "      <td>13044.00</td>\n",
       "    </tr>\n",
       "    <tr>\n",
       "      <th>25%</th>\n",
       "      <td>2.00</td>\n",
       "      <td>2010-03-26 14:01:00</td>\n",
       "      <td>1.25</td>\n",
       "      <td>13997.00</td>\n",
       "    </tr>\n",
       "    <tr>\n",
       "      <th>50%</th>\n",
       "      <td>5.00</td>\n",
       "      <td>2010-07-09 15:46:00</td>\n",
       "      <td>1.95</td>\n",
       "      <td>15321.00</td>\n",
       "    </tr>\n",
       "    <tr>\n",
       "      <th>75%</th>\n",
       "      <td>12.00</td>\n",
       "      <td>2010-10-14 17:09:00</td>\n",
       "      <td>3.75</td>\n",
       "      <td>16812.00</td>\n",
       "    </tr>\n",
       "    <tr>\n",
       "      <th>90%</th>\n",
       "      <td>24.00</td>\n",
       "      <td>2010-11-18 10:37:00</td>\n",
       "      <td>6.75</td>\n",
       "      <td>17706.00</td>\n",
       "    </tr>\n",
       "    <tr>\n",
       "      <th>95%</th>\n",
       "      <td>36.00</td>\n",
       "      <td>2010-11-28 13:53:00</td>\n",
       "      <td>8.50</td>\n",
       "      <td>17913.00</td>\n",
       "    </tr>\n",
       "    <tr>\n",
       "      <th>99%</th>\n",
       "      <td>144.00</td>\n",
       "      <td>2010-12-07 14:31:00</td>\n",
       "      <td>14.95</td>\n",
       "      <td>18196.00</td>\n",
       "    </tr>\n",
       "    <tr>\n",
       "      <th>max</th>\n",
       "      <td>19152.00</td>\n",
       "      <td>2010-12-09 20:01:00</td>\n",
       "      <td>10953.50</td>\n",
       "      <td>18287.00</td>\n",
       "    </tr>\n",
       "    <tr>\n",
       "      <th>std</th>\n",
       "      <td>96.84</td>\n",
       "      <td>NaN</td>\n",
       "      <td>34.76</td>\n",
       "      <td>1679.80</td>\n",
       "    </tr>\n",
       "  </tbody>\n",
       "</table>\n",
       "</div>"
      ],
      "text/plain": [
       "       Quantity                    InvoiceDate     Price  Customer ID\n",
       "count 407695.00                         407695 407695.00    407695.00\n",
       "mean      13.59  2010-07-01 10:10:10.782178048      3.29     15368.50\n",
       "min        1.00            2009-12-01 07:45:00      0.00     12346.00\n",
       "1%         1.00            2009-12-02 15:10:00      0.29     12435.00\n",
       "10%        1.00            2010-01-19 11:01:00      0.65     13044.00\n",
       "25%        2.00            2010-03-26 14:01:00      1.25     13997.00\n",
       "50%        5.00            2010-07-09 15:46:00      1.95     15321.00\n",
       "75%       12.00            2010-10-14 17:09:00      3.75     16812.00\n",
       "90%       24.00            2010-11-18 10:37:00      6.75     17706.00\n",
       "95%       36.00            2010-11-28 13:53:00      8.50     17913.00\n",
       "99%      144.00            2010-12-07 14:31:00     14.95     18196.00\n",
       "max    19152.00            2010-12-09 20:01:00  10953.50     18287.00\n",
       "std       96.84                            NaN     34.76      1679.80"
      ]
     },
     "execution_count": 6,
     "metadata": {},
     "output_type": "execute_result"
    }
   ],
   "source": [
    "df.describe([0.01, 0.1, 0.25, 0.50, 0.75, 0.9, 0.95, 0.99])"
   ]
  },
  {
   "cell_type": "code",
   "execution_count": 7,
   "id": "12033b5c",
   "metadata": {
    "execution": {
     "iopub.execute_input": "2025-01-24T12:49:56.876730Z",
     "iopub.status.busy": "2025-01-24T12:49:56.876335Z",
     "iopub.status.idle": "2025-01-24T12:49:56.884942Z",
     "shell.execute_reply": "2025-01-24T12:49:56.883728Z"
    },
    "papermill": {
     "duration": 0.020572,
     "end_time": "2025-01-24T12:49:56.887072",
     "exception": false,
     "start_time": "2025-01-24T12:49:56.866500",
     "status": "completed"
    },
    "tags": []
   },
   "outputs": [
    {
     "data": {
      "text/plain": [
       "array([22076, 48185, 'M', 22065, 22142, 85042, 21143, 79320, 22355, 21533,\n",
       "       'TEST001', 21662, 22459, 22458, 22376, 21765, 20914, 22423, 22690,\n",
       "       22472, 22202, '46000M', 22218, 22630, 22121, 21843, 22624, 22846,\n",
       "       22845, 22841], dtype=object)"
      ]
     },
     "execution_count": 7,
     "metadata": {},
     "output_type": "execute_result"
    }
   ],
   "source": [
    "df[df[\"Price\"]==0][\"StockCode\"].unique()"
   ]
  },
  {
   "cell_type": "code",
   "execution_count": 8,
   "id": "d1462f9e",
   "metadata": {
    "execution": {
     "iopub.execute_input": "2025-01-24T12:49:56.906393Z",
     "iopub.status.busy": "2025-01-24T12:49:56.905976Z",
     "iopub.status.idle": "2025-01-24T12:49:56.969861Z",
     "shell.execute_reply": "2025-01-24T12:49:56.968668Z"
    },
    "papermill": {
     "duration": 0.076028,
     "end_time": "2025-01-24T12:49:56.972316",
     "exception": false,
     "start_time": "2025-01-24T12:49:56.896288",
     "status": "completed"
    },
    "tags": []
   },
   "outputs": [],
   "source": [
    "df = df[df[\"StockCode\"] != \"M\"]"
   ]
  },
  {
   "cell_type": "code",
   "execution_count": 9,
   "id": "c4a643e3",
   "metadata": {
    "execution": {
     "iopub.execute_input": "2025-01-24T12:49:56.991365Z",
     "iopub.status.busy": "2025-01-24T12:49:56.990960Z",
     "iopub.status.idle": "2025-01-24T12:49:57.273539Z",
     "shell.execute_reply": "2025-01-24T12:49:57.272524Z"
    },
    "papermill": {
     "duration": 0.29443,
     "end_time": "2025-01-24T12:49:57.275678",
     "exception": false,
     "start_time": "2025-01-24T12:49:56.981248",
     "status": "completed"
    },
    "tags": []
   },
   "outputs": [
    {
     "data": {
      "text/plain": [
       "['POST', 'BANK CHARGES', 'TEST001', 'TEST002', 'PADS', 'ADJUST', 'ADJUST2']"
      ]
     },
     "execution_count": 9,
     "metadata": {},
     "output_type": "execute_result"
    }
   ],
   "source": [
    "invalid_codes = df[df[\"StockCode\"].astype(str).str.contains(r\"[a-zA-Z]{3,}\")][\"StockCode\"].unique().tolist()\n",
    "\n",
    "invalid_codes"
   ]
  },
  {
   "cell_type": "code",
   "execution_count": 10,
   "id": "4ccee3df",
   "metadata": {
    "execution": {
     "iopub.execute_input": "2025-01-24T12:49:57.295099Z",
     "iopub.status.busy": "2025-01-24T12:49:57.294749Z",
     "iopub.status.idle": "2025-01-24T12:49:57.333168Z",
     "shell.execute_reply": "2025-01-24T12:49:57.332196Z"
    },
    "papermill": {
     "duration": 0.050146,
     "end_time": "2025-01-24T12:49:57.334910",
     "exception": false,
     "start_time": "2025-01-24T12:49:57.284764",
     "status": "completed"
    },
    "tags": []
   },
   "outputs": [
    {
     "data": {
      "text/html": [
       "<div>\n",
       "<style scoped>\n",
       "    .dataframe tbody tr th:only-of-type {\n",
       "        vertical-align: middle;\n",
       "    }\n",
       "\n",
       "    .dataframe tbody tr th {\n",
       "        vertical-align: top;\n",
       "    }\n",
       "\n",
       "    .dataframe thead th {\n",
       "        text-align: right;\n",
       "    }\n",
       "</style>\n",
       "<table border=\"1\" class=\"dataframe\">\n",
       "  <thead>\n",
       "    <tr style=\"text-align: right;\">\n",
       "      <th></th>\n",
       "      <th>Invoice</th>\n",
       "      <th>Quantity</th>\n",
       "      <th>Price</th>\n",
       "      <th>Customer ID</th>\n",
       "    </tr>\n",
       "    <tr>\n",
       "      <th>StockCode</th>\n",
       "      <th></th>\n",
       "      <th></th>\n",
       "      <th></th>\n",
       "      <th></th>\n",
       "    </tr>\n",
       "  </thead>\n",
       "  <tbody>\n",
       "    <tr>\n",
       "      <th>ADJUST</th>\n",
       "      <td>32</td>\n",
       "      <td>32</td>\n",
       "      <td>3538.52</td>\n",
       "      <td>25</td>\n",
       "    </tr>\n",
       "    <tr>\n",
       "      <th>ADJUST2</th>\n",
       "      <td>3</td>\n",
       "      <td>3</td>\n",
       "      <td>731.05</td>\n",
       "      <td>3</td>\n",
       "    </tr>\n",
       "    <tr>\n",
       "      <th>BANK CHARGES</th>\n",
       "      <td>20</td>\n",
       "      <td>20</td>\n",
       "      <td>300.00</td>\n",
       "      <td>12</td>\n",
       "    </tr>\n",
       "    <tr>\n",
       "      <th>PADS</th>\n",
       "      <td>14</td>\n",
       "      <td>14</td>\n",
       "      <td>0.01</td>\n",
       "      <td>12</td>\n",
       "    </tr>\n",
       "    <tr>\n",
       "      <th>POST</th>\n",
       "      <td>738</td>\n",
       "      <td>2212</td>\n",
       "      <td>19964.83</td>\n",
       "      <td>230</td>\n",
       "    </tr>\n",
       "    <tr>\n",
       "      <th>TEST001</th>\n",
       "      <td>11</td>\n",
       "      <td>60</td>\n",
       "      <td>40.50</td>\n",
       "      <td>4</td>\n",
       "    </tr>\n",
       "    <tr>\n",
       "      <th>TEST002</th>\n",
       "      <td>1</td>\n",
       "      <td>1</td>\n",
       "      <td>1.00</td>\n",
       "      <td>1</td>\n",
       "    </tr>\n",
       "  </tbody>\n",
       "</table>\n",
       "</div>"
      ],
      "text/plain": [
       "              Invoice  Quantity    Price  Customer ID\n",
       "StockCode                                            \n",
       "ADJUST             32        32  3538.52           25\n",
       "ADJUST2             3         3   731.05            3\n",
       "BANK CHARGES       20        20   300.00           12\n",
       "PADS               14        14     0.01           12\n",
       "POST              738      2212 19964.83          230\n",
       "TEST001            11        60    40.50            4\n",
       "TEST002             1         1     1.00            1"
      ]
     },
     "execution_count": 10,
     "metadata": {},
     "output_type": "execute_result"
    }
   ],
   "source": [
    "df[df[\"StockCode\"].isin (invalid_codes)].groupby([\"StockCode\"]).agg({\"Invoice\":\"nunique\",\n",
    "                                                                    \"Quantity\":\"sum\",\n",
    "                                                                    \"Price\":\"sum\",\n",
    "                                                                    \"Customer ID\":\"nunique\"})"
   ]
  },
  {
   "cell_type": "code",
   "execution_count": 11,
   "id": "f94f10e1",
   "metadata": {
    "execution": {
     "iopub.execute_input": "2025-01-24T12:49:57.354771Z",
     "iopub.status.busy": "2025-01-24T12:49:57.354422Z",
     "iopub.status.idle": "2025-01-24T12:49:57.427215Z",
     "shell.execute_reply": "2025-01-24T12:49:57.426140Z"
    },
    "papermill": {
     "duration": 0.084855,
     "end_time": "2025-01-24T12:49:57.429127",
     "exception": false,
     "start_time": "2025-01-24T12:49:57.344272",
     "status": "completed"
    },
    "tags": []
   },
   "outputs": [],
   "source": [
    "df = df[~df[\"StockCode\"].isin(invalid_codes)].reset_index(drop=True)"
   ]
  },
  {
   "cell_type": "code",
   "execution_count": 12,
   "id": "261beb66",
   "metadata": {
    "execution": {
     "iopub.execute_input": "2025-01-24T12:49:57.448914Z",
     "iopub.status.busy": "2025-01-24T12:49:57.448571Z",
     "iopub.status.idle": "2025-01-24T12:49:57.702780Z",
     "shell.execute_reply": "2025-01-24T12:49:57.701363Z"
    },
    "papermill": {
     "duration": 0.266042,
     "end_time": "2025-01-24T12:49:57.704651",
     "exception": false,
     "start_time": "2025-01-24T12:49:57.438609",
     "status": "completed"
    },
    "tags": []
   },
   "outputs": [
    {
     "name": "stdout",
     "output_type": "stream",
     "text": [
      "######### SHAPE #########\n",
      "(406450, 8)\n",
      "######### INFO #########\n",
      "<class 'pandas.core.frame.DataFrame'>\n",
      "RangeIndex: 406450 entries, 0 to 406449\n",
      "Data columns (total 8 columns):\n",
      " #   Column       Non-Null Count   Dtype         \n",
      "---  ------       --------------   -----         \n",
      " 0   Invoice      406450 non-null  object        \n",
      " 1   StockCode    406450 non-null  object        \n",
      " 2   Description  406450 non-null  object        \n",
      " 3   Quantity     406450 non-null  int64         \n",
      " 4   InvoiceDate  406450 non-null  datetime64[ns]\n",
      " 5   Price        406450 non-null  float64       \n",
      " 6   Customer ID  406450 non-null  float64       \n",
      " 7   Country      406450 non-null  object        \n",
      "dtypes: datetime64[ns](1), float64(2), int64(1), object(4)\n",
      "memory usage: 24.8+ MB\n",
      "None\n",
      "######### DESCRIBE #########\n",
      "       Quantity                    InvoiceDate     Price  Customer ID\n",
      "count 406450.00                         406450 406450.00    406450.00\n",
      "mean      13.62  2010-07-01 10:28:27.142083840      3.01     15373.48\n",
      "min        1.00            2009-12-01 07:45:00      0.00     12346.00\n",
      "1%         1.00            2009-12-02 15:04:00      0.29     12437.00\n",
      "10%        1.00            2010-01-19 10:41:00      0.65     13050.00\n",
      "25%        2.00            2010-03-26 14:01:00      1.25     14006.00\n",
      "50%        5.00            2010-07-09 15:48:00      1.95     15325.00\n",
      "75%       12.00            2010-10-14 17:09:00      3.75     16814.00\n",
      "90%       24.00            2010-11-18 10:37:00      6.75     17706.00\n",
      "95%       36.00            2010-11-28 13:51:00      8.50     17913.00\n",
      "99%      144.00            2010-12-07 14:31:00     12.75     18196.00\n",
      "max    19152.00            2010-12-09 20:01:00    295.00     18287.00\n",
      "std       96.99                            NaN      4.37      1677.23\n",
      "######### NA VALUES #########\n",
      "Invoice        0\n",
      "StockCode      0\n",
      "Description    0\n",
      "Quantity       0\n",
      "InvoiceDate    0\n",
      "Price          0\n",
      "Customer ID    0\n",
      "Country        0\n",
      "dtype: int64\n",
      "######### FIRST 5 ROWS #########\n",
      "(406450, 8)\n"
     ]
    }
   ],
   "source": [
    "check_data(df)"
   ]
  },
  {
   "cell_type": "code",
   "execution_count": 13,
   "id": "b8cd73c1",
   "metadata": {
    "execution": {
     "iopub.execute_input": "2025-01-24T12:49:57.724653Z",
     "iopub.status.busy": "2025-01-24T12:49:57.724235Z",
     "iopub.status.idle": "2025-01-24T12:49:57.739118Z",
     "shell.execute_reply": "2025-01-24T12:49:57.737990Z"
    },
    "papermill": {
     "duration": 0.026957,
     "end_time": "2025-01-24T12:49:57.741048",
     "exception": false,
     "start_time": "2025-01-24T12:49:57.714091",
     "status": "completed"
    },
    "tags": []
   },
   "outputs": [],
   "source": [
    "df[\"TotalPrice\"] = df[\"Quantity\"] * df[\"Price\"]"
   ]
  },
  {
   "cell_type": "code",
   "execution_count": 14,
   "id": "ee7adb51",
   "metadata": {
    "execution": {
     "iopub.execute_input": "2025-01-24T12:49:57.760851Z",
     "iopub.status.busy": "2025-01-24T12:49:57.760469Z",
     "iopub.status.idle": "2025-01-24T12:49:57.772724Z",
     "shell.execute_reply": "2025-01-24T12:49:57.771650Z"
    },
    "papermill": {
     "duration": 0.024069,
     "end_time": "2025-01-24T12:49:57.774465",
     "exception": false,
     "start_time": "2025-01-24T12:49:57.750396",
     "status": "completed"
    },
    "tags": []
   },
   "outputs": [
    {
     "data": {
      "text/html": [
       "<div>\n",
       "<style scoped>\n",
       "    .dataframe tbody tr th:only-of-type {\n",
       "        vertical-align: middle;\n",
       "    }\n",
       "\n",
       "    .dataframe tbody tr th {\n",
       "        vertical-align: top;\n",
       "    }\n",
       "\n",
       "    .dataframe thead th {\n",
       "        text-align: right;\n",
       "    }\n",
       "</style>\n",
       "<table border=\"1\" class=\"dataframe\">\n",
       "  <thead>\n",
       "    <tr style=\"text-align: right;\">\n",
       "      <th></th>\n",
       "      <th>Invoice</th>\n",
       "      <th>StockCode</th>\n",
       "      <th>Description</th>\n",
       "      <th>Quantity</th>\n",
       "      <th>InvoiceDate</th>\n",
       "      <th>Price</th>\n",
       "      <th>Customer ID</th>\n",
       "      <th>Country</th>\n",
       "      <th>TotalPrice</th>\n",
       "    </tr>\n",
       "  </thead>\n",
       "  <tbody>\n",
       "    <tr>\n",
       "      <th>0</th>\n",
       "      <td>489434</td>\n",
       "      <td>85048</td>\n",
       "      <td>15CM CHRISTMAS GLASS BALL 20 LIGHTS</td>\n",
       "      <td>12</td>\n",
       "      <td>2009-12-01 07:45:00</td>\n",
       "      <td>6.95</td>\n",
       "      <td>13085.00</td>\n",
       "      <td>United Kingdom</td>\n",
       "      <td>83.40</td>\n",
       "    </tr>\n",
       "    <tr>\n",
       "      <th>1</th>\n",
       "      <td>489434</td>\n",
       "      <td>79323P</td>\n",
       "      <td>PINK CHERRY LIGHTS</td>\n",
       "      <td>12</td>\n",
       "      <td>2009-12-01 07:45:00</td>\n",
       "      <td>6.75</td>\n",
       "      <td>13085.00</td>\n",
       "      <td>United Kingdom</td>\n",
       "      <td>81.00</td>\n",
       "    </tr>\n",
       "    <tr>\n",
       "      <th>2</th>\n",
       "      <td>489434</td>\n",
       "      <td>79323W</td>\n",
       "      <td>WHITE CHERRY LIGHTS</td>\n",
       "      <td>12</td>\n",
       "      <td>2009-12-01 07:45:00</td>\n",
       "      <td>6.75</td>\n",
       "      <td>13085.00</td>\n",
       "      <td>United Kingdom</td>\n",
       "      <td>81.00</td>\n",
       "    </tr>\n",
       "    <tr>\n",
       "      <th>3</th>\n",
       "      <td>489434</td>\n",
       "      <td>22041</td>\n",
       "      <td>RECORD FRAME 7\" SINGLE SIZE</td>\n",
       "      <td>48</td>\n",
       "      <td>2009-12-01 07:45:00</td>\n",
       "      <td>2.10</td>\n",
       "      <td>13085.00</td>\n",
       "      <td>United Kingdom</td>\n",
       "      <td>100.80</td>\n",
       "    </tr>\n",
       "    <tr>\n",
       "      <th>4</th>\n",
       "      <td>489434</td>\n",
       "      <td>21232</td>\n",
       "      <td>STRAWBERRY CERAMIC TRINKET BOX</td>\n",
       "      <td>24</td>\n",
       "      <td>2009-12-01 07:45:00</td>\n",
       "      <td>1.25</td>\n",
       "      <td>13085.00</td>\n",
       "      <td>United Kingdom</td>\n",
       "      <td>30.00</td>\n",
       "    </tr>\n",
       "  </tbody>\n",
       "</table>\n",
       "</div>"
      ],
      "text/plain": [
       "  Invoice StockCode                          Description  Quantity         InvoiceDate  Price  Customer ID         Country  TotalPrice\n",
       "0  489434     85048  15CM CHRISTMAS GLASS BALL 20 LIGHTS        12 2009-12-01 07:45:00   6.95     13085.00  United Kingdom       83.40\n",
       "1  489434    79323P                   PINK CHERRY LIGHTS        12 2009-12-01 07:45:00   6.75     13085.00  United Kingdom       81.00\n",
       "2  489434    79323W                  WHITE CHERRY LIGHTS        12 2009-12-01 07:45:00   6.75     13085.00  United Kingdom       81.00\n",
       "3  489434     22041         RECORD FRAME 7\" SINGLE SIZE         48 2009-12-01 07:45:00   2.10     13085.00  United Kingdom      100.80\n",
       "4  489434     21232       STRAWBERRY CERAMIC TRINKET BOX        24 2009-12-01 07:45:00   1.25     13085.00  United Kingdom       30.00"
      ]
     },
     "execution_count": 14,
     "metadata": {},
     "output_type": "execute_result"
    }
   ],
   "source": [
    "df.head()"
   ]
  },
  {
   "cell_type": "code",
   "execution_count": 15,
   "id": "8d35ff5d",
   "metadata": {
    "execution": {
     "iopub.execute_input": "2025-01-24T12:49:57.794818Z",
     "iopub.status.busy": "2025-01-24T12:49:57.794404Z",
     "iopub.status.idle": "2025-01-24T12:49:57.894632Z",
     "shell.execute_reply": "2025-01-24T12:49:57.893578Z"
    },
    "papermill": {
     "duration": 0.112216,
     "end_time": "2025-01-24T12:49:57.896278",
     "exception": false,
     "start_time": "2025-01-24T12:49:57.784062",
     "status": "completed"
    },
    "tags": []
   },
   "outputs": [
    {
     "data": {
      "text/html": [
       "<div>\n",
       "<style scoped>\n",
       "    .dataframe tbody tr th:only-of-type {\n",
       "        vertical-align: middle;\n",
       "    }\n",
       "\n",
       "    .dataframe tbody tr th {\n",
       "        vertical-align: top;\n",
       "    }\n",
       "\n",
       "    .dataframe thead th {\n",
       "        text-align: right;\n",
       "    }\n",
       "</style>\n",
       "<table border=\"1\" class=\"dataframe\">\n",
       "  <thead>\n",
       "    <tr style=\"text-align: right;\">\n",
       "      <th></th>\n",
       "      <th>Quantity</th>\n",
       "      <th>InvoiceDate</th>\n",
       "      <th>Price</th>\n",
       "      <th>Customer ID</th>\n",
       "      <th>TotalPrice</th>\n",
       "    </tr>\n",
       "  </thead>\n",
       "  <tbody>\n",
       "    <tr>\n",
       "      <th>count</th>\n",
       "      <td>406450.00</td>\n",
       "      <td>406450</td>\n",
       "      <td>406450.00</td>\n",
       "      <td>406450.00</td>\n",
       "      <td>406450.00</td>\n",
       "    </tr>\n",
       "    <tr>\n",
       "      <th>mean</th>\n",
       "      <td>13.62</td>\n",
       "      <td>2010-07-01 10:28:27.142083840</td>\n",
       "      <td>3.01</td>\n",
       "      <td>15373.48</td>\n",
       "      <td>21.36</td>\n",
       "    </tr>\n",
       "    <tr>\n",
       "      <th>min</th>\n",
       "      <td>1.00</td>\n",
       "      <td>2009-12-01 07:45:00</td>\n",
       "      <td>0.00</td>\n",
       "      <td>12346.00</td>\n",
       "      <td>0.00</td>\n",
       "    </tr>\n",
       "    <tr>\n",
       "      <th>1%</th>\n",
       "      <td>1.00</td>\n",
       "      <td>2009-12-02 15:04:00</td>\n",
       "      <td>0.29</td>\n",
       "      <td>12437.00</td>\n",
       "      <td>0.65</td>\n",
       "    </tr>\n",
       "    <tr>\n",
       "      <th>10%</th>\n",
       "      <td>1.00</td>\n",
       "      <td>2010-01-19 10:41:00</td>\n",
       "      <td>0.65</td>\n",
       "      <td>13050.00</td>\n",
       "      <td>2.10</td>\n",
       "    </tr>\n",
       "    <tr>\n",
       "      <th>25%</th>\n",
       "      <td>2.00</td>\n",
       "      <td>2010-03-26 14:01:00</td>\n",
       "      <td>1.25</td>\n",
       "      <td>14006.00</td>\n",
       "      <td>4.95</td>\n",
       "    </tr>\n",
       "    <tr>\n",
       "      <th>50%</th>\n",
       "      <td>5.00</td>\n",
       "      <td>2010-07-09 15:48:00</td>\n",
       "      <td>1.95</td>\n",
       "      <td>15325.00</td>\n",
       "      <td>11.85</td>\n",
       "    </tr>\n",
       "    <tr>\n",
       "      <th>75%</th>\n",
       "      <td>12.00</td>\n",
       "      <td>2010-10-14 17:09:00</td>\n",
       "      <td>3.75</td>\n",
       "      <td>16814.00</td>\n",
       "      <td>19.50</td>\n",
       "    </tr>\n",
       "    <tr>\n",
       "      <th>90%</th>\n",
       "      <td>24.00</td>\n",
       "      <td>2010-11-18 10:37:00</td>\n",
       "      <td>6.75</td>\n",
       "      <td>17706.00</td>\n",
       "      <td>35.40</td>\n",
       "    </tr>\n",
       "    <tr>\n",
       "      <th>95%</th>\n",
       "      <td>36.00</td>\n",
       "      <td>2010-11-28 13:51:00</td>\n",
       "      <td>8.50</td>\n",
       "      <td>17913.00</td>\n",
       "      <td>66.00</td>\n",
       "    </tr>\n",
       "    <tr>\n",
       "      <th>99%</th>\n",
       "      <td>144.00</td>\n",
       "      <td>2010-12-07 14:31:00</td>\n",
       "      <td>12.75</td>\n",
       "      <td>18196.00</td>\n",
       "      <td>197.10</td>\n",
       "    </tr>\n",
       "    <tr>\n",
       "      <th>max</th>\n",
       "      <td>19152.00</td>\n",
       "      <td>2010-12-09 20:01:00</td>\n",
       "      <td>295.00</td>\n",
       "      <td>18287.00</td>\n",
       "      <td>15818.40</td>\n",
       "    </tr>\n",
       "    <tr>\n",
       "      <th>std</th>\n",
       "      <td>96.99</td>\n",
       "      <td>NaN</td>\n",
       "      <td>4.37</td>\n",
       "      <td>1677.23</td>\n",
       "      <td>69.14</td>\n",
       "    </tr>\n",
       "  </tbody>\n",
       "</table>\n",
       "</div>"
      ],
      "text/plain": [
       "       Quantity                    InvoiceDate     Price  Customer ID  TotalPrice\n",
       "count 406450.00                         406450 406450.00    406450.00   406450.00\n",
       "mean      13.62  2010-07-01 10:28:27.142083840      3.01     15373.48       21.36\n",
       "min        1.00            2009-12-01 07:45:00      0.00     12346.00        0.00\n",
       "1%         1.00            2009-12-02 15:04:00      0.29     12437.00        0.65\n",
       "10%        1.00            2010-01-19 10:41:00      0.65     13050.00        2.10\n",
       "25%        2.00            2010-03-26 14:01:00      1.25     14006.00        4.95\n",
       "50%        5.00            2010-07-09 15:48:00      1.95     15325.00       11.85\n",
       "75%       12.00            2010-10-14 17:09:00      3.75     16814.00       19.50\n",
       "90%       24.00            2010-11-18 10:37:00      6.75     17706.00       35.40\n",
       "95%       36.00            2010-11-28 13:51:00      8.50     17913.00       66.00\n",
       "99%      144.00            2010-12-07 14:31:00     12.75     18196.00      197.10\n",
       "max    19152.00            2010-12-09 20:01:00    295.00     18287.00    15818.40\n",
       "std       96.99                            NaN      4.37      1677.23       69.14"
      ]
     },
     "execution_count": 15,
     "metadata": {},
     "output_type": "execute_result"
    }
   ],
   "source": [
    "df.describe([0.01, 0.1, 0.25, 0.50, 0.75, 0.9, 0.95, 0.99])"
   ]
  },
  {
   "cell_type": "code",
   "execution_count": 16,
   "id": "04510b13",
   "metadata": {
    "execution": {
     "iopub.execute_input": "2025-01-24T12:49:57.916937Z",
     "iopub.status.busy": "2025-01-24T12:49:57.916550Z",
     "iopub.status.idle": "2025-01-24T12:49:57.922815Z",
     "shell.execute_reply": "2025-01-24T12:49:57.921729Z"
    },
    "papermill": {
     "duration": 0.01862,
     "end_time": "2025-01-24T12:49:57.924593",
     "exception": false,
     "start_time": "2025-01-24T12:49:57.905973",
     "status": "completed"
    },
    "tags": []
   },
   "outputs": [],
   "source": [
    "max_invoice_date = df[\"InvoiceDate\"].max()\n",
    "today_date = (max_invoice_date + dt.timedelta (days=2))"
   ]
  },
  {
   "cell_type": "code",
   "execution_count": 17,
   "id": "992d2f10",
   "metadata": {
    "execution": {
     "iopub.execute_input": "2025-01-24T12:49:57.945187Z",
     "iopub.status.busy": "2025-01-24T12:49:57.944825Z",
     "iopub.status.idle": "2025-01-24T12:49:57.950411Z",
     "shell.execute_reply": "2025-01-24T12:49:57.949437Z"
    },
    "papermill": {
     "duration": 0.017658,
     "end_time": "2025-01-24T12:49:57.951975",
     "exception": false,
     "start_time": "2025-01-24T12:49:57.934317",
     "status": "completed"
    },
    "tags": []
   },
   "outputs": [
    {
     "data": {
      "text/plain": [
       "Timestamp('2010-12-11 20:01:00')"
      ]
     },
     "execution_count": 17,
     "metadata": {},
     "output_type": "execute_result"
    }
   ],
   "source": [
    "today_date"
   ]
  },
  {
   "cell_type": "code",
   "execution_count": 18,
   "id": "f020a7d8",
   "metadata": {
    "execution": {
     "iopub.execute_input": "2025-01-24T12:49:57.972672Z",
     "iopub.status.busy": "2025-01-24T12:49:57.972310Z",
     "iopub.status.idle": "2025-01-24T12:49:57.977740Z",
     "shell.execute_reply": "2025-01-24T12:49:57.976710Z"
    },
    "papermill": {
     "duration": 0.017598,
     "end_time": "2025-01-24T12:49:57.979420",
     "exception": false,
     "start_time": "2025-01-24T12:49:57.961822",
     "status": "completed"
    },
    "tags": []
   },
   "outputs": [
    {
     "data": {
      "text/plain": [
       "Timestamp('2010-12-09 20:01:00')"
      ]
     },
     "execution_count": 18,
     "metadata": {},
     "output_type": "execute_result"
    }
   ],
   "source": [
    "max_invoice_date"
   ]
  },
  {
   "cell_type": "code",
   "execution_count": 19,
   "id": "1068fa50",
   "metadata": {
    "execution": {
     "iopub.execute_input": "2025-01-24T12:49:58.000364Z",
     "iopub.status.busy": "2025-01-24T12:49:57.999951Z",
     "iopub.status.idle": "2025-01-24T12:49:58.445416Z",
     "shell.execute_reply": "2025-01-24T12:49:58.444303Z"
    },
    "papermill": {
     "duration": 0.457871,
     "end_time": "2025-01-24T12:49:58.447346",
     "exception": false,
     "start_time": "2025-01-24T12:49:57.989475",
     "status": "completed"
    },
    "tags": []
   },
   "outputs": [],
   "source": [
    "rfm = df.groupby(\"Customer ID\").agg({\"InvoiceDate\": lambda date: (today_date - date.max()).days,\n",
    "                                     \"Invoice\":\"nunique\",\n",
    "                                     \"TotalPrice\":\"sum\"})"
   ]
  },
  {
   "cell_type": "code",
   "execution_count": 20,
   "id": "c7ae118a",
   "metadata": {
    "execution": {
     "iopub.execute_input": "2025-01-24T12:49:58.468305Z",
     "iopub.status.busy": "2025-01-24T12:49:58.467902Z",
     "iopub.status.idle": "2025-01-24T12:49:58.477191Z",
     "shell.execute_reply": "2025-01-24T12:49:58.476278Z"
    },
    "papermill": {
     "duration": 0.021762,
     "end_time": "2025-01-24T12:49:58.479011",
     "exception": false,
     "start_time": "2025-01-24T12:49:58.457249",
     "status": "completed"
    },
    "tags": []
   },
   "outputs": [
    {
     "data": {
      "text/html": [
       "<div>\n",
       "<style scoped>\n",
       "    .dataframe tbody tr th:only-of-type {\n",
       "        vertical-align: middle;\n",
       "    }\n",
       "\n",
       "    .dataframe tbody tr th {\n",
       "        vertical-align: top;\n",
       "    }\n",
       "\n",
       "    .dataframe thead th {\n",
       "        text-align: right;\n",
       "    }\n",
       "</style>\n",
       "<table border=\"1\" class=\"dataframe\">\n",
       "  <thead>\n",
       "    <tr style=\"text-align: right;\">\n",
       "      <th></th>\n",
       "      <th>InvoiceDate</th>\n",
       "      <th>Invoice</th>\n",
       "      <th>TotalPrice</th>\n",
       "    </tr>\n",
       "    <tr>\n",
       "      <th>Customer ID</th>\n",
       "      <th></th>\n",
       "      <th></th>\n",
       "      <th></th>\n",
       "    </tr>\n",
       "  </thead>\n",
       "  <tbody>\n",
       "    <tr>\n",
       "      <th>12346.00</th>\n",
       "      <td>166</td>\n",
       "      <td>2</td>\n",
       "      <td>169.36</td>\n",
       "    </tr>\n",
       "    <tr>\n",
       "      <th>12347.00</th>\n",
       "      <td>4</td>\n",
       "      <td>2</td>\n",
       "      <td>1323.32</td>\n",
       "    </tr>\n",
       "    <tr>\n",
       "      <th>12348.00</th>\n",
       "      <td>75</td>\n",
       "      <td>1</td>\n",
       "      <td>221.16</td>\n",
       "    </tr>\n",
       "    <tr>\n",
       "      <th>12349.00</th>\n",
       "      <td>44</td>\n",
       "      <td>2</td>\n",
       "      <td>2221.14</td>\n",
       "    </tr>\n",
       "    <tr>\n",
       "      <th>12351.00</th>\n",
       "      <td>12</td>\n",
       "      <td>1</td>\n",
       "      <td>300.93</td>\n",
       "    </tr>\n",
       "  </tbody>\n",
       "</table>\n",
       "</div>"
      ],
      "text/plain": [
       "             InvoiceDate  Invoice  TotalPrice\n",
       "Customer ID                                  \n",
       "12346.00             166        2      169.36\n",
       "12347.00               4        2     1323.32\n",
       "12348.00              75        1      221.16\n",
       "12349.00              44        2     2221.14\n",
       "12351.00              12        1      300.93"
      ]
     },
     "execution_count": 20,
     "metadata": {},
     "output_type": "execute_result"
    }
   ],
   "source": [
    "rfm.head()"
   ]
  },
  {
   "cell_type": "code",
   "execution_count": 21,
   "id": "19993728",
   "metadata": {
    "execution": {
     "iopub.execute_input": "2025-01-24T12:49:58.500509Z",
     "iopub.status.busy": "2025-01-24T12:49:58.500028Z",
     "iopub.status.idle": "2025-01-24T12:49:58.506587Z",
     "shell.execute_reply": "2025-01-24T12:49:58.505305Z"
    },
    "papermill": {
     "duration": 0.01938,
     "end_time": "2025-01-24T12:49:58.508686",
     "exception": false,
     "start_time": "2025-01-24T12:49:58.489306",
     "status": "completed"
    },
    "tags": []
   },
   "outputs": [],
   "source": [
    "rfm.columns = [\"Recency\", \"Frequency\", \"Monetary\"]\n",
    "rfm = rfm[(rfm[\"Monetary\"]) > 0 & (rfm[\"Frequency\"] > 0)]"
   ]
  },
  {
   "cell_type": "code",
   "execution_count": 22,
   "id": "3981f7bd",
   "metadata": {
    "execution": {
     "iopub.execute_input": "2025-01-24T12:49:58.530130Z",
     "iopub.status.busy": "2025-01-24T12:49:58.529748Z",
     "iopub.status.idle": "2025-01-24T12:49:58.538597Z",
     "shell.execute_reply": "2025-01-24T12:49:58.537516Z"
    },
    "papermill": {
     "duration": 0.021566,
     "end_time": "2025-01-24T12:49:58.540369",
     "exception": false,
     "start_time": "2025-01-24T12:49:58.518803",
     "status": "completed"
    },
    "tags": []
   },
   "outputs": [
    {
     "data": {
      "text/html": [
       "<div>\n",
       "<style scoped>\n",
       "    .dataframe tbody tr th:only-of-type {\n",
       "        vertical-align: middle;\n",
       "    }\n",
       "\n",
       "    .dataframe tbody tr th {\n",
       "        vertical-align: top;\n",
       "    }\n",
       "\n",
       "    .dataframe thead th {\n",
       "        text-align: right;\n",
       "    }\n",
       "</style>\n",
       "<table border=\"1\" class=\"dataframe\">\n",
       "  <thead>\n",
       "    <tr style=\"text-align: right;\">\n",
       "      <th></th>\n",
       "      <th>Recency</th>\n",
       "      <th>Frequency</th>\n",
       "      <th>Monetary</th>\n",
       "    </tr>\n",
       "    <tr>\n",
       "      <th>Customer ID</th>\n",
       "      <th></th>\n",
       "      <th></th>\n",
       "      <th></th>\n",
       "    </tr>\n",
       "  </thead>\n",
       "  <tbody>\n",
       "    <tr>\n",
       "      <th>12346.00</th>\n",
       "      <td>166</td>\n",
       "      <td>2</td>\n",
       "      <td>169.36</td>\n",
       "    </tr>\n",
       "    <tr>\n",
       "      <th>12347.00</th>\n",
       "      <td>4</td>\n",
       "      <td>2</td>\n",
       "      <td>1323.32</td>\n",
       "    </tr>\n",
       "    <tr>\n",
       "      <th>12348.00</th>\n",
       "      <td>75</td>\n",
       "      <td>1</td>\n",
       "      <td>221.16</td>\n",
       "    </tr>\n",
       "    <tr>\n",
       "      <th>12349.00</th>\n",
       "      <td>44</td>\n",
       "      <td>2</td>\n",
       "      <td>2221.14</td>\n",
       "    </tr>\n",
       "    <tr>\n",
       "      <th>12351.00</th>\n",
       "      <td>12</td>\n",
       "      <td>1</td>\n",
       "      <td>300.93</td>\n",
       "    </tr>\n",
       "  </tbody>\n",
       "</table>\n",
       "</div>"
      ],
      "text/plain": [
       "             Recency  Frequency  Monetary\n",
       "Customer ID                              \n",
       "12346.00         166          2    169.36\n",
       "12347.00           4          2   1323.32\n",
       "12348.00          75          1    221.16\n",
       "12349.00          44          2   2221.14\n",
       "12351.00          12          1    300.93"
      ]
     },
     "execution_count": 22,
     "metadata": {},
     "output_type": "execute_result"
    }
   ],
   "source": [
    "rfm.head()"
   ]
  },
  {
   "cell_type": "code",
   "execution_count": 23,
   "id": "5ea0f265",
   "metadata": {
    "execution": {
     "iopub.execute_input": "2025-01-24T12:49:58.562266Z",
     "iopub.status.busy": "2025-01-24T12:49:58.561874Z",
     "iopub.status.idle": "2025-01-24T12:49:58.579038Z",
     "shell.execute_reply": "2025-01-24T12:49:58.577981Z"
    },
    "papermill": {
     "duration": 0.029782,
     "end_time": "2025-01-24T12:49:58.580742",
     "exception": false,
     "start_time": "2025-01-24T12:49:58.550960",
     "status": "completed"
    },
    "tags": []
   },
   "outputs": [
    {
     "data": {
      "text/html": [
       "<div>\n",
       "<style scoped>\n",
       "    .dataframe tbody tr th:only-of-type {\n",
       "        vertical-align: middle;\n",
       "    }\n",
       "\n",
       "    .dataframe tbody tr th {\n",
       "        vertical-align: top;\n",
       "    }\n",
       "\n",
       "    .dataframe thead th {\n",
       "        text-align: right;\n",
       "    }\n",
       "</style>\n",
       "<table border=\"1\" class=\"dataframe\">\n",
       "  <thead>\n",
       "    <tr style=\"text-align: right;\">\n",
       "      <th></th>\n",
       "      <th>Recency</th>\n",
       "      <th>Frequency</th>\n",
       "      <th>Monetary</th>\n",
       "    </tr>\n",
       "  </thead>\n",
       "  <tbody>\n",
       "    <tr>\n",
       "      <th>count</th>\n",
       "      <td>4286.00</td>\n",
       "      <td>4286.00</td>\n",
       "      <td>4286.00</td>\n",
       "    </tr>\n",
       "    <tr>\n",
       "      <th>mean</th>\n",
       "      <td>91.56</td>\n",
       "      <td>4.43</td>\n",
       "      <td>2025.18</td>\n",
       "    </tr>\n",
       "    <tr>\n",
       "      <th>std</th>\n",
       "      <td>96.35</td>\n",
       "      <td>7.95</td>\n",
       "      <td>8829.91</td>\n",
       "    </tr>\n",
       "    <tr>\n",
       "      <th>min</th>\n",
       "      <td>2.00</td>\n",
       "      <td>1.00</td>\n",
       "      <td>1.55</td>\n",
       "    </tr>\n",
       "    <tr>\n",
       "      <th>1%</th>\n",
       "      <td>2.00</td>\n",
       "      <td>1.00</td>\n",
       "      <td>40.76</td>\n",
       "    </tr>\n",
       "    <tr>\n",
       "      <th>10%</th>\n",
       "      <td>9.00</td>\n",
       "      <td>1.00</td>\n",
       "      <td>157.03</td>\n",
       "    </tr>\n",
       "    <tr>\n",
       "      <th>25%</th>\n",
       "      <td>19.00</td>\n",
       "      <td>1.00</td>\n",
       "      <td>307.66</td>\n",
       "    </tr>\n",
       "    <tr>\n",
       "      <th>50%</th>\n",
       "      <td>53.00</td>\n",
       "      <td>2.00</td>\n",
       "      <td>702.25</td>\n",
       "    </tr>\n",
       "    <tr>\n",
       "      <th>75%</th>\n",
       "      <td>136.75</td>\n",
       "      <td>5.00</td>\n",
       "      <td>1703.98</td>\n",
       "    </tr>\n",
       "    <tr>\n",
       "      <th>90%</th>\n",
       "      <td>255.00</td>\n",
       "      <td>9.00</td>\n",
       "      <td>3761.56</td>\n",
       "    </tr>\n",
       "    <tr>\n",
       "      <th>95%</th>\n",
       "      <td>303.00</td>\n",
       "      <td>13.00</td>\n",
       "      <td>6163.92</td>\n",
       "    </tr>\n",
       "    <tr>\n",
       "      <th>99%</th>\n",
       "      <td>369.00</td>\n",
       "      <td>31.15</td>\n",
       "      <td>19749.29</td>\n",
       "    </tr>\n",
       "    <tr>\n",
       "      <th>max</th>\n",
       "      <td>375.00</td>\n",
       "      <td>184.00</td>\n",
       "      <td>349164.35</td>\n",
       "    </tr>\n",
       "  </tbody>\n",
       "</table>\n",
       "</div>"
      ],
      "text/plain": [
       "       Recency  Frequency  Monetary\n",
       "count  4286.00    4286.00   4286.00\n",
       "mean     91.56       4.43   2025.18\n",
       "std      96.35       7.95   8829.91\n",
       "min       2.00       1.00      1.55\n",
       "1%        2.00       1.00     40.76\n",
       "10%       9.00       1.00    157.03\n",
       "25%      19.00       1.00    307.66\n",
       "50%      53.00       2.00    702.25\n",
       "75%     136.75       5.00   1703.98\n",
       "90%     255.00       9.00   3761.56\n",
       "95%     303.00      13.00   6163.92\n",
       "99%     369.00      31.15  19749.29\n",
       "max     375.00     184.00 349164.35"
      ]
     },
     "execution_count": 23,
     "metadata": {},
     "output_type": "execute_result"
    }
   ],
   "source": [
    "rfm.describe([0.01, 0.1, 0.25, 0.50, 0.75, 0.9, 0.95, 0.99])"
   ]
  },
  {
   "cell_type": "code",
   "execution_count": 24,
   "id": "b69ed162",
   "metadata": {
    "execution": {
     "iopub.execute_input": "2025-01-24T12:49:58.602698Z",
     "iopub.status.busy": "2025-01-24T12:49:58.602322Z",
     "iopub.status.idle": "2025-01-24T12:49:58.606526Z",
     "shell.execute_reply": "2025-01-24T12:49:58.605577Z"
    },
    "papermill": {
     "duration": 0.016992,
     "end_time": "2025-01-24T12:49:58.608281",
     "exception": false,
     "start_time": "2025-01-24T12:49:58.591289",
     "status": "completed"
    },
    "tags": []
   },
   "outputs": [],
   "source": [
    "def select_country(dataframe, country):\n",
    "    new_dataframe = dataframe.loc[datafrane[\"Country\"] == country]\n",
    "    return new_dataframe"
   ]
  },
  {
   "cell_type": "code",
   "execution_count": 25,
   "id": "986c8fe3",
   "metadata": {
    "execution": {
     "iopub.execute_input": "2025-01-24T12:49:58.630057Z",
     "iopub.status.busy": "2025-01-24T12:49:58.629733Z",
     "iopub.status.idle": "2025-01-24T12:49:58.634578Z",
     "shell.execute_reply": "2025-01-24T12:49:58.633575Z"
    },
    "papermill": {
     "duration": 0.01764,
     "end_time": "2025-01-24T12:49:58.636278",
     "exception": false,
     "start_time": "2025-01-24T12:49:58.618638",
     "status": "completed"
    },
    "tags": []
   },
   "outputs": [],
   "source": [
    "def outlier_thresholds(dataframe, col_name, q1=0.05, q3=0.95):\n",
    "    quartile1 = dataframe[col_name].quantile (q1)\n",
    "    quartile3 = dataframe[col_name].quantile (q3)\n",
    "    interquantile_range = quartile3 - quartile1\n",
    "    up_limit = quartile3 + 1.5 * interquantile_range\n",
    "    low_limit = quartile1 - 1.5 * interquantile_range\n",
    "    return low_limit, up_limit"
   ]
  },
  {
   "cell_type": "code",
   "execution_count": 26,
   "id": "5ebb097f",
   "metadata": {
    "execution": {
     "iopub.execute_input": "2025-01-24T12:49:58.658339Z",
     "iopub.status.busy": "2025-01-24T12:49:58.657914Z",
     "iopub.status.idle": "2025-01-24T12:49:58.662831Z",
     "shell.execute_reply": "2025-01-24T12:49:58.661707Z"
    },
    "papermill": {
     "duration": 0.01776,
     "end_time": "2025-01-24T12:49:58.664530",
     "exception": false,
     "start_time": "2025-01-24T12:49:58.646770",
     "status": "completed"
    },
    "tags": []
   },
   "outputs": [],
   "source": [
    "def check_outlier(dataframe, col_name, q1=0.05, q3=0.95):\n",
    "    low_limit, up_limit = outlier_thresholds(dataframe, col_name, q1, q3)\n",
    "    if dataframe[(dataframe[col_name] > up_limit) | (dataframe[col_name] < low_limit)].any(axis=None):\n",
    "        return True\n",
    "    else :\n",
    "        return False\n"
   ]
  },
  {
   "cell_type": "code",
   "execution_count": 27,
   "id": "9f0e1da0",
   "metadata": {
    "execution": {
     "iopub.execute_input": "2025-01-24T12:49:58.686611Z",
     "iopub.status.busy": "2025-01-24T12:49:58.686182Z",
     "iopub.status.idle": "2025-01-24T12:49:58.691070Z",
     "shell.execute_reply": "2025-01-24T12:49:58.690115Z"
    },
    "papermill": {
     "duration": 0.017945,
     "end_time": "2025-01-24T12:49:58.693041",
     "exception": false,
     "start_time": "2025-01-24T12:49:58.675096",
     "status": "completed"
    },
    "tags": []
   },
   "outputs": [],
   "source": [
    "def replace_with_thresholds(dataframe, variable):\n",
    "    low_limit, up_limit = outlier_thresholds (dataframe, variable)\n",
    "    dataframe.loc[(dataframe[variable] < low_limit), variable] = low_limit\n",
    "    dataframe.loc[(dataframe[variable] > up_limit), variable] = up_limit"
   ]
  },
  {
   "cell_type": "code",
   "execution_count": 28,
   "id": "fcc61fcf",
   "metadata": {
    "execution": {
     "iopub.execute_input": "2025-01-24T12:49:58.715209Z",
     "iopub.status.busy": "2025-01-24T12:49:58.714807Z",
     "iopub.status.idle": "2025-01-24T12:49:58.730956Z",
     "shell.execute_reply": "2025-01-24T12:49:58.729602Z"
    },
    "papermill": {
     "duration": 0.029168,
     "end_time": "2025-01-24T12:49:58.732794",
     "exception": false,
     "start_time": "2025-01-24T12:49:58.703626",
     "status": "completed"
    },
    "tags": []
   },
   "outputs": [
    {
     "name": "stdout",
     "output_type": "stream",
     "text": [
      "Recency False\n",
      "Frequency True\n",
      "Monetary True\n"
     ]
    }
   ],
   "source": [
    "for col in rfm.columns:\n",
    "    print(col, check_outlier(rfm, col))"
   ]
  },
  {
   "cell_type": "code",
   "execution_count": 29,
   "id": "9825f4fe",
   "metadata": {
    "execution": {
     "iopub.execute_input": "2025-01-24T12:49:58.755059Z",
     "iopub.status.busy": "2025-01-24T12:49:58.754721Z",
     "iopub.status.idle": "2025-01-24T12:49:58.766840Z",
     "shell.execute_reply": "2025-01-24T12:49:58.765992Z"
    },
    "papermill": {
     "duration": 0.025393,
     "end_time": "2025-01-24T12:49:58.768695",
     "exception": false,
     "start_time": "2025-01-24T12:49:58.743302",
     "status": "completed"
    },
    "tags": []
   },
   "outputs": [],
   "source": [
    "for col in rfm.columns:\n",
    "    replace_with_thresholds (rfm, col)"
   ]
  },
  {
   "cell_type": "code",
   "execution_count": 30,
   "id": "cda21d41",
   "metadata": {
    "execution": {
     "iopub.execute_input": "2025-01-24T12:49:58.790799Z",
     "iopub.status.busy": "2025-01-24T12:49:58.790446Z",
     "iopub.status.idle": "2025-01-24T12:49:58.805777Z",
     "shell.execute_reply": "2025-01-24T12:49:58.804730Z"
    },
    "papermill": {
     "duration": 0.028244,
     "end_time": "2025-01-24T12:49:58.807373",
     "exception": false,
     "start_time": "2025-01-24T12:49:58.779129",
     "status": "completed"
    },
    "tags": []
   },
   "outputs": [
    {
     "data": {
      "text/html": [
       "<div>\n",
       "<style scoped>\n",
       "    .dataframe tbody tr th:only-of-type {\n",
       "        vertical-align: middle;\n",
       "    }\n",
       "\n",
       "    .dataframe tbody tr th {\n",
       "        vertical-align: top;\n",
       "    }\n",
       "\n",
       "    .dataframe thead th {\n",
       "        text-align: right;\n",
       "    }\n",
       "</style>\n",
       "<table border=\"1\" class=\"dataframe\">\n",
       "  <thead>\n",
       "    <tr style=\"text-align: right;\">\n",
       "      <th></th>\n",
       "      <th>Recency</th>\n",
       "      <th>Frequency</th>\n",
       "      <th>Monetary</th>\n",
       "    </tr>\n",
       "  </thead>\n",
       "  <tbody>\n",
       "    <tr>\n",
       "      <th>count</th>\n",
       "      <td>4286.00</td>\n",
       "      <td>4286.00</td>\n",
       "      <td>4286.00</td>\n",
       "    </tr>\n",
       "    <tr>\n",
       "      <th>mean</th>\n",
       "      <td>91.56</td>\n",
       "      <td>4.11</td>\n",
       "      <td>1588.58</td>\n",
       "    </tr>\n",
       "    <tr>\n",
       "      <th>std</th>\n",
       "      <td>96.35</td>\n",
       "      <td>4.89</td>\n",
       "      <td>2523.16</td>\n",
       "    </tr>\n",
       "    <tr>\n",
       "      <th>min</th>\n",
       "      <td>2.00</td>\n",
       "      <td>1.00</td>\n",
       "      <td>1.55</td>\n",
       "    </tr>\n",
       "    <tr>\n",
       "      <th>25%</th>\n",
       "      <td>19.00</td>\n",
       "      <td>1.00</td>\n",
       "      <td>307.66</td>\n",
       "    </tr>\n",
       "    <tr>\n",
       "      <th>50%</th>\n",
       "      <td>53.00</td>\n",
       "      <td>2.00</td>\n",
       "      <td>702.25</td>\n",
       "    </tr>\n",
       "    <tr>\n",
       "      <th>75%</th>\n",
       "      <td>136.75</td>\n",
       "      <td>5.00</td>\n",
       "      <td>1703.98</td>\n",
       "    </tr>\n",
       "    <tr>\n",
       "      <th>max</th>\n",
       "      <td>375.00</td>\n",
       "      <td>31.00</td>\n",
       "      <td>15243.20</td>\n",
       "    </tr>\n",
       "  </tbody>\n",
       "</table>\n",
       "</div>"
      ],
      "text/plain": [
       "       Recency  Frequency  Monetary\n",
       "count  4286.00    4286.00   4286.00\n",
       "mean     91.56       4.11   1588.58\n",
       "std      96.35       4.89   2523.16\n",
       "min       2.00       1.00      1.55\n",
       "25%      19.00       1.00    307.66\n",
       "50%      53.00       2.00    702.25\n",
       "75%     136.75       5.00   1703.98\n",
       "max     375.00      31.00  15243.20"
      ]
     },
     "execution_count": 30,
     "metadata": {},
     "output_type": "execute_result"
    }
   ],
   "source": [
    "rfm.describe()"
   ]
  },
  {
   "cell_type": "code",
   "execution_count": 31,
   "id": "708662dc",
   "metadata": {
    "execution": {
     "iopub.execute_input": "2025-01-24T12:49:58.829877Z",
     "iopub.status.busy": "2025-01-24T12:49:58.829506Z",
     "iopub.status.idle": "2025-01-24T12:49:59.234610Z",
     "shell.execute_reply": "2025-01-24T12:49:59.233524Z"
    },
    "papermill": {
     "duration": 0.418513,
     "end_time": "2025-01-24T12:49:59.236462",
     "exception": false,
     "start_time": "2025-01-24T12:49:58.817949",
     "status": "completed"
    },
    "tags": []
   },
   "outputs": [
    {
     "data": {
      "image/png": "[encoded data removed]",
      "text/plain": [
       "<Figure size 800x550 with 1 Axes>"
      ]
     },
     "metadata": {},
     "output_type": "display_data"
    }
   ],
   "source": [
    "rfm[\"Recency\"].hist (bins=20)\n",
    "plt.title(\"Recency\")\n",
    "plt.show()"
   ]
  },
  {
   "cell_type": "code",
   "execution_count": 32,
   "id": "3541cf4e",
   "metadata": {
    "execution": {
     "iopub.execute_input": "2025-01-24T12:49:59.259967Z",
     "iopub.status.busy": "2025-01-24T12:49:59.259616Z",
     "iopub.status.idle": "2025-01-24T12:49:59.273777Z",
     "shell.execute_reply": "2025-01-24T12:49:59.272692Z"
    },
    "papermill": {
     "duration": 0.027967,
     "end_time": "2025-01-24T12:49:59.275633",
     "exception": false,
     "start_time": "2025-01-24T12:49:59.247666",
     "status": "completed"
    },
    "tags": []
   },
   "outputs": [
    {
     "data": {
      "text/html": [
       "<div>\n",
       "<style scoped>\n",
       "    .dataframe tbody tr th:only-of-type {\n",
       "        vertical-align: middle;\n",
       "    }\n",
       "\n",
       "    .dataframe tbody tr th {\n",
       "        vertical-align: top;\n",
       "    }\n",
       "\n",
       "    .dataframe thead th {\n",
       "        text-align: right;\n",
       "    }\n",
       "</style>\n",
       "<table border=\"1\" class=\"dataframe\">\n",
       "  <thead>\n",
       "    <tr style=\"text-align: right;\">\n",
       "      <th></th>\n",
       "      <th>Recency</th>\n",
       "      <th>Frequency</th>\n",
       "      <th>Monetary</th>\n",
       "      <th>LOG_Recency</th>\n",
       "      <th>LOG_Frequency</th>\n",
       "    </tr>\n",
       "    <tr>\n",
       "      <th>Customer ID</th>\n",
       "      <th></th>\n",
       "      <th></th>\n",
       "      <th></th>\n",
       "      <th></th>\n",
       "      <th></th>\n",
       "    </tr>\n",
       "  </thead>\n",
       "  <tbody>\n",
       "    <tr>\n",
       "      <th>12346.00</th>\n",
       "      <td>166.00</td>\n",
       "      <td>2</td>\n",
       "      <td>169.36</td>\n",
       "      <td>5.12</td>\n",
       "      <td>1.10</td>\n",
       "    </tr>\n",
       "    <tr>\n",
       "      <th>12347.00</th>\n",
       "      <td>4.00</td>\n",
       "      <td>2</td>\n",
       "      <td>1323.32</td>\n",
       "      <td>1.61</td>\n",
       "      <td>1.10</td>\n",
       "    </tr>\n",
       "    <tr>\n",
       "      <th>12348.00</th>\n",
       "      <td>75.00</td>\n",
       "      <td>1</td>\n",
       "      <td>221.16</td>\n",
       "      <td>4.33</td>\n",
       "      <td>0.69</td>\n",
       "    </tr>\n",
       "    <tr>\n",
       "      <th>12349.00</th>\n",
       "      <td>44.00</td>\n",
       "      <td>2</td>\n",
       "      <td>2221.14</td>\n",
       "      <td>3.81</td>\n",
       "      <td>1.10</td>\n",
       "    </tr>\n",
       "    <tr>\n",
       "      <th>12351.00</th>\n",
       "      <td>12.00</td>\n",
       "      <td>1</td>\n",
       "      <td>300.93</td>\n",
       "      <td>2.56</td>\n",
       "      <td>0.69</td>\n",
       "    </tr>\n",
       "  </tbody>\n",
       "</table>\n",
       "</div>"
      ],
      "text/plain": [
       "             Recency  Frequency  Monetary  LOG_Recency  LOG_Frequency\n",
       "Customer ID                                                          \n",
       "12346.00      166.00          2    169.36         5.12           1.10\n",
       "12347.00        4.00          2   1323.32         1.61           1.10\n",
       "12348.00       75.00          1    221.16         4.33           0.69\n",
       "12349.00       44.00          2   2221.14         3.81           1.10\n",
       "12351.00       12.00          1    300.93         2.56           0.69"
      ]
     },
     "execution_count": 32,
     "metadata": {},
     "output_type": "execute_result"
    }
   ],
   "source": [
    "# Log Transformation\n",
    "\n",
    "for col in [\"Recency\", \"Frequency\"]:\n",
    "    rfm[f\"LOG_{col}\"] = np.log1p(rfm[col])\n",
    "rfm.head()"
   ]
  },
  {
   "cell_type": "code",
   "execution_count": 33,
   "id": "917a3e6d",
   "metadata": {
    "execution": {
     "iopub.execute_input": "2025-01-24T12:49:59.300455Z",
     "iopub.status.busy": "2025-01-24T12:49:59.299972Z",
     "iopub.status.idle": "2025-01-24T12:49:59.321986Z",
     "shell.execute_reply": "2025-01-24T12:49:59.321042Z"
    },
    "papermill": {
     "duration": 0.03629,
     "end_time": "2025-01-24T12:49:59.323868",
     "exception": false,
     "start_time": "2025-01-24T12:49:59.287578",
     "status": "completed"
    },
    "tags": []
   },
   "outputs": [],
   "source": [
    "# Scaler\n",
    "sc = StandardScaler()\n",
    "sc.fit(rfm[[\"LOG_Recency\", \"LOG_Frequency\"]])\n",
    "scaled_rf = sc.transform(rfm[[\"LOG_Recency\", \"LOG_Frequency\"]])"
   ]
  },
  {
   "cell_type": "code",
   "execution_count": 34,
   "id": "bb3463aa",
   "metadata": {
    "execution": {
     "iopub.execute_input": "2025-01-24T12:49:59.348267Z",
     "iopub.status.busy": "2025-01-24T12:49:59.347862Z",
     "iopub.status.idle": "2025-01-24T12:49:59.357874Z",
     "shell.execute_reply": "2025-01-24T12:49:59.356900Z"
    },
    "papermill": {
     "duration": 0.02347,
     "end_time": "2025-01-24T12:49:59.359359",
     "exception": false,
     "start_time": "2025-01-24T12:49:59.335889",
     "status": "completed"
    },
    "tags": []
   },
   "outputs": [
    {
     "data": {
      "text/html": [
       "<div>\n",
       "<style scoped>\n",
       "    .dataframe tbody tr th:only-of-type {\n",
       "        vertical-align: middle;\n",
       "    }\n",
       "\n",
       "    .dataframe tbody tr th {\n",
       "        vertical-align: top;\n",
       "    }\n",
       "\n",
       "    .dataframe thead th {\n",
       "        text-align: right;\n",
       "    }\n",
       "</style>\n",
       "<table border=\"1\" class=\"dataframe\">\n",
       "  <thead>\n",
       "    <tr style=\"text-align: right;\">\n",
       "      <th></th>\n",
       "      <th>LOG_Recency</th>\n",
       "      <th>LOG_Frequency</th>\n",
       "    </tr>\n",
       "    <tr>\n",
       "      <th>Customer ID</th>\n",
       "      <th></th>\n",
       "      <th></th>\n",
       "    </tr>\n",
       "  </thead>\n",
       "  <tbody>\n",
       "    <tr>\n",
       "      <th>12346.00</th>\n",
       "      <td>0.99</td>\n",
       "      <td>-0.40</td>\n",
       "    </tr>\n",
       "    <tr>\n",
       "      <th>12347.00</th>\n",
       "      <td>-1.85</td>\n",
       "      <td>-0.40</td>\n",
       "    </tr>\n",
       "    <tr>\n",
       "      <th>12348.00</th>\n",
       "      <td>0.35</td>\n",
       "      <td>-1.00</td>\n",
       "    </tr>\n",
       "    <tr>\n",
       "      <th>12349.00</th>\n",
       "      <td>-0.07</td>\n",
       "      <td>-0.40</td>\n",
       "    </tr>\n",
       "    <tr>\n",
       "      <th>12351.00</th>\n",
       "      <td>-1.08</td>\n",
       "      <td>-1.00</td>\n",
       "    </tr>\n",
       "    <tr>\n",
       "      <th>...</th>\n",
       "      <td>...</td>\n",
       "      <td>...</td>\n",
       "    </tr>\n",
       "    <tr>\n",
       "      <th>18283.00</th>\n",
       "      <td>-0.73</td>\n",
       "      <td>0.87</td>\n",
       "    </tr>\n",
       "    <tr>\n",
       "      <th>18284.00</th>\n",
       "      <td>0.27</td>\n",
       "      <td>-1.00</td>\n",
       "    </tr>\n",
       "    <tr>\n",
       "      <th>18285.00</th>\n",
       "      <td>1.45</td>\n",
       "      <td>-1.00</td>\n",
       "    </tr>\n",
       "    <tr>\n",
       "      <th>18286.00</th>\n",
       "      <td>0.68</td>\n",
       "      <td>-0.40</td>\n",
       "    </tr>\n",
       "    <tr>\n",
       "      <th>18287.00</th>\n",
       "      <td>-0.73</td>\n",
       "      <td>0.37</td>\n",
       "    </tr>\n",
       "  </tbody>\n",
       "</table>\n",
       "<p>4286 rows × 2 columns</p>\n",
       "</div>"
      ],
      "text/plain": [
       "             LOG_Recency  LOG_Frequency\n",
       "Customer ID                            \n",
       "12346.00            0.99          -0.40\n",
       "12347.00           -1.85          -0.40\n",
       "12348.00            0.35          -1.00\n",
       "12349.00           -0.07          -0.40\n",
       "12351.00           -1.08          -1.00\n",
       "...                  ...            ...\n",
       "18283.00           -0.73           0.87\n",
       "18284.00            0.27          -1.00\n",
       "18285.00            1.45          -1.00\n",
       "18286.00            0.68          -0.40\n",
       "18287.00           -0.73           0.37\n",
       "\n",
       "[4286 rows x 2 columns]"
      ]
     },
     "execution_count": 34,
     "metadata": {},
     "output_type": "execute_result"
    }
   ],
   "source": [
    "scaled_df = pd.DataFrame (index=rfm.index, columns=[\"LOG_Recency\", \"LOG_Frequency\"], data=scaled_rf)\n",
    "scaled_df"
   ]
  },
  {
   "cell_type": "code",
   "execution_count": 35,
   "id": "75af0972",
   "metadata": {
    "execution": {
     "iopub.execute_input": "2025-01-24T12:49:59.383495Z",
     "iopub.status.busy": "2025-01-24T12:49:59.383057Z",
     "iopub.status.idle": "2025-01-24T12:50:03.613781Z",
     "shell.execute_reply": "2025-01-24T12:50:03.612628Z"
    },
    "papermill": {
     "duration": 4.245177,
     "end_time": "2025-01-24T12:50:03.615989",
     "exception": false,
     "start_time": "2025-01-24T12:49:59.370812",
     "status": "completed"
    },
    "tags": []
   },
   "outputs": [
    {
     "data": {
      "image/png": "[encoded data removed]",
      "text/plain": [
       "<Figure size 800x550 with 2 Axes>"
      ]
     },
     "metadata": {},
     "output_type": "display_data"
    },
    {
     "data": {
      "text/plain": [
       "<Axes: title={'center': 'Distortion Score Elbow for KMeans Clustering'}, xlabel='k', ylabel='distortion score'>"
      ]
     },
     "execution_count": 35,
     "metadata": {},
     "output_type": "execute_result"
    }
   ],
   "source": [
    "kmeans = KMeans()\n",
    "elbow = KElbowVisualizer(kmeans, k=30)\n",
    "elbow.fit(scaled_df)\n",
    "elbow.show()"
   ]
  },
  {
   "cell_type": "code",
   "execution_count": 36,
   "id": "e30764df",
   "metadata": {
    "execution": {
     "iopub.execute_input": "2025-01-24T12:50:03.644086Z",
     "iopub.status.busy": "2025-01-24T12:50:03.643701Z",
     "iopub.status.idle": "2025-01-24T12:50:03.648114Z",
     "shell.execute_reply": "2025-01-24T12:50:03.647018Z"
    },
    "papermill": {
     "duration": 0.020183,
     "end_time": "2025-01-24T12:50:03.649687",
     "exception": false,
     "start_time": "2025-01-24T12:50:03.629504",
     "status": "completed"
    },
    "tags": []
   },
   "outputs": [
    {
     "name": "stdout",
     "output_type": "stream",
     "text": [
      "8\n"
     ]
    }
   ],
   "source": [
    "k_ = elbow.elbow_value_\n",
    "print(k_)"
   ]
  },
  {
   "cell_type": "code",
   "execution_count": 37,
   "id": "68a6387e",
   "metadata": {
    "execution": {
     "iopub.execute_input": "2025-01-24T12:50:03.678000Z",
     "iopub.status.busy": "2025-01-24T12:50:03.677609Z",
     "iopub.status.idle": "2025-01-24T12:50:03.758730Z",
     "shell.execute_reply": "2025-01-24T12:50:03.757626Z"
    },
    "papermill": {
     "duration": 0.098277,
     "end_time": "2025-01-24T12:50:03.761036",
     "exception": false,
     "start_time": "2025-01-24T12:50:03.662759",
     "status": "completed"
    },
    "tags": []
   },
   "outputs": [],
   "source": [
    "k_means = KMeans(n_clusters=k_, random_state=99).fit(scaled_df)\n",
    "segments = k_means.labels_"
   ]
  },
  {
   "cell_type": "code",
   "execution_count": 38,
   "id": "87444cdd",
   "metadata": {
    "execution": {
     "iopub.execute_input": "2025-01-24T12:50:03.788921Z",
     "iopub.status.busy": "2025-01-24T12:50:03.788494Z",
     "iopub.status.idle": "2025-01-24T12:50:03.795875Z",
     "shell.execute_reply": "2025-01-24T12:50:03.794635Z"
    },
    "papermill": {
     "duration": 0.023355,
     "end_time": "2025-01-24T12:50:03.797684",
     "exception": false,
     "start_time": "2025-01-24T12:50:03.774329",
     "status": "completed"
    },
    "tags": []
   },
   "outputs": [
    {
     "data": {
      "text/plain": [
       "array([1, 0, 2, ..., 1, 2, 7], dtype=int32)"
      ]
     },
     "execution_count": 38,
     "metadata": {},
     "output_type": "execute_result"
    }
   ],
   "source": [
    "segments"
   ]
  },
  {
   "cell_type": "code",
   "execution_count": 39,
   "id": "9d4b31c4",
   "metadata": {
    "execution": {
     "iopub.execute_input": "2025-01-24T12:50:03.826456Z",
     "iopub.status.busy": "2025-01-24T12:50:03.825988Z",
     "iopub.status.idle": "2025-01-24T12:50:03.837206Z",
     "shell.execute_reply": "2025-01-24T12:50:03.836115Z"
    },
    "papermill": {
     "duration": 0.026951,
     "end_time": "2025-01-24T12:50:03.838866",
     "exception": false,
     "start_time": "2025-01-24T12:50:03.811915",
     "status": "completed"
    },
    "tags": []
   },
   "outputs": [
    {
     "data": {
      "text/html": [
       "<div>\n",
       "<style scoped>\n",
       "    .dataframe tbody tr th:only-of-type {\n",
       "        vertical-align: middle;\n",
       "    }\n",
       "\n",
       "    .dataframe tbody tr th {\n",
       "        vertical-align: top;\n",
       "    }\n",
       "\n",
       "    .dataframe thead th {\n",
       "        text-align: right;\n",
       "    }\n",
       "</style>\n",
       "<table border=\"1\" class=\"dataframe\">\n",
       "  <thead>\n",
       "    <tr style=\"text-align: right;\">\n",
       "      <th></th>\n",
       "      <th>Recency</th>\n",
       "      <th>Frequency</th>\n",
       "      <th>Monetary</th>\n",
       "      <th>LOG_Recency</th>\n",
       "      <th>LOG_Frequency</th>\n",
       "      <th>KMeans_Segments</th>\n",
       "    </tr>\n",
       "    <tr>\n",
       "      <th>Customer ID</th>\n",
       "      <th></th>\n",
       "      <th></th>\n",
       "      <th></th>\n",
       "      <th></th>\n",
       "      <th></th>\n",
       "      <th></th>\n",
       "    </tr>\n",
       "  </thead>\n",
       "  <tbody>\n",
       "    <tr>\n",
       "      <th>12346.00</th>\n",
       "      <td>166.00</td>\n",
       "      <td>2</td>\n",
       "      <td>169.36</td>\n",
       "      <td>5.12</td>\n",
       "      <td>1.10</td>\n",
       "      <td>1</td>\n",
       "    </tr>\n",
       "    <tr>\n",
       "      <th>12347.00</th>\n",
       "      <td>4.00</td>\n",
       "      <td>2</td>\n",
       "      <td>1323.32</td>\n",
       "      <td>1.61</td>\n",
       "      <td>1.10</td>\n",
       "      <td>0</td>\n",
       "    </tr>\n",
       "    <tr>\n",
       "      <th>12348.00</th>\n",
       "      <td>75.00</td>\n",
       "      <td>1</td>\n",
       "      <td>221.16</td>\n",
       "      <td>4.33</td>\n",
       "      <td>0.69</td>\n",
       "      <td>2</td>\n",
       "    </tr>\n",
       "    <tr>\n",
       "      <th>12349.00</th>\n",
       "      <td>44.00</td>\n",
       "      <td>2</td>\n",
       "      <td>2221.14</td>\n",
       "      <td>3.81</td>\n",
       "      <td>1.10</td>\n",
       "      <td>2</td>\n",
       "    </tr>\n",
       "    <tr>\n",
       "      <th>12351.00</th>\n",
       "      <td>12.00</td>\n",
       "      <td>1</td>\n",
       "      <td>300.93</td>\n",
       "      <td>2.56</td>\n",
       "      <td>0.69</td>\n",
       "      <td>6</td>\n",
       "    </tr>\n",
       "  </tbody>\n",
       "</table>\n",
       "</div>"
      ],
      "text/plain": [
       "             Recency  Frequency  Monetary  LOG_Recency  LOG_Frequency  KMeans_Segments\n",
       "Customer ID                                                                           \n",
       "12346.00      166.00          2    169.36         5.12           1.10                1\n",
       "12347.00        4.00          2   1323.32         1.61           1.10                0\n",
       "12348.00       75.00          1    221.16         4.33           0.69                2\n",
       "12349.00       44.00          2   2221.14         3.81           1.10                2\n",
       "12351.00       12.00          1    300.93         2.56           0.69                6"
      ]
     },
     "execution_count": 39,
     "metadata": {},
     "output_type": "execute_result"
    }
   ],
   "source": [
    "rfm[\"KMeans_Segments\"] = segments\n",
    "rfm.head()"
   ]
  },
  {
   "cell_type": "code",
   "execution_count": 40,
   "id": "4ad88cb7",
   "metadata": {
    "execution": {
     "iopub.execute_input": "2025-01-24T12:50:03.867310Z",
     "iopub.status.busy": "2025-01-24T12:50:03.866864Z",
     "iopub.status.idle": "2025-01-24T12:50:03.889939Z",
     "shell.execute_reply": "2025-01-24T12:50:03.888738Z"
    },
    "papermill": {
     "duration": 0.039271,
     "end_time": "2025-01-24T12:50:03.891802",
     "exception": false,
     "start_time": "2025-01-24T12:50:03.852531",
     "status": "completed"
    },
    "tags": []
   },
   "outputs": [
    {
     "data": {
      "text/html": [
       "<div>\n",
       "<style scoped>\n",
       "    .dataframe tbody tr th:only-of-type {\n",
       "        vertical-align: middle;\n",
       "    }\n",
       "\n",
       "    .dataframe tbody tr th {\n",
       "        vertical-align: top;\n",
       "    }\n",
       "\n",
       "    .dataframe thead tr th {\n",
       "        text-align: left;\n",
       "    }\n",
       "\n",
       "    .dataframe thead tr:last-of-type th {\n",
       "        text-align: right;\n",
       "    }\n",
       "</style>\n",
       "<table border=\"1\" class=\"dataframe\">\n",
       "  <thead>\n",
       "    <tr>\n",
       "      <th></th>\n",
       "      <th colspan=\"3\" halign=\"left\">Recency</th>\n",
       "      <th colspan=\"3\" halign=\"left\">Frequency</th>\n",
       "      <th colspan=\"3\" halign=\"left\">Monetary</th>\n",
       "    </tr>\n",
       "    <tr>\n",
       "      <th></th>\n",
       "      <th>mean</th>\n",
       "      <th>median</th>\n",
       "      <th>count</th>\n",
       "      <th>mean</th>\n",
       "      <th>median</th>\n",
       "      <th>count</th>\n",
       "      <th>mean</th>\n",
       "      <th>median</th>\n",
       "      <th>count</th>\n",
       "    </tr>\n",
       "    <tr>\n",
       "      <th>KMeans_Segments</th>\n",
       "      <th></th>\n",
       "      <th></th>\n",
       "      <th></th>\n",
       "      <th></th>\n",
       "      <th></th>\n",
       "      <th></th>\n",
       "      <th></th>\n",
       "      <th></th>\n",
       "      <th></th>\n",
       "    </tr>\n",
       "  </thead>\n",
       "  <tbody>\n",
       "    <tr>\n",
       "      <th>0</th>\n",
       "      <td>6.39</td>\n",
       "      <td>5.00</td>\n",
       "      <td>352</td>\n",
       "      <td>5.23</td>\n",
       "      <td>5.00</td>\n",
       "      <td>352</td>\n",
       "      <td>1896.92</td>\n",
       "      <td>1382.80</td>\n",
       "      <td>352</td>\n",
       "    </tr>\n",
       "    <tr>\n",
       "      <th>1</th>\n",
       "      <td>241.97</td>\n",
       "      <td>234.00</td>\n",
       "      <td>939</td>\n",
       "      <td>1.24</td>\n",
       "      <td>1.00</td>\n",
       "      <td>939</td>\n",
       "      <td>403.23</td>\n",
       "      <td>266.50</td>\n",
       "      <td>939</td>\n",
       "    </tr>\n",
       "    <tr>\n",
       "      <th>2</th>\n",
       "      <td>69.27</td>\n",
       "      <td>66.00</td>\n",
       "      <td>790</td>\n",
       "      <td>1.43</td>\n",
       "      <td>1.00</td>\n",
       "      <td>790</td>\n",
       "      <td>533.50</td>\n",
       "      <td>378.46</td>\n",
       "      <td>790</td>\n",
       "    </tr>\n",
       "    <tr>\n",
       "      <th>3</th>\n",
       "      <td>32.65</td>\n",
       "      <td>25.00</td>\n",
       "      <td>384</td>\n",
       "      <td>10.40</td>\n",
       "      <td>9.00</td>\n",
       "      <td>384</td>\n",
       "      <td>4145.36</td>\n",
       "      <td>3148.78</td>\n",
       "      <td>384</td>\n",
       "    </tr>\n",
       "    <tr>\n",
       "      <th>4</th>\n",
       "      <td>6.02</td>\n",
       "      <td>5.00</td>\n",
       "      <td>214</td>\n",
       "      <td>19.23</td>\n",
       "      <td>17.00</td>\n",
       "      <td>214</td>\n",
       "      <td>7843.35</td>\n",
       "      <td>6008.61</td>\n",
       "      <td>214</td>\n",
       "    </tr>\n",
       "    <tr>\n",
       "      <th>5</th>\n",
       "      <td>118.37</td>\n",
       "      <td>96.00</td>\n",
       "      <td>578</td>\n",
       "      <td>4.17</td>\n",
       "      <td>4.00</td>\n",
       "      <td>578</td>\n",
       "      <td>1667.55</td>\n",
       "      <td>1234.72</td>\n",
       "      <td>578</td>\n",
       "    </tr>\n",
       "    <tr>\n",
       "      <th>6</th>\n",
       "      <td>20.11</td>\n",
       "      <td>20.00</td>\n",
       "      <td>474</td>\n",
       "      <td>1.47</td>\n",
       "      <td>1.00</td>\n",
       "      <td>474</td>\n",
       "      <td>506.44</td>\n",
       "      <td>350.01</td>\n",
       "      <td>474</td>\n",
       "    </tr>\n",
       "    <tr>\n",
       "      <th>7</th>\n",
       "      <td>29.66</td>\n",
       "      <td>29.00</td>\n",
       "      <td>555</td>\n",
       "      <td>4.08</td>\n",
       "      <td>4.00</td>\n",
       "      <td>555</td>\n",
       "      <td>1561.51</td>\n",
       "      <td>1189.38</td>\n",
       "      <td>555</td>\n",
       "    </tr>\n",
       "  </tbody>\n",
       "</table>\n",
       "</div>"
      ],
      "text/plain": [
       "                Recency              Frequency              Monetary              \n",
       "                   mean median count      mean median count     mean  median count\n",
       "KMeans_Segments                                                                   \n",
       "0                  6.39   5.00   352      5.23   5.00   352  1896.92 1382.80   352\n",
       "1                241.97 234.00   939      1.24   1.00   939   403.23  266.50   939\n",
       "2                 69.27  66.00   790      1.43   1.00   790   533.50  378.46   790\n",
       "3                 32.65  25.00   384     10.40   9.00   384  4145.36 3148.78   384\n",
       "4                  6.02   5.00   214     19.23  17.00   214  7843.35 6008.61   214\n",
       "5                118.37  96.00   578      4.17   4.00   578  1667.55 1234.72   578\n",
       "6                 20.11  20.00   474      1.47   1.00   474   506.44  350.01   474\n",
       "7                 29.66  29.00   555      4.08   4.00   555  1561.51 1189.38   555"
      ]
     },
     "execution_count": 40,
     "metadata": {},
     "output_type": "execute_result"
    }
   ],
   "source": [
    "rfm.groupby(\"KMeans_Segments\").agg({\"Recency\":[\"mean\", \"median\", \"count\"],\n",
    "                                    \"Frequency\":[\"mean\",\"median\",\"count\"],\n",
    "                                    \"Monetary\":[\"mean\",\"median\",\"count\"]})"
   ]
  },
  {
   "cell_type": "code",
   "execution_count": 41,
   "id": "763d87e9",
   "metadata": {
    "execution": {
     "iopub.execute_input": "2025-01-24T12:50:03.920698Z",
     "iopub.status.busy": "2025-01-24T12:50:03.920282Z",
     "iopub.status.idle": "2025-01-24T12:50:04.221465Z",
     "shell.execute_reply": "2025-01-24T12:50:04.220371Z"
    },
    "papermill": {
     "duration": 0.317554,
     "end_time": "2025-01-24T12:50:04.223319",
     "exception": false,
     "start_time": "2025-01-24T12:50:03.905765",
     "status": "completed"
    },
    "tags": []
   },
   "outputs": [
    {
     "data": {
      "image/png": "[encoded data removed]",
      "text/plain": [
       "<Figure size 2000x1000 with 1 Axes>"
      ]
     },
     "metadata": {},
     "output_type": "display_data"
    }
   ],
   "source": [
    "plt.figure(figsize=(20, 10))\n",
    "sns.boxplot(x=\"KMeans_Segments\", y=\"Monetary\", data=rfm)\n",
    "plt.show()"
   ]
  },
  {
   "cell_type": "code",
   "execution_count": 42,
   "id": "e5ad0977",
   "metadata": {
    "execution": {
     "iopub.execute_input": "2025-01-24T12:50:04.254373Z",
     "iopub.status.busy": "2025-01-24T12:50:04.253927Z",
     "iopub.status.idle": "2025-01-24T12:50:06.525242Z",
     "shell.execute_reply": "2025-01-24T12:50:06.524041Z"
    },
    "papermill": {
     "duration": 2.288771,
     "end_time": "2025-01-24T12:50:06.526999",
     "exception": false,
     "start_time": "2025-01-24T12:50:04.238228",
     "status": "completed"
    },
    "tags": []
   },
   "outputs": [
    {
     "data": {
      "image/png": "[encoded data removed]",
      "text/plain": [
       "<Figure size 700x500 with 1 Axes>"
      ]
     },
     "metadata": {},
     "output_type": "display_data"
    }
   ],
   "source": [
    "# Hierarchical Clustering\n",
    "\n",
    "hc_complete = linkage(scaled_df, \"complete\")\n",
    "plt.figure(figsize=(7, 5))\n",
    "plt.title(\"Dendrograms\")\n",
    "dend = dendrogram(hc_complete,\n",
    "                 truncate_mode=\"lastp\",\n",
    "                 p=10,\n",
    "                 show_contracted=True,\n",
    "                 leaf_font_size=10)\n",
    "plt.axhline(y=1.2, color='r', linestyle=\"--\")\n",
    "plt.show()"
   ]
  },
  {
   "cell_type": "code",
   "execution_count": 43,
   "id": "6004f06d",
   "metadata": {
    "execution": {
     "iopub.execute_input": "2025-01-24T12:50:06.616416Z",
     "iopub.status.busy": "2025-01-24T12:50:06.616009Z",
     "iopub.status.idle": "2025-01-24T12:50:07.063059Z",
     "shell.execute_reply": "2025-01-24T12:50:07.061954Z"
    },
    "papermill": {
     "duration": 0.522548,
     "end_time": "2025-01-24T12:50:07.065044",
     "exception": false,
     "start_time": "2025-01-24T12:50:06.542496",
     "status": "completed"
    },
    "tags": []
   },
   "outputs": [],
   "source": [
    "hc = AgglomerativeClustering(n_clusters=6)\n",
    "segments = hc.fit_predict(scaled_df)\n",
    "rfm[\"Hierarchi_Segments\"] = segments"
   ]
  },
  {
   "cell_type": "code",
   "execution_count": 44,
   "id": "ccab197e",
   "metadata": {
    "execution": {
     "iopub.execute_input": "2025-01-24T12:50:07.097135Z",
     "iopub.status.busy": "2025-01-24T12:50:07.096797Z",
     "iopub.status.idle": "2025-01-24T12:50:07.116532Z",
     "shell.execute_reply": "2025-01-24T12:50:07.115317Z"
    },
    "papermill": {
     "duration": 0.037984,
     "end_time": "2025-01-24T12:50:07.118452",
     "exception": false,
     "start_time": "2025-01-24T12:50:07.080468",
     "status": "completed"
    },
    "tags": []
   },
   "outputs": [
    {
     "data": {
      "text/html": [
       "<div>\n",
       "<style scoped>\n",
       "    .dataframe tbody tr th:only-of-type {\n",
       "        vertical-align: middle;\n",
       "    }\n",
       "\n",
       "    .dataframe tbody tr th {\n",
       "        vertical-align: top;\n",
       "    }\n",
       "\n",
       "    .dataframe thead tr th {\n",
       "        text-align: left;\n",
       "    }\n",
       "\n",
       "    .dataframe thead tr:last-of-type th {\n",
       "        text-align: right;\n",
       "    }\n",
       "</style>\n",
       "<table border=\"1\" class=\"dataframe\">\n",
       "  <thead>\n",
       "    <tr>\n",
       "      <th></th>\n",
       "      <th colspan=\"3\" halign=\"left\">Recency</th>\n",
       "      <th colspan=\"3\" halign=\"left\">Frequency</th>\n",
       "      <th colspan=\"3\" halign=\"left\">Monetary</th>\n",
       "    </tr>\n",
       "    <tr>\n",
       "      <th></th>\n",
       "      <th>mean</th>\n",
       "      <th>median</th>\n",
       "      <th>count</th>\n",
       "      <th>mean</th>\n",
       "      <th>median</th>\n",
       "      <th>count</th>\n",
       "      <th>mean</th>\n",
       "      <th>median</th>\n",
       "      <th>count</th>\n",
       "    </tr>\n",
       "    <tr>\n",
       "      <th>Hierarchi_Segments</th>\n",
       "      <th></th>\n",
       "      <th></th>\n",
       "      <th></th>\n",
       "      <th></th>\n",
       "      <th></th>\n",
       "      <th></th>\n",
       "      <th></th>\n",
       "      <th></th>\n",
       "      <th></th>\n",
       "    </tr>\n",
       "  </thead>\n",
       "  <tbody>\n",
       "    <tr>\n",
       "      <th>0</th>\n",
       "      <td>22.54</td>\n",
       "      <td>17.00</td>\n",
       "      <td>915</td>\n",
       "      <td>8.22</td>\n",
       "      <td>7.00</td>\n",
       "      <td>915</td>\n",
       "      <td>3183.45</td>\n",
       "      <td>2342.57</td>\n",
       "      <td>915</td>\n",
       "    </tr>\n",
       "    <tr>\n",
       "      <th>1</th>\n",
       "      <td>71.59</td>\n",
       "      <td>60.00</td>\n",
       "      <td>1091</td>\n",
       "      <td>3.42</td>\n",
       "      <td>3.00</td>\n",
       "      <td>1091</td>\n",
       "      <td>1354.29</td>\n",
       "      <td>940.86</td>\n",
       "      <td>1091</td>\n",
       "    </tr>\n",
       "    <tr>\n",
       "      <th>2</th>\n",
       "      <td>227.53</td>\n",
       "      <td>220.00</td>\n",
       "      <td>1131</td>\n",
       "      <td>1.43</td>\n",
       "      <td>1.00</td>\n",
       "      <td>1131</td>\n",
       "      <td>474.46</td>\n",
       "      <td>301.65</td>\n",
       "      <td>1131</td>\n",
       "    </tr>\n",
       "    <tr>\n",
       "      <th>3</th>\n",
       "      <td>13.24</td>\n",
       "      <td>13.00</td>\n",
       "      <td>462</td>\n",
       "      <td>2.05</td>\n",
       "      <td>2.00</td>\n",
       "      <td>462</td>\n",
       "      <td>654.60</td>\n",
       "      <td>498.73</td>\n",
       "      <td>462</td>\n",
       "    </tr>\n",
       "    <tr>\n",
       "      <th>4</th>\n",
       "      <td>55.18</td>\n",
       "      <td>53.50</td>\n",
       "      <td>534</td>\n",
       "      <td>1.00</td>\n",
       "      <td>1.00</td>\n",
       "      <td>534</td>\n",
       "      <td>413.07</td>\n",
       "      <td>281.32</td>\n",
       "      <td>534</td>\n",
       "    </tr>\n",
       "    <tr>\n",
       "      <th>5</th>\n",
       "      <td>5.11</td>\n",
       "      <td>5.00</td>\n",
       "      <td>153</td>\n",
       "      <td>21.38</td>\n",
       "      <td>19.00</td>\n",
       "      <td>153</td>\n",
       "      <td>8880.06</td>\n",
       "      <td>7637.56</td>\n",
       "      <td>153</td>\n",
       "    </tr>\n",
       "  </tbody>\n",
       "</table>\n",
       "</div>"
      ],
      "text/plain": [
       "                   Recency              Frequency              Monetary              \n",
       "                      mean median count      mean median count     mean  median count\n",
       "Hierarchi_Segments                                                                   \n",
       "0                    22.54  17.00   915      8.22   7.00   915  3183.45 2342.57   915\n",
       "1                    71.59  60.00  1091      3.42   3.00  1091  1354.29  940.86  1091\n",
       "2                   227.53 220.00  1131      1.43   1.00  1131   474.46  301.65  1131\n",
       "3                    13.24  13.00   462      2.05   2.00   462   654.60  498.73   462\n",
       "4                    55.18  53.50   534      1.00   1.00   534   413.07  281.32   534\n",
       "5                     5.11   5.00   153     21.38  19.00   153  8880.06 7637.56   153"
      ]
     },
     "execution_count": 44,
     "metadata": {},
     "output_type": "execute_result"
    }
   ],
   "source": [
    "rfm.groupby(\"Hierarchi_Segments\").agg({\"Recency\":[\"mean\",\"median\",\"count\"],\n",
    "                                       \"Frequency\":[\"mean\",\"median\",\"count\"],\n",
    "                                       \"Monetary\":[\"mean\",\"median\",\"count\"]})"
   ]
  },
  {
   "cell_type": "code",
   "execution_count": 45,
   "id": "28de97b0",
   "metadata": {
    "execution": {
     "iopub.execute_input": "2025-01-24T12:50:07.151698Z",
     "iopub.status.busy": "2025-01-24T12:50:07.151286Z",
     "iopub.status.idle": "2025-01-24T12:50:07.429458Z",
     "shell.execute_reply": "2025-01-24T12:50:07.428134Z"
    },
    "papermill": {
     "duration": 0.296764,
     "end_time": "2025-01-24T12:50:07.431253",
     "exception": false,
     "start_time": "2025-01-24T12:50:07.134489",
     "status": "completed"
    },
    "tags": []
   },
   "outputs": [
    {
     "data": {
      "image/png": "[encoded data removed]",
      "text/plain": [
       "<Figure size 2000x1000 with 1 Axes>"
      ]
     },
     "metadata": {},
     "output_type": "display_data"
    }
   ],
   "source": [
    "plt.figure(figsize=(20, 10))\n",
    "sns.boxplot(x=\"Hierarchi_Segments\", y=\"Monetary\", data=rfm)\n",
    "plt.show()"
   ]
  }
 ],
 "metadata": {
  "kaggle": {
   "accelerator": "none",
   "dataSources": [
    {
     "datasetId": 437544,
     "sourceId": 831127,
     "sourceType": "datasetVersion"
    }
   ],
   "dockerImageVersionId": 30839,
   "isGpuEnabled": false,
   "isInternetEnabled": true,
   "language": "python",
   "sourceType": "notebook"
  },
  "kernelspec": {
   "display_name": "Python 3",
   "language": "python",
   "name": "python3"
  },
  "language_info": {
   "codemirror_mode": {
    "name": "ipython",
    "version": 3
   },
   "file_extension": ".py",
   "mimetype": "text/x-python",
   "name": "python",
   "nbconvert_exporter": "python",
   "pygments_lexer": "ipython3",
   "version": "3.10.12"
  },
  "papermill": {
   "default_parameters": {},
   "duration": 77.602129,
   "end_time": "2025-01-24T12:50:08.369870",
   "environment_variables": {},
   "exception": null,
   "input_path": "__notebook__.ipynb",
   "output_path": "__notebook__.ipynb",
   "parameters": {},
   "start_time": "2025-01-24T12:48:50.767741",
   "version": "2.6.0"
  }
 },
 "nbformat": 4,
 "nbformat_minor": 5
}
