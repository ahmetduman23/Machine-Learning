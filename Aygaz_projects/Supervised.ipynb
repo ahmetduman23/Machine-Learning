{
  "cells": [
    {
      "cell_type": "markdown",
      "metadata": {},
      "source": [
        "# Denetimli Makine Öğrenmesi"
      ]
    },
    {
      "cell_type": "markdown",
      "metadata": {},
      "source": [
        "## Kullanılan Algoritmalar:\n",
        "* XGBoost\n",
        "* Random Forest\n",
        "* KNN\n",
        "* GaussianNB   "
      ]
    },
    {
      "cell_type": "markdown",
      "metadata": {},
      "source": [
        "### Gerekli kütüphaneleri Yüklüyoruz"
      ]
    },
    {
      "cell_type": "code",
      "execution_count": 9,
      "metadata": {
        "id": "psNUHp_Yu4NV"
      },
      "outputs": [],
      "source": [
        "import pandas as pd\n",
        "from xgboost import XGBClassifier\n",
        "import matplotlib.pyplot as plt\n",
        "import seaborn as sns\n",
        "from imblearn.over_sampling import SMOTE\n",
        "from sklearn.metrics import confusion_matrix, accuracy_score, precision_score, recall_score, f1_score\n",
        "from sklearn.ensemble import RandomForestClassifier\n",
        "from sklearn.model_selection import train_test_split,cross_val_score\n",
        "from sklearn.preprocessing import StandardScaler\n",
        "from sklearn.preprocessing import LabelEncoder\n",
        "from sklearn.naive_bayes import GaussianNB\n",
        "from sklearn.neighbors import KNeighborsClassifier\n",
        "from sklearn.svm import SVC\n",
        "from sklearn.model_selection import GridSearchCV\n",
        "from sklearn.metrics import mean_absolute_error,mean_absolute_percentage_error,mean_squared_error"
      ]
    },
    {
      "cell_type": "markdown",
      "metadata": {},
      "source": [
        "#### Veri setini okunuyup önizleme yapıyoruz df.head() fonksiyonunda ki sayıyı arttırıp daha fazla veriye ulaşabilirsiniz"
      ]
    },
    {
      "cell_type": "code",
      "execution_count": 10,
      "metadata": {
        "colab": {
          "base_uri": "https://localhost:8080/",
          "height": 163
        },
        "collapsed": true,
        "id": "rYbDA3t2vWQL",
        "outputId": "2f0e8c86-5d89-4e05-bb0a-8f2ae226b43c"
      },
      "outputs": [
        {
          "data": {
            "text/html": [
              "<div>\n",
              "<style scoped>\n",
              "    .dataframe tbody tr th:only-of-type {\n",
              "        vertical-align: middle;\n",
              "    }\n",
              "\n",
              "    .dataframe tbody tr th {\n",
              "        vertical-align: top;\n",
              "    }\n",
              "\n",
              "    .dataframe thead th {\n",
              "        text-align: right;\n",
              "    }\n",
              "</style>\n",
              "<table border=\"1\" class=\"dataframe\">\n",
              "  <thead>\n",
              "    <tr style=\"text-align: right;\">\n",
              "      <th></th>\n",
              "      <th>HeartDisease</th>\n",
              "      <th>BMI</th>\n",
              "      <th>Smoking</th>\n",
              "      <th>AlcoholDrinking</th>\n",
              "      <th>Stroke</th>\n",
              "      <th>PhysicalHealth</th>\n",
              "      <th>MentalHealth</th>\n",
              "      <th>DiffWalking</th>\n",
              "      <th>Sex</th>\n",
              "      <th>AgeCategory</th>\n",
              "      <th>Race</th>\n",
              "      <th>Diabetic</th>\n",
              "      <th>PhysicalActivity</th>\n",
              "      <th>GenHealth</th>\n",
              "      <th>SleepTime</th>\n",
              "      <th>Asthma</th>\n",
              "      <th>KidneyDisease</th>\n",
              "      <th>SkinCancer</th>\n",
              "    </tr>\n",
              "  </thead>\n",
              "  <tbody>\n",
              "    <tr>\n",
              "      <th>0</th>\n",
              "      <td>No</td>\n",
              "      <td>16.60</td>\n",
              "      <td>Yes</td>\n",
              "      <td>No</td>\n",
              "      <td>No</td>\n",
              "      <td>3.0</td>\n",
              "      <td>30.0</td>\n",
              "      <td>No</td>\n",
              "      <td>Female</td>\n",
              "      <td>55-59</td>\n",
              "      <td>White</td>\n",
              "      <td>Yes</td>\n",
              "      <td>Yes</td>\n",
              "      <td>Very good</td>\n",
              "      <td>5.0</td>\n",
              "      <td>Yes</td>\n",
              "      <td>No</td>\n",
              "      <td>Yes</td>\n",
              "    </tr>\n",
              "    <tr>\n",
              "      <th>1</th>\n",
              "      <td>No</td>\n",
              "      <td>20.34</td>\n",
              "      <td>No</td>\n",
              "      <td>No</td>\n",
              "      <td>Yes</td>\n",
              "      <td>0.0</td>\n",
              "      <td>0.0</td>\n",
              "      <td>No</td>\n",
              "      <td>Female</td>\n",
              "      <td>80 or older</td>\n",
              "      <td>White</td>\n",
              "      <td>No</td>\n",
              "      <td>Yes</td>\n",
              "      <td>Very good</td>\n",
              "      <td>7.0</td>\n",
              "      <td>No</td>\n",
              "      <td>No</td>\n",
              "      <td>No</td>\n",
              "    </tr>\n",
              "    <tr>\n",
              "      <th>2</th>\n",
              "      <td>No</td>\n",
              "      <td>26.58</td>\n",
              "      <td>Yes</td>\n",
              "      <td>No</td>\n",
              "      <td>No</td>\n",
              "      <td>20.0</td>\n",
              "      <td>30.0</td>\n",
              "      <td>No</td>\n",
              "      <td>Male</td>\n",
              "      <td>65-69</td>\n",
              "      <td>White</td>\n",
              "      <td>Yes</td>\n",
              "      <td>Yes</td>\n",
              "      <td>Fair</td>\n",
              "      <td>8.0</td>\n",
              "      <td>Yes</td>\n",
              "      <td>No</td>\n",
              "      <td>No</td>\n",
              "    </tr>\n",
              "  </tbody>\n",
              "</table>\n",
              "</div>"
            ],
            "text/plain": [
              "  HeartDisease    BMI Smoking AlcoholDrinking Stroke  PhysicalHealth  \\\n",
              "0           No  16.60     Yes              No     No             3.0   \n",
              "1           No  20.34      No              No    Yes             0.0   \n",
              "2           No  26.58     Yes              No     No            20.0   \n",
              "\n",
              "   MentalHealth DiffWalking     Sex  AgeCategory   Race Diabetic  \\\n",
              "0          30.0          No  Female        55-59  White      Yes   \n",
              "1           0.0          No  Female  80 or older  White       No   \n",
              "2          30.0          No    Male        65-69  White      Yes   \n",
              "\n",
              "  PhysicalActivity  GenHealth  SleepTime Asthma KidneyDisease SkinCancer  \n",
              "0              Yes  Very good        5.0    Yes            No        Yes  \n",
              "1              Yes  Very good        7.0     No            No         No  \n",
              "2              Yes       Fair        8.0    Yes            No         No  "
            ]
          },
          "execution_count": 10,
          "metadata": {},
          "output_type": "execute_result"
        }
      ],
      "source": [
        "df=pd.read_csv(\"heart.csv\")\n",
        "df.head(3)"
      ]
    },
    {
      "cell_type": "markdown",
      "metadata": {},
      "source": [
        "#### Veri setimizde bulunan değerleri model tahmini için numerik veriye çeviriyoruz"
      ]
    },
    {
      "cell_type": "code",
      "execution_count": 11,
      "metadata": {
        "id": "N99VuoD-vuvc"
      },
      "outputs": [],
      "source": [
        "le=LabelEncoder()\n",
        "le.fit(df[\"SkinCancer\"])\n",
        "df[\"SkinCancer\"]=le.transform(df[\"SkinCancer\"])"
      ]
    },
    {
      "cell_type": "code",
      "execution_count": 12,
      "metadata": {
        "colab": {
          "base_uri": "https://localhost:8080/",
          "height": 163
        },
        "collapsed": true,
        "id": "MMDl7fZxxeRD",
        "outputId": "9a0a5ae2-d5b7-417e-a18f-f02b2828ff7a"
      },
      "outputs": [
        {
          "data": {
            "text/html": [
              "<div>\n",
              "<style scoped>\n",
              "    .dataframe tbody tr th:only-of-type {\n",
              "        vertical-align: middle;\n",
              "    }\n",
              "\n",
              "    .dataframe tbody tr th {\n",
              "        vertical-align: top;\n",
              "    }\n",
              "\n",
              "    .dataframe thead th {\n",
              "        text-align: right;\n",
              "    }\n",
              "</style>\n",
              "<table border=\"1\" class=\"dataframe\">\n",
              "  <thead>\n",
              "    <tr style=\"text-align: right;\">\n",
              "      <th></th>\n",
              "      <th>HeartDisease</th>\n",
              "      <th>BMI</th>\n",
              "      <th>Smoking</th>\n",
              "      <th>AlcoholDrinking</th>\n",
              "      <th>Stroke</th>\n",
              "      <th>PhysicalHealth</th>\n",
              "      <th>MentalHealth</th>\n",
              "      <th>DiffWalking</th>\n",
              "      <th>Sex</th>\n",
              "      <th>AgeCategory</th>\n",
              "      <th>Race</th>\n",
              "      <th>Diabetic</th>\n",
              "      <th>PhysicalActivity</th>\n",
              "      <th>GenHealth</th>\n",
              "      <th>SleepTime</th>\n",
              "      <th>Asthma</th>\n",
              "      <th>KidneyDisease</th>\n",
              "      <th>SkinCancer</th>\n",
              "    </tr>\n",
              "  </thead>\n",
              "  <tbody>\n",
              "    <tr>\n",
              "      <th>0</th>\n",
              "      <td>No</td>\n",
              "      <td>16.60</td>\n",
              "      <td>Yes</td>\n",
              "      <td>No</td>\n",
              "      <td>No</td>\n",
              "      <td>3.0</td>\n",
              "      <td>30.0</td>\n",
              "      <td>No</td>\n",
              "      <td>Female</td>\n",
              "      <td>55-59</td>\n",
              "      <td>White</td>\n",
              "      <td>Yes</td>\n",
              "      <td>Yes</td>\n",
              "      <td>Very good</td>\n",
              "      <td>5.0</td>\n",
              "      <td>Yes</td>\n",
              "      <td>No</td>\n",
              "      <td>1</td>\n",
              "    </tr>\n",
              "    <tr>\n",
              "      <th>1</th>\n",
              "      <td>No</td>\n",
              "      <td>20.34</td>\n",
              "      <td>No</td>\n",
              "      <td>No</td>\n",
              "      <td>Yes</td>\n",
              "      <td>0.0</td>\n",
              "      <td>0.0</td>\n",
              "      <td>No</td>\n",
              "      <td>Female</td>\n",
              "      <td>80 or older</td>\n",
              "      <td>White</td>\n",
              "      <td>No</td>\n",
              "      <td>Yes</td>\n",
              "      <td>Very good</td>\n",
              "      <td>7.0</td>\n",
              "      <td>No</td>\n",
              "      <td>No</td>\n",
              "      <td>0</td>\n",
              "    </tr>\n",
              "    <tr>\n",
              "      <th>2</th>\n",
              "      <td>No</td>\n",
              "      <td>26.58</td>\n",
              "      <td>Yes</td>\n",
              "      <td>No</td>\n",
              "      <td>No</td>\n",
              "      <td>20.0</td>\n",
              "      <td>30.0</td>\n",
              "      <td>No</td>\n",
              "      <td>Male</td>\n",
              "      <td>65-69</td>\n",
              "      <td>White</td>\n",
              "      <td>Yes</td>\n",
              "      <td>Yes</td>\n",
              "      <td>Fair</td>\n",
              "      <td>8.0</td>\n",
              "      <td>Yes</td>\n",
              "      <td>No</td>\n",
              "      <td>0</td>\n",
              "    </tr>\n",
              "  </tbody>\n",
              "</table>\n",
              "</div>"
            ],
            "text/plain": [
              "  HeartDisease    BMI Smoking AlcoholDrinking Stroke  PhysicalHealth  \\\n",
              "0           No  16.60     Yes              No     No             3.0   \n",
              "1           No  20.34      No              No    Yes             0.0   \n",
              "2           No  26.58     Yes              No     No            20.0   \n",
              "\n",
              "   MentalHealth DiffWalking     Sex  AgeCategory   Race Diabetic  \\\n",
              "0          30.0          No  Female        55-59  White      Yes   \n",
              "1           0.0          No  Female  80 or older  White       No   \n",
              "2          30.0          No    Male        65-69  White      Yes   \n",
              "\n",
              "  PhysicalActivity  GenHealth  SleepTime Asthma KidneyDisease  SkinCancer  \n",
              "0              Yes  Very good        5.0    Yes            No           1  \n",
              "1              Yes  Very good        7.0     No            No           0  \n",
              "2              Yes       Fair        8.0    Yes            No           0  "
            ]
          },
          "execution_count": 12,
          "metadata": {},
          "output_type": "execute_result"
        }
      ],
      "source": [
        "df.head(3)"
      ]
    },
    {
      "cell_type": "code",
      "execution_count": 13,
      "metadata": {
        "id": "e1XjpfbPxqH9"
      },
      "outputs": [],
      "source": [
        "features=[\"AgeCategory\",\"HeartDisease\", \"Smoking\", \"AlcoholDrinking\", \"Stroke\", \"DiffWalking\", \"Sex\", \"Race\", \"Diabetic\", \"PhysicalActivity\", \"GenHealth\", \"Asthma\", \"KidneyDisease\"]\n",
        "df = pd.get_dummies(df, columns=features, drop_first=True)"
      ]
    },
    {
      "cell_type": "code",
      "execution_count": 14,
      "metadata": {
        "colab": {
          "base_uri": "https://localhost:8080/"
        },
        "collapsed": true,
        "id": "fdfZ-XFCz84W",
        "outputId": "b9e55d67-6af5-475f-9473-0a43825806fd"
      },
      "outputs": [
        {
          "name": "stdout",
          "output_type": "stream",
          "text": [
            "Index(['BMI', 'PhysicalHealth', 'MentalHealth', 'SleepTime', 'SkinCancer',\n",
            "       'AgeCategory_25-29', 'AgeCategory_30-34', 'AgeCategory_35-39',\n",
            "       'AgeCategory_40-44', 'AgeCategory_45-49', 'AgeCategory_50-54',\n",
            "       'AgeCategory_55-59', 'AgeCategory_60-64', 'AgeCategory_65-69',\n",
            "       'AgeCategory_70-74', 'AgeCategory_75-79', 'AgeCategory_80 or older',\n",
            "       'HeartDisease_Yes', 'Smoking_Yes', 'AlcoholDrinking_Yes', 'Stroke_Yes',\n",
            "       'DiffWalking_Yes', 'Sex_Male', 'Race_Asian', 'Race_Black',\n",
            "       'Race_Hispanic', 'Race_Other', 'Race_White',\n",
            "       'Diabetic_No, borderline diabetes', 'Diabetic_Yes',\n",
            "       'Diabetic_Yes (during pregnancy)', 'PhysicalActivity_Yes',\n",
            "       'GenHealth_Fair', 'GenHealth_Good', 'GenHealth_Poor',\n",
            "       'GenHealth_Very good', 'Asthma_Yes', 'KidneyDisease_Yes'],\n",
            "      dtype='object')\n",
            "319795\n"
          ]
        }
      ],
      "source": [
        "info=df.columns\n",
        "print(info)\n",
        "print(len(df))"
      ]
    },
    {
      "cell_type": "markdown",
      "metadata": {},
      "source": [
        "#### Veri setimizde hatalı,eksik verileri daha iyi tahmin için bulup kaldırıyoruz "
      ]
    },
    {
      "cell_type": "code",
      "execution_count": 15,
      "metadata": {
        "colab": {
          "base_uri": "https://localhost:8080/"
        },
        "collapsed": true,
        "id": "woFMFEA65LbQ",
        "outputId": "e6f8132f-360d-48f3-9e2f-d0349ff2aad5"
      },
      "outputs": [
        {
          "name": "stdout",
          "output_type": "stream",
          "text": [
            "BMI                                 0\n",
            "PhysicalHealth                      0\n",
            "MentalHealth                        0\n",
            "SleepTime                           0\n",
            "SkinCancer                          0\n",
            "AgeCategory_25-29                   0\n",
            "AgeCategory_30-34                   0\n",
            "AgeCategory_35-39                   0\n",
            "AgeCategory_40-44                   0\n",
            "AgeCategory_45-49                   0\n",
            "AgeCategory_50-54                   0\n",
            "AgeCategory_55-59                   0\n",
            "AgeCategory_60-64                   0\n",
            "AgeCategory_65-69                   0\n",
            "AgeCategory_70-74                   0\n",
            "AgeCategory_75-79                   0\n",
            "AgeCategory_80 or older             0\n",
            "HeartDisease_Yes                    0\n",
            "Smoking_Yes                         0\n",
            "AlcoholDrinking_Yes                 0\n",
            "Stroke_Yes                          0\n",
            "DiffWalking_Yes                     0\n",
            "Sex_Male                            0\n",
            "Race_Asian                          0\n",
            "Race_Black                          0\n",
            "Race_Hispanic                       0\n",
            "Race_Other                          0\n",
            "Race_White                          0\n",
            "Diabetic_No, borderline diabetes    0\n",
            "Diabetic_Yes                        0\n",
            "Diabetic_Yes (during pregnancy)     0\n",
            "PhysicalActivity_Yes                0\n",
            "GenHealth_Fair                      0\n",
            "GenHealth_Good                      0\n",
            "GenHealth_Poor                      0\n",
            "GenHealth_Very good                 0\n",
            "Asthma_Yes                          0\n",
            "KidneyDisease_Yes                   0\n",
            "dtype: int64\n"
          ]
        }
      ],
      "source": [
        "missing_values=df.isnull().sum()\n",
        "if missing_values.sum() > 0:\n",
        "    df.dropna(inplace=True)\n",
        "print(missing_values)"
      ]
    },
    {
      "cell_type": "code",
      "execution_count": 16,
      "metadata": {
        "colab": {
          "base_uri": "https://localhost:8080/",
          "height": 228
        },
        "collapsed": true,
        "id": "7RanN93_yGoq",
        "outputId": "a9cf7b27-ed69-40ef-e7b5-430f5e554152"
      },
      "outputs": [
        {
          "data": {
            "text/html": [
              "<div>\n",
              "<style scoped>\n",
              "    .dataframe tbody tr th:only-of-type {\n",
              "        vertical-align: middle;\n",
              "    }\n",
              "\n",
              "    .dataframe tbody tr th {\n",
              "        vertical-align: top;\n",
              "    }\n",
              "\n",
              "    .dataframe thead th {\n",
              "        text-align: right;\n",
              "    }\n",
              "</style>\n",
              "<table border=\"1\" class=\"dataframe\">\n",
              "  <thead>\n",
              "    <tr style=\"text-align: right;\">\n",
              "      <th></th>\n",
              "      <th>BMI</th>\n",
              "      <th>PhysicalHealth</th>\n",
              "      <th>MentalHealth</th>\n",
              "      <th>SleepTime</th>\n",
              "      <th>SkinCancer</th>\n",
              "      <th>AgeCategory_25-29</th>\n",
              "      <th>AgeCategory_30-34</th>\n",
              "      <th>AgeCategory_35-39</th>\n",
              "      <th>AgeCategory_40-44</th>\n",
              "      <th>AgeCategory_45-49</th>\n",
              "      <th>...</th>\n",
              "      <th>Diabetic_No, borderline diabetes</th>\n",
              "      <th>Diabetic_Yes</th>\n",
              "      <th>Diabetic_Yes (during pregnancy)</th>\n",
              "      <th>PhysicalActivity_Yes</th>\n",
              "      <th>GenHealth_Fair</th>\n",
              "      <th>GenHealth_Good</th>\n",
              "      <th>GenHealth_Poor</th>\n",
              "      <th>GenHealth_Very good</th>\n",
              "      <th>Asthma_Yes</th>\n",
              "      <th>KidneyDisease_Yes</th>\n",
              "    </tr>\n",
              "  </thead>\n",
              "  <tbody>\n",
              "    <tr>\n",
              "      <th>0</th>\n",
              "      <td>16.60</td>\n",
              "      <td>3.0</td>\n",
              "      <td>30.0</td>\n",
              "      <td>5.0</td>\n",
              "      <td>1</td>\n",
              "      <td>False</td>\n",
              "      <td>False</td>\n",
              "      <td>False</td>\n",
              "      <td>False</td>\n",
              "      <td>False</td>\n",
              "      <td>...</td>\n",
              "      <td>False</td>\n",
              "      <td>True</td>\n",
              "      <td>False</td>\n",
              "      <td>True</td>\n",
              "      <td>False</td>\n",
              "      <td>False</td>\n",
              "      <td>False</td>\n",
              "      <td>True</td>\n",
              "      <td>True</td>\n",
              "      <td>False</td>\n",
              "    </tr>\n",
              "    <tr>\n",
              "      <th>1</th>\n",
              "      <td>20.34</td>\n",
              "      <td>0.0</td>\n",
              "      <td>0.0</td>\n",
              "      <td>7.0</td>\n",
              "      <td>0</td>\n",
              "      <td>False</td>\n",
              "      <td>False</td>\n",
              "      <td>False</td>\n",
              "      <td>False</td>\n",
              "      <td>False</td>\n",
              "      <td>...</td>\n",
              "      <td>False</td>\n",
              "      <td>False</td>\n",
              "      <td>False</td>\n",
              "      <td>True</td>\n",
              "      <td>False</td>\n",
              "      <td>False</td>\n",
              "      <td>False</td>\n",
              "      <td>True</td>\n",
              "      <td>False</td>\n",
              "      <td>False</td>\n",
              "    </tr>\n",
              "    <tr>\n",
              "      <th>2</th>\n",
              "      <td>26.58</td>\n",
              "      <td>20.0</td>\n",
              "      <td>30.0</td>\n",
              "      <td>8.0</td>\n",
              "      <td>0</td>\n",
              "      <td>False</td>\n",
              "      <td>False</td>\n",
              "      <td>False</td>\n",
              "      <td>False</td>\n",
              "      <td>False</td>\n",
              "      <td>...</td>\n",
              "      <td>False</td>\n",
              "      <td>True</td>\n",
              "      <td>False</td>\n",
              "      <td>True</td>\n",
              "      <td>True</td>\n",
              "      <td>False</td>\n",
              "      <td>False</td>\n",
              "      <td>False</td>\n",
              "      <td>True</td>\n",
              "      <td>False</td>\n",
              "    </tr>\n",
              "  </tbody>\n",
              "</table>\n",
              "<p>3 rows × 38 columns</p>\n",
              "</div>"
            ],
            "text/plain": [
              "     BMI  PhysicalHealth  MentalHealth  SleepTime  SkinCancer  \\\n",
              "0  16.60             3.0          30.0        5.0           1   \n",
              "1  20.34             0.0           0.0        7.0           0   \n",
              "2  26.58            20.0          30.0        8.0           0   \n",
              "\n",
              "   AgeCategory_25-29  AgeCategory_30-34  AgeCategory_35-39  AgeCategory_40-44  \\\n",
              "0              False              False              False              False   \n",
              "1              False              False              False              False   \n",
              "2              False              False              False              False   \n",
              "\n",
              "   AgeCategory_45-49  ...  Diabetic_No, borderline diabetes  Diabetic_Yes  \\\n",
              "0              False  ...                             False          True   \n",
              "1              False  ...                             False         False   \n",
              "2              False  ...                             False          True   \n",
              "\n",
              "   Diabetic_Yes (during pregnancy)  PhysicalActivity_Yes  GenHealth_Fair  \\\n",
              "0                            False                  True           False   \n",
              "1                            False                  True           False   \n",
              "2                            False                  True            True   \n",
              "\n",
              "   GenHealth_Good  GenHealth_Poor  GenHealth_Very good  Asthma_Yes  \\\n",
              "0           False           False                 True        True   \n",
              "1           False           False                 True       False   \n",
              "2           False           False                False        True   \n",
              "\n",
              "   KidneyDisease_Yes  \n",
              "0              False  \n",
              "1              False  \n",
              "2              False  \n",
              "\n",
              "[3 rows x 38 columns]"
            ]
          },
          "execution_count": 16,
          "metadata": {},
          "output_type": "execute_result"
        }
      ],
      "source": [
        "df.head(3)"
      ]
    },
    {
      "cell_type": "code",
      "execution_count": 17,
      "metadata": {
        "colab": {
          "base_uri": "https://localhost:8080/"
        },
        "id": "Zu3sza1Vy-5i",
        "outputId": "b2506fc8-fb6e-481b-a3ca-c13f91162336"
      },
      "outputs": [
        {
          "name": "stdout",
          "output_type": "stream",
          "text": [
            "<class 'pandas.core.frame.DataFrame'>\n",
            "RangeIndex: 319795 entries, 0 to 319794\n",
            "Data columns (total 38 columns):\n",
            " #   Column                            Non-Null Count   Dtype  \n",
            "---  ------                            --------------   -----  \n",
            " 0   BMI                               319795 non-null  float64\n",
            " 1   PhysicalHealth                    319795 non-null  float64\n",
            " 2   MentalHealth                      319795 non-null  float64\n",
            " 3   SleepTime                         319795 non-null  float64\n",
            " 4   SkinCancer                        319795 non-null  int32  \n",
            " 5   AgeCategory_25-29                 319795 non-null  bool   \n",
            " 6   AgeCategory_30-34                 319795 non-null  bool   \n",
            " 7   AgeCategory_35-39                 319795 non-null  bool   \n",
            " 8   AgeCategory_40-44                 319795 non-null  bool   \n",
            " 9   AgeCategory_45-49                 319795 non-null  bool   \n",
            " 10  AgeCategory_50-54                 319795 non-null  bool   \n",
            " 11  AgeCategory_55-59                 319795 non-null  bool   \n",
            " 12  AgeCategory_60-64                 319795 non-null  bool   \n",
            " 13  AgeCategory_65-69                 319795 non-null  bool   \n",
            " 14  AgeCategory_70-74                 319795 non-null  bool   \n",
            " 15  AgeCategory_75-79                 319795 non-null  bool   \n",
            " 16  AgeCategory_80 or older           319795 non-null  bool   \n",
            " 17  HeartDisease_Yes                  319795 non-null  bool   \n",
            " 18  Smoking_Yes                       319795 non-null  bool   \n",
            " 19  AlcoholDrinking_Yes               319795 non-null  bool   \n",
            " 20  Stroke_Yes                        319795 non-null  bool   \n",
            " 21  DiffWalking_Yes                   319795 non-null  bool   \n",
            " 22  Sex_Male                          319795 non-null  bool   \n",
            " 23  Race_Asian                        319795 non-null  bool   \n",
            " 24  Race_Black                        319795 non-null  bool   \n",
            " 25  Race_Hispanic                     319795 non-null  bool   \n",
            " 26  Race_Other                        319795 non-null  bool   \n",
            " 27  Race_White                        319795 non-null  bool   \n",
            " 28  Diabetic_No, borderline diabetes  319795 non-null  bool   \n",
            " 29  Diabetic_Yes                      319795 non-null  bool   \n",
            " 30  Diabetic_Yes (during pregnancy)   319795 non-null  bool   \n",
            " 31  PhysicalActivity_Yes              319795 non-null  bool   \n",
            " 32  GenHealth_Fair                    319795 non-null  bool   \n",
            " 33  GenHealth_Good                    319795 non-null  bool   \n",
            " 34  GenHealth_Poor                    319795 non-null  bool   \n",
            " 35  GenHealth_Very good               319795 non-null  bool   \n",
            " 36  Asthma_Yes                        319795 non-null  bool   \n",
            " 37  KidneyDisease_Yes                 319795 non-null  bool   \n",
            "dtypes: bool(33), float64(4), int32(1)\n",
            "memory usage: 21.0 MB\n"
          ]
        }
      ],
      "source": [
        "df.info()"
      ]
    },
    {
      "cell_type": "markdown",
      "metadata": {},
      "source": [
        "#### Veri setini x y olarak ayırıp ardından verilerimizin %80 ini eğitim, %20 sini test olarak kabul edip eğitiyoruz\n"
      ]
    },
    {
      "cell_type": "code",
      "execution_count": 18,
      "metadata": {
        "id": "XRoD-5j9yPMb"
      },
      "outputs": [],
      "source": [
        "y=df[\"SkinCancer\"]\n",
        "x=df.drop(\"SkinCancer\",axis=1)"
      ]
    },
    {
      "cell_type": "code",
      "execution_count": 19,
      "metadata": {
        "id": "77U7lWLY2TeN"
      },
      "outputs": [],
      "source": [
        "ss=StandardScaler()\n",
        "x=ss.fit_transform(x)"
      ]
    },
    {
      "cell_type": "code",
      "execution_count": 20,
      "metadata": {
        "id": "7Ne7Rhz7jSHz"
      },
      "outputs": [],
      "source": [
        "smote = SMOTE(random_state=42)\n",
        "x_smote, y_smote = smote.fit_resample(x, y)"
      ]
    },
    {
      "cell_type": "code",
      "execution_count": 21,
      "metadata": {
        "id": "Pxkp5r--yaHS"
      },
      "outputs": [],
      "source": [
        "x_train, x_test, y_train, y_test = train_test_split(x_smote, y_smote, train_size=0.8, random_state=42)"
      ]
    },
    {
      "cell_type": "markdown",
      "metadata": {},
      "source": [
        "#### Farklı algoritmalar kullanarak model üzerinde ki başarılarını kıyaslıyoruz"
      ]
    },
    {
      "cell_type": "code",
      "execution_count": 22,
      "metadata": {
        "collapsed": true,
        "id": "HfRfa5l3ym5v"
      },
      "outputs": [],
      "source": [
        "rf = RandomForestClassifier(n_estimators=100, max_depth=5, random_state=42)\n",
        "model_rf = rf.fit(x_train, y_train)\n",
        "acr_RF = model_rf.score(x_test, y_test)"
      ]
    },
    {
      "cell_type": "code",
      "execution_count": 23,
      "metadata": {
        "id": "Jy0Z46bA0eXv"
      },
      "outputs": [],
      "source": [
        "xg=XGBClassifier(max_depth=7, n_estimators=300,learning_rate=0.2)\n",
        "model_xgb=xg.fit(x_train,y_train)\n",
        "acr_XGB=model_xgb.score(x_test,y_test)"
      ]
    },
    {
      "cell_type": "code",
      "execution_count": 24,
      "metadata": {
        "id": "TPPz1sI4HnPe"
      },
      "outputs": [],
      "source": [
        "knn=KNeighborsClassifier(n_neighbors=3)\n",
        "model_knn=knn.fit(x_train,y_train)\n",
        "acr_KNN=model_knn.score(x_test,y_test)"
      ]
    },
    {
      "cell_type": "code",
      "execution_count": 25,
      "metadata": {
        "id": "LzSkN1T8HoeL"
      },
      "outputs": [],
      "source": [
        "gaussian=GaussianNB()\n",
        "model_gaus=gaussian.fit(x_train,y_train)\n",
        "acr_Gaus=model_gaus.score(x_test,y_test)"
      ]
    },
    {
      "cell_type": "code",
      "execution_count": 26,
      "metadata": {
        "colab": {
          "base_uri": "https://localhost:8080/",
          "height": 175
        },
        "id": "-YOu4mQZHsHI",
        "outputId": "9ce04c34-b1b3-446b-9a3b-aec3ac95d200"
      },
      "outputs": [
        {
          "data": {
            "text/html": [
              "<div>\n",
              "<style scoped>\n",
              "    .dataframe tbody tr th:only-of-type {\n",
              "        vertical-align: middle;\n",
              "    }\n",
              "\n",
              "    .dataframe tbody tr th {\n",
              "        vertical-align: top;\n",
              "    }\n",
              "\n",
              "    .dataframe thead th {\n",
              "        text-align: right;\n",
              "    }\n",
              "</style>\n",
              "<table border=\"1\" class=\"dataframe\">\n",
              "  <thead>\n",
              "    <tr style=\"text-align: right;\">\n",
              "      <th></th>\n",
              "      <th>Model</th>\n",
              "      <th>Score</th>\n",
              "    </tr>\n",
              "  </thead>\n",
              "  <tbody>\n",
              "    <tr>\n",
              "      <th>2</th>\n",
              "      <td>XGBoost</td>\n",
              "      <td>0.884008</td>\n",
              "    </tr>\n",
              "    <tr>\n",
              "      <th>0</th>\n",
              "      <td>KNN</td>\n",
              "      <td>0.852540</td>\n",
              "    </tr>\n",
              "    <tr>\n",
              "      <th>1</th>\n",
              "      <td>Random Forest</td>\n",
              "      <td>0.722151</td>\n",
              "    </tr>\n",
              "    <tr>\n",
              "      <th>3</th>\n",
              "      <td>GaussianNB</td>\n",
              "      <td>0.698166</td>\n",
              "    </tr>\n",
              "  </tbody>\n",
              "</table>\n",
              "</div>"
            ],
            "text/plain": [
              "           Model     Score\n",
              "2        XGBoost  0.884008\n",
              "0            KNN  0.852540\n",
              "1  Random Forest  0.722151\n",
              "3     GaussianNB  0.698166"
            ]
          },
          "execution_count": 26,
          "metadata": {},
          "output_type": "execute_result"
        }
      ],
      "source": [
        "models=pd.DataFrame({\n",
        "    'Model':['KNN','Random Forest','XGBoost','GaussianNB'],\n",
        "    'Score':[acr_KNN,acr_RF,acr_XGB,acr_Gaus]})\n",
        "\n",
        "models.sort_values(by='Score',ascending=False)"
      ]
    },
    {
      "cell_type": "markdown",
      "metadata": {},
      "source": [
        "#### Daha yüksek bir başarım elde etmek için cross validation ile modeli kapsamlı bir eğitime veriyoruz"
      ]
    },
    {
      "cell_type": "markdown",
      "metadata": {},
      "source": [
        "#### !Burada zaman açısından cv 5 seçilmiştir isterseniz 10 seçerek daha kapsamlı bir veri eğitimi yapabilirsiniz"
      ]
    },
    {
      "cell_type": "code",
      "execution_count": 27,
      "metadata": {
        "id": "P-UGUHVYPuX8"
      },
      "outputs": [],
      "source": [
        "cros_knn=cross_val_score(model_knn,x,y,cv=5)\n",
        "cros_xgb=cross_val_score(model_xgb,x,y,cv=5)\n",
        "cros_gaus=cross_val_score(model_gaus,x,y,cv=5)\n",
        "cros_rf=cross_val_score(model_rf,x,y,cv=5)"
      ]
    },
    {
      "cell_type": "code",
      "execution_count": 28,
      "metadata": {
        "colab": {
          "base_uri": "https://localhost:8080/"
        },
        "id": "fJMW5FvmGzNu",
        "outputId": "81495ce8-7c1f-477d-d783-5f150bdd26fc"
      },
      "outputs": [
        {
          "name": "stdout",
          "output_type": "stream",
          "text": [
            "0.8841758001219532\n",
            "0.9062524429712785\n",
            "0.6039025000390875\n",
            "0.9067683985052925\n"
          ]
        }
      ],
      "source": [
        "print(cros_knn.max())\n",
        "print(cros_xgb.max())\n",
        "print(cros_gaus.max())\n",
        "print(cros_rf.max())"
      ]
    },
    {
      "cell_type": "code",
      "execution_count": 29,
      "metadata": {
        "colab": {
          "base_uri": "https://localhost:8080/",
          "height": 135
        },
        "id": "wzzzkzPfI9Kx",
        "outputId": "ca0cb1cf-03a2-4690-98f9-9f7fae7d872c"
      },
      "outputs": [
        {
          "name": "stdout",
          "output_type": "stream",
          "text": [
            "Fitting 5 folds for each of 27 candidates, totalling 135 fits\n"
          ]
        }
      ],
      "source": [
        "param_grid_xgb = {\n",
        "    'max_depth': [3, 5, 7],\n",
        "    'learning_rate': [0.01, 0.1, 0.2],\n",
        "    'n_estimators': [100,200,300]\n",
        "}\n",
        "\n",
        "xgb = XGBClassifier()\n",
        "grid_search_xgb = GridSearchCV(estimator=xgb, param_grid=param_grid_xgb, cv=5, scoring='accuracy', verbose=1, n_jobs=-1)\n",
        "new_model_xgb=grid_search_xgb.fit(x_train, y_train)\n"
      ]
    },
    {
      "cell_type": "code",
      "execution_count": 30,
      "metadata": {
        "colab": {
          "base_uri": "https://localhost:8080/"
        },
        "id": "IDG_cxGIJRGK",
        "outputId": "3628a9c3-bc8b-4c66-9fb9-2204dd451769"
      },
      "outputs": [
        {
          "name": "stdout",
          "output_type": "stream",
          "text": [
            "Best parameters for XGBoost: {'learning_rate': 0.2, 'max_depth': 7, 'n_estimators': 300}\n",
            "Best score for XGBoost: 0.8819124889219353\n"
          ]
        }
      ],
      "source": [
        "print(\"Best parameters for XGBoost:\", grid_search_xgb.best_params_)\n",
        "print(\"Best score for XGBoost:\", grid_search_xgb.best_score_)"
      ]
    },
    {
      "cell_type": "markdown",
      "metadata": {},
      "source": [
        "#### En iyi bulduğumuz xgboost modelimizi tahmin için kullanıp gerekli skorları ekrana yazdırıyoruz"
      ]
    },
    {
      "cell_type": "code",
      "execution_count": 31,
      "metadata": {
        "id": "T4wIWfmUfW-_"
      },
      "outputs": [],
      "source": [
        "y_pred = new_model_xgb.predict(x_test)"
      ]
    },
    {
      "cell_type": "code",
      "execution_count": 32,
      "metadata": {
        "id": "cmbRFd1siiE3"
      },
      "outputs": [],
      "source": [
        "accuracy = accuracy_score(y_test, y_pred)\n",
        "precision = precision_score(y_test, y_pred)\n",
        "recall = recall_score(y_test, y_pred)\n",
        "f1 = f1_score(y_test, y_pred)"
      ]
    },
    {
      "cell_type": "code",
      "execution_count": 33,
      "metadata": {
        "colab": {
          "base_uri": "https://localhost:8080/"
        },
        "id": "CWZn3gwzikXM",
        "outputId": "87dc0e19-b0fb-4043-8a7b-4c067eb59d24"
      },
      "outputs": [
        {
          "name": "stdout",
          "output_type": "stream",
          "text": [
            "Accuracy: 0.8840082420187774\n",
            "Precision: 0.8932425760033857\n",
            "Recall: 0.8725324697695249\n",
            "F1 Score: 0.882766072393301\n"
          ]
        }
      ],
      "source": [
        "print(f\"Accuracy: {accuracy}\")\n",
        "print(f\"Precision: {precision}\")\n",
        "print(f\"Recall: {recall}\")\n",
        "print(f\"F1 Score: {f1}\")"
      ]
    },
    {
      "cell_type": "code",
      "execution_count": 34,
      "metadata": {
        "colab": {
          "base_uri": "https://localhost:8080/"
        },
        "id": "_a-kukGVfcbX",
        "outputId": "030b6e3b-757a-491d-83b3-fcd3caa1345b"
      },
      "outputs": [
        {
          "name": "stdout",
          "output_type": "stream",
          "text": [
            "MAPE değeri:235059548965876.56\n",
            "MAE değeri:0.11599175798122269\n",
            "MSE değeri:0.11599175798122269\n"
          ]
        }
      ],
      "source": [
        "MAPE=mean_absolute_percentage_error(y_test,y_pred)\n",
        "MAE=mean_absolute_error(y_test,y_pred)\n",
        "MSE=mean_squared_error(y_test,y_pred)\n",
        "\n",
        "print(f\"MAPE değeri:{MAPE}\")\n",
        "print(f\"MAE değeri:{MAE}\")\n",
        "print(f\"MSE değeri:{MSE}\")"
      ]
    },
    {
      "cell_type": "code",
      "execution_count": 35,
      "metadata": {
        "colab": {
          "base_uri": "https://localhost:8080/",
          "height": 564
        },
        "id": "2jtxYnq-u1mF",
        "outputId": "b91c974a-2841-4624-9559-d54e9cbb813e"
      },
      "outputs": [
        {
          "data": {
            "image/png": "[encoded data removed]",
            "text/plain": [
              "<Figure size 800x600 with 1 Axes>"
            ]
          },
          "metadata": {},
          "output_type": "display_data"
        }
      ],
      "source": [
        "cm = confusion_matrix(y_test, y_pred)\n",
        "\n",
        "plt.figure(figsize=(8,6))\n",
        "sns.heatmap(cm, annot=True, fmt='d', cmap='Blues', cbar=False)\n",
        "plt.xlabel('Predicted Labels')\n",
        "plt.ylabel('True Labels')\n",
        "plt.title('Confusion Matrix')\n",
        "plt.show()\n"
      ]
    }
  ],
  "metadata": {
    "colab": {
      "provenance": []
    },
    "kernelspec": {
      "display_name": "Python 3",
      "name": "python3"
    },
    "language_info": {
      "codemirror_mode": {
        "name": "ipython",
        "version": 3
      },
      "file_extension": ".py",
      "mimetype": "text/x-python",
      "name": "python",
      "nbconvert_exporter": "python",
      "pygments_lexer": "ipython3",
      "version": "3.12.4"
    }
  },
  "nbformat": 4,
  "nbformat_minor": 0
}
