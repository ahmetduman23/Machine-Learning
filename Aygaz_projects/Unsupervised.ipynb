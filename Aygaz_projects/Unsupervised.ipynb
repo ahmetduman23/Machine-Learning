{
 "cells": [
  {
   "cell_type": "markdown",
   "id": "7b39586a",
   "metadata": {},
   "source": [
    "# Denetimsiz Makine Öğrenmesi"
   ]
  },
  {
   "cell_type": "markdown",
   "id": "7e513543",
   "metadata": {},
   "source": [
    "## Kullanılan Modeller \n",
    "* Gaussian Mixture\n",
    "* KMeans"
   ]
  },
  {
   "cell_type": "code",
   "execution_count": 1,
   "id": "75e1a8ee",
   "metadata": {
    "execution": {
     "iopub.execute_input": "2024-09-19T06:07:57.222116Z",
     "iopub.status.busy": "2024-09-19T06:07:57.221602Z",
     "iopub.status.idle": "2024-09-19T06:08:00.015892Z",
     "shell.execute_reply": "2024-09-19T06:08:00.014664Z"
    },
    "papermill": {
     "duration": 2.80381,
     "end_time": "2024-09-19T06:08:00.018590",
     "exception": false,
     "start_time": "2024-09-19T06:07:57.214780",
     "status": "completed"
    },
    "tags": []
   },
   "outputs": [],
   "source": [
    "import pandas as pd\n",
    "from sklearn.cluster import KMeans\n",
    "from sklearn.mixture import GaussianMixture\n",
    "from sklearn.preprocessing import StandardScaler, LabelEncoder\n",
    "from sklearn.metrics import silhouette_score, adjusted_rand_score, confusion_matrix\n",
    "import seaborn as sns\n",
    "import matplotlib.pyplot as plt\n",
    "import warnings\n",
    "warnings.filterwarnings('ignore')"
   ]
  },
  {
   "cell_type": "markdown",
   "id": "34211dda",
   "metadata": {},
   "source": [
    "##### Veri setimiz pek denetimsiz makine öğrenmesine uygun değil fakat aygaz bootcampi kapsamında yaptığım bu projede aynı veri setini kullanmalıydım sizler bu yöntemleri farklı veri setlerinde kullanarak daha iyi sonuçlara ulaşabilirsiniz"
   ]
  },
  {
   "cell_type": "code",
   "execution_count": 2,
   "id": "502b24b2",
   "metadata": {
    "execution": {
     "iopub.execute_input": "2024-09-19T06:08:00.029917Z",
     "iopub.status.busy": "2024-09-19T06:08:00.029357Z",
     "iopub.status.idle": "2024-09-19T06:08:01.154289Z",
     "shell.execute_reply": "2024-09-19T06:08:01.153182Z"
    },
    "papermill": {
     "duration": 1.13321,
     "end_time": "2024-09-19T06:08:01.156617",
     "exception": false,
     "start_time": "2024-09-19T06:08:00.023407",
     "status": "completed"
    },
    "tags": []
   },
   "outputs": [
    {
     "data": {
      "text/html": [
       "<div>\n",
       "<style scoped>\n",
       "    .dataframe tbody tr th:only-of-type {\n",
       "        vertical-align: middle;\n",
       "    }\n",
       "\n",
       "    .dataframe tbody tr th {\n",
       "        vertical-align: top;\n",
       "    }\n",
       "\n",
       "    .dataframe thead th {\n",
       "        text-align: right;\n",
       "    }\n",
       "</style>\n",
       "<table border=\"1\" class=\"dataframe\">\n",
       "  <thead>\n",
       "    <tr style=\"text-align: right;\">\n",
       "      <th></th>\n",
       "      <th>HeartDisease</th>\n",
       "      <th>BMI</th>\n",
       "      <th>Smoking</th>\n",
       "      <th>AlcoholDrinking</th>\n",
       "      <th>Stroke</th>\n",
       "      <th>PhysicalHealth</th>\n",
       "      <th>MentalHealth</th>\n",
       "      <th>DiffWalking</th>\n",
       "      <th>Sex</th>\n",
       "      <th>AgeCategory</th>\n",
       "      <th>Race</th>\n",
       "      <th>Diabetic</th>\n",
       "      <th>PhysicalActivity</th>\n",
       "      <th>GenHealth</th>\n",
       "      <th>SleepTime</th>\n",
       "      <th>Asthma</th>\n",
       "      <th>KidneyDisease</th>\n",
       "      <th>SkinCancer</th>\n",
       "    </tr>\n",
       "  </thead>\n",
       "  <tbody>\n",
       "    <tr>\n",
       "      <th>0</th>\n",
       "      <td>No</td>\n",
       "      <td>16.60</td>\n",
       "      <td>Yes</td>\n",
       "      <td>No</td>\n",
       "      <td>No</td>\n",
       "      <td>3.0</td>\n",
       "      <td>30.0</td>\n",
       "      <td>No</td>\n",
       "      <td>Female</td>\n",
       "      <td>55-59</td>\n",
       "      <td>White</td>\n",
       "      <td>Yes</td>\n",
       "      <td>Yes</td>\n",
       "      <td>Very good</td>\n",
       "      <td>5.0</td>\n",
       "      <td>Yes</td>\n",
       "      <td>No</td>\n",
       "      <td>Yes</td>\n",
       "    </tr>\n",
       "    <tr>\n",
       "      <th>1</th>\n",
       "      <td>No</td>\n",
       "      <td>20.34</td>\n",
       "      <td>No</td>\n",
       "      <td>No</td>\n",
       "      <td>Yes</td>\n",
       "      <td>0.0</td>\n",
       "      <td>0.0</td>\n",
       "      <td>No</td>\n",
       "      <td>Female</td>\n",
       "      <td>80 or older</td>\n",
       "      <td>White</td>\n",
       "      <td>No</td>\n",
       "      <td>Yes</td>\n",
       "      <td>Very good</td>\n",
       "      <td>7.0</td>\n",
       "      <td>No</td>\n",
       "      <td>No</td>\n",
       "      <td>No</td>\n",
       "    </tr>\n",
       "    <tr>\n",
       "      <th>2</th>\n",
       "      <td>No</td>\n",
       "      <td>26.58</td>\n",
       "      <td>Yes</td>\n",
       "      <td>No</td>\n",
       "      <td>No</td>\n",
       "      <td>20.0</td>\n",
       "      <td>30.0</td>\n",
       "      <td>No</td>\n",
       "      <td>Male</td>\n",
       "      <td>65-69</td>\n",
       "      <td>White</td>\n",
       "      <td>Yes</td>\n",
       "      <td>Yes</td>\n",
       "      <td>Fair</td>\n",
       "      <td>8.0</td>\n",
       "      <td>Yes</td>\n",
       "      <td>No</td>\n",
       "      <td>No</td>\n",
       "    </tr>\n",
       "  </tbody>\n",
       "</table>\n",
       "</div>"
      ],
      "text/plain": [
       "  HeartDisease    BMI Smoking AlcoholDrinking Stroke  PhysicalHealth  \\\n",
       "0           No  16.60     Yes              No     No             3.0   \n",
       "1           No  20.34      No              No    Yes             0.0   \n",
       "2           No  26.58     Yes              No     No            20.0   \n",
       "\n",
       "   MentalHealth DiffWalking     Sex  AgeCategory   Race Diabetic  \\\n",
       "0          30.0          No  Female        55-59  White      Yes   \n",
       "1           0.0          No  Female  80 or older  White       No   \n",
       "2          30.0          No    Male        65-69  White      Yes   \n",
       "\n",
       "  PhysicalActivity  GenHealth  SleepTime Asthma KidneyDisease SkinCancer  \n",
       "0              Yes  Very good        5.0    Yes            No        Yes  \n",
       "1              Yes  Very good        7.0     No            No         No  \n",
       "2              Yes       Fair        8.0    Yes            No         No  "
      ]
     },
     "execution_count": 2,
     "metadata": {},
     "output_type": "execute_result"
    }
   ],
   "source": [
    "# Veri setini CSV dosyasından okuyoruz ve ilk 3 satırı görüntülüyoruz\n",
    "df = pd.read_csv(\"/kaggle/input/personal-key-indicators-of-heart-disease/2020/heart_2020_cleaned.csv\")\n",
    "df.head(3)"
   ]
  },
  {
   "cell_type": "code",
   "execution_count": 3,
   "id": "6dfd8bbc",
   "metadata": {
    "execution": {
     "iopub.execute_input": "2024-09-19T06:08:01.167927Z",
     "iopub.status.busy": "2024-09-19T06:08:01.167488Z",
     "iopub.status.idle": "2024-09-19T06:08:01.233187Z",
     "shell.execute_reply": "2024-09-19T06:08:01.231806Z"
    },
    "papermill": {
     "duration": 0.074352,
     "end_time": "2024-09-19T06:08:01.235835",
     "exception": false,
     "start_time": "2024-09-19T06:08:01.161483",
     "status": "completed"
    },
    "tags": []
   },
   "outputs": [],
   "source": [
    "# SkinCancer değişkenini etiketleme (Label Encoding)\n",
    "le = LabelEncoder()\n",
    "df[\"SkinCancer\"] = le.fit_transform(df[\"SkinCancer\"])"
   ]
  },
  {
   "cell_type": "code",
   "execution_count": 4,
   "id": "e23cbc9f",
   "metadata": {
    "execution": {
     "iopub.execute_input": "2024-09-19T06:08:01.247267Z",
     "iopub.status.busy": "2024-09-19T06:08:01.246835Z",
     "iopub.status.idle": "2024-09-19T06:08:01.688307Z",
     "shell.execute_reply": "2024-09-19T06:08:01.687350Z"
    },
    "papermill": {
     "duration": 0.450081,
     "end_time": "2024-09-19T06:08:01.690781",
     "exception": false,
     "start_time": "2024-09-19T06:08:01.240700",
     "status": "completed"
    },
    "tags": []
   },
   "outputs": [],
   "source": [
    "# Birden fazla kategorik özelliğin one-hot encoding ile dönüştürülmesi\n",
    "features = [\"AgeCategory\", \"HeartDisease\", \"Smoking\", \"AlcoholDrinking\", \"Stroke\",\n",
    "            \"DiffWalking\", \"Sex\", \"Race\", \"Diabetic\", \"PhysicalActivity\", \"GenHealth\",\n",
    "            \"Asthma\", \"KidneyDisease\"]\n",
    "df = pd.get_dummies(df, columns=features, drop_first=True)  "
   ]
  },
  {
   "cell_type": "code",
   "execution_count": 5,
   "id": "4c2cb270",
   "metadata": {
    "execution": {
     "iopub.execute_input": "2024-09-19T06:08:01.702195Z",
     "iopub.status.busy": "2024-09-19T06:08:01.701744Z",
     "iopub.status.idle": "2024-09-19T06:08:01.730223Z",
     "shell.execute_reply": "2024-09-19T06:08:01.728841Z"
    },
    "papermill": {
     "duration": 0.037645,
     "end_time": "2024-09-19T06:08:01.733274",
     "exception": false,
     "start_time": "2024-09-19T06:08:01.695629",
     "status": "completed"
    },
    "tags": []
   },
   "outputs": [],
   "source": [
    "# Eksik verilerin temizlenmesi (NA değerler atılır)\n",
    "df.dropna(inplace=True)"
   ]
  },
  {
   "cell_type": "code",
   "execution_count": 6,
   "id": "96d98132",
   "metadata": {
    "execution": {
     "iopub.execute_input": "2024-09-19T06:08:01.744607Z",
     "iopub.status.busy": "2024-09-19T06:08:01.744212Z",
     "iopub.status.idle": "2024-09-19T06:08:01.750773Z",
     "shell.execute_reply": "2024-09-19T06:08:01.749559Z"
    },
    "papermill": {
     "duration": 0.015781,
     "end_time": "2024-09-19T06:08:01.753883",
     "exception": false,
     "start_time": "2024-09-19T06:08:01.738102",
     "status": "completed"
    },
    "tags": []
   },
   "outputs": [
    {
     "name": "stdout",
     "output_type": "stream",
     "text": [
      "Index(['BMI', 'PhysicalHealth', 'MentalHealth', 'SleepTime', 'SkinCancer',\n",
      "       'AgeCategory_25-29', 'AgeCategory_30-34', 'AgeCategory_35-39',\n",
      "       'AgeCategory_40-44', 'AgeCategory_45-49', 'AgeCategory_50-54',\n",
      "       'AgeCategory_55-59', 'AgeCategory_60-64', 'AgeCategory_65-69',\n",
      "       'AgeCategory_70-74', 'AgeCategory_75-79', 'AgeCategory_80 or older',\n",
      "       'HeartDisease_Yes', 'Smoking_Yes', 'AlcoholDrinking_Yes', 'Stroke_Yes',\n",
      "       'DiffWalking_Yes', 'Sex_Male', 'Race_Asian', 'Race_Black',\n",
      "       'Race_Hispanic', 'Race_Other', 'Race_White',\n",
      "       'Diabetic_No, borderline diabetes', 'Diabetic_Yes',\n",
      "       'Diabetic_Yes (during pregnancy)', 'PhysicalActivity_Yes',\n",
      "       'GenHealth_Fair', 'GenHealth_Good', 'GenHealth_Poor',\n",
      "       'GenHealth_Very good', 'Asthma_Yes', 'KidneyDisease_Yes'],\n",
      "      dtype='object')\n",
      "Toplam veri sayısı: 319795\n"
     ]
    }
   ],
   "source": [
    "# Veri setindeki kolon isimlerinin ve toplam veri sayısının yazdırılması\n",
    "info = df.columns\n",
    "print(info)\n",
    "print(f'Toplam veri sayısı: {len(df)}')"
   ]
  },
  {
   "cell_type": "code",
   "execution_count": 7,
   "id": "ba40ee52",
   "metadata": {
    "execution": {
     "iopub.execute_input": "2024-09-19T06:08:01.766290Z",
     "iopub.status.busy": "2024-09-19T06:08:01.765803Z",
     "iopub.status.idle": "2024-09-19T06:08:01.784531Z",
     "shell.execute_reply": "2024-09-19T06:08:01.783229Z"
    },
    "papermill": {
     "duration": 0.02782,
     "end_time": "2024-09-19T06:08:01.787354",
     "exception": false,
     "start_time": "2024-09-19T06:08:01.759534",
     "status": "completed"
    },
    "tags": []
   },
   "outputs": [
    {
     "name": "stdout",
     "output_type": "stream",
     "text": [
      "Eksik veriler: BMI                                 0\n",
      "PhysicalHealth                      0\n",
      "MentalHealth                        0\n",
      "SleepTime                           0\n",
      "SkinCancer                          0\n",
      "AgeCategory_25-29                   0\n",
      "AgeCategory_30-34                   0\n",
      "AgeCategory_35-39                   0\n",
      "AgeCategory_40-44                   0\n",
      "AgeCategory_45-49                   0\n",
      "AgeCategory_50-54                   0\n",
      "AgeCategory_55-59                   0\n",
      "AgeCategory_60-64                   0\n",
      "AgeCategory_65-69                   0\n",
      "AgeCategory_70-74                   0\n",
      "AgeCategory_75-79                   0\n",
      "AgeCategory_80 or older             0\n",
      "HeartDisease_Yes                    0\n",
      "Smoking_Yes                         0\n",
      "AlcoholDrinking_Yes                 0\n",
      "Stroke_Yes                          0\n",
      "DiffWalking_Yes                     0\n",
      "Sex_Male                            0\n",
      "Race_Asian                          0\n",
      "Race_Black                          0\n",
      "Race_Hispanic                       0\n",
      "Race_Other                          0\n",
      "Race_White                          0\n",
      "Diabetic_No, borderline diabetes    0\n",
      "Diabetic_Yes                        0\n",
      "Diabetic_Yes (during pregnancy)     0\n",
      "PhysicalActivity_Yes                0\n",
      "GenHealth_Fair                      0\n",
      "GenHealth_Good                      0\n",
      "GenHealth_Poor                      0\n",
      "GenHealth_Very good                 0\n",
      "Asthma_Yes                          0\n",
      "KidneyDisease_Yes                   0\n",
      "dtype: int64\n"
     ]
    }
   ],
   "source": [
    "# Eksik verilerin kontrol edilmesi\n",
    "missing_values = df.isnull().sum()\n",
    "print(f'Eksik veriler: {missing_values}')"
   ]
  },
  {
   "cell_type": "code",
   "execution_count": 8,
   "id": "87788b83",
   "metadata": {
    "execution": {
     "iopub.execute_input": "2024-09-19T06:08:01.799132Z",
     "iopub.status.busy": "2024-09-19T06:08:01.798689Z",
     "iopub.status.idle": "2024-09-19T06:08:01.804087Z",
     "shell.execute_reply": "2024-09-19T06:08:01.803066Z"
    },
    "papermill": {
     "duration": 0.014067,
     "end_time": "2024-09-19T06:08:01.806441",
     "exception": false,
     "start_time": "2024-09-19T06:08:01.792374",
     "status": "completed"
    },
    "tags": []
   },
   "outputs": [],
   "source": [
    "# Eksik veri varsa tekrar temizleme işlemi\n",
    "if missing_values.sum() > 0:\n",
    "    df.dropna(inplace=True)"
   ]
  },
  {
   "cell_type": "code",
   "execution_count": 9,
   "id": "c6bb8f02",
   "metadata": {
    "execution": {
     "iopub.execute_input": "2024-09-19T06:08:01.818246Z",
     "iopub.status.busy": "2024-09-19T06:08:01.817792Z",
     "iopub.status.idle": "2024-09-19T06:08:01.832030Z",
     "shell.execute_reply": "2024-09-19T06:08:01.830687Z"
    },
    "papermill": {
     "duration": 0.023144,
     "end_time": "2024-09-19T06:08:01.834740",
     "exception": false,
     "start_time": "2024-09-19T06:08:01.811596",
     "status": "completed"
    },
    "tags": []
   },
   "outputs": [],
   "source": [
    "# Hedef değişken (SkinCancer) ve özelliklerin ayrılması\n",
    "y = df[\"SkinCancer\"]\n",
    "x = df.drop(\"SkinCancer\", axis=1)  # Hedef değişkeni (SkinCancer) özelliklerden çıkar"
   ]
  },
  {
   "cell_type": "code",
   "execution_count": 10,
   "id": "ecd3b185",
   "metadata": {
    "execution": {
     "iopub.execute_input": "2024-09-19T06:08:01.846692Z",
     "iopub.status.busy": "2024-09-19T06:08:01.846257Z",
     "iopub.status.idle": "2024-09-19T06:08:02.538512Z",
     "shell.execute_reply": "2024-09-19T06:08:02.537431Z"
    },
    "papermill": {
     "duration": 0.701401,
     "end_time": "2024-09-19T06:08:02.541107",
     "exception": false,
     "start_time": "2024-09-19T06:08:01.839706",
     "status": "completed"
    },
    "tags": []
   },
   "outputs": [],
   "source": [
    "# Verilerin ölçeklendirilmesi (standartlaştırma)\n",
    "scaler = StandardScaler()\n",
    "x_scaled = scaler.fit_transform(x)  "
   ]
  },
  {
   "cell_type": "code",
   "execution_count": 11,
   "id": "d9679ffa",
   "metadata": {
    "execution": {
     "iopub.execute_input": "2024-09-19T06:08:02.552764Z",
     "iopub.status.busy": "2024-09-19T06:08:02.552361Z",
     "iopub.status.idle": "2024-09-19T06:08:06.460146Z",
     "shell.execute_reply": "2024-09-19T06:08:06.458952Z"
    },
    "papermill": {
     "duration": 3.916762,
     "end_time": "2024-09-19T06:08:06.462888",
     "exception": false,
     "start_time": "2024-09-19T06:08:02.546126",
     "status": "completed"
    },
    "tags": []
   },
   "outputs": [],
   "source": [
    "# KMeans kümeleme algoritmasının uygulanması\n",
    "kmeans = KMeans(n_clusters=2, random_state=42)\n",
    "y_kmeans = kmeans.fit_predict(x_scaled)"
   ]
  },
  {
   "cell_type": "code",
   "execution_count": 12,
   "id": "127deb9f",
   "metadata": {
    "execution": {
     "iopub.execute_input": "2024-09-19T06:08:06.475664Z",
     "iopub.status.busy": "2024-09-19T06:08:06.475234Z",
     "iopub.status.idle": "2024-09-19T06:28:53.891113Z",
     "shell.execute_reply": "2024-09-19T06:28:53.889829Z"
    },
    "papermill": {
     "duration": 1247.429872,
     "end_time": "2024-09-19T06:28:53.898217",
     "exception": false,
     "start_time": "2024-09-19T06:08:06.468345",
     "status": "completed"
    },
    "tags": []
   },
   "outputs": [
    {
     "name": "stdout",
     "output_type": "stream",
     "text": [
      "KMeans Silhouette Skoru: 0.18177920723109725\n",
      "KMeans ARI Skoru: 0.045130372334698174\n"
     ]
    }
   ],
   "source": [
    "# KMeans Silhouette ve ARI skorlarının hesaplanması\n",
    "silhouette_kmeans = silhouette_score(x_scaled, y_kmeans)\n",
    "ari_kmeans = adjusted_rand_score(y, y_kmeans)\n",
    "print(f'KMeans Silhouette Skoru: {silhouette_kmeans}')\n",
    "print(f'KMeans ARI Skoru: {ari_kmeans}')"
   ]
  },
  {
   "cell_type": "code",
   "execution_count": 13,
   "id": "5deebbef",
   "metadata": {
    "execution": {
     "iopub.execute_input": "2024-09-19T06:28:53.909984Z",
     "iopub.status.busy": "2024-09-19T06:28:53.909556Z",
     "iopub.status.idle": "2024-09-19T06:28:54.230404Z",
     "shell.execute_reply": "2024-09-19T06:28:54.229290Z"
    },
    "papermill": {
     "duration": 0.32964,
     "end_time": "2024-09-19T06:28:54.232879",
     "exception": false,
     "start_time": "2024-09-19T06:28:53.903239",
     "status": "completed"
    },
    "tags": []
   },
   "outputs": [
    {
     "data": {
      "image/png": "[encoded data removed]",
      "text/plain": [
       "<Figure size 600x400 with 2 Axes>"
      ]
     },
     "metadata": {},
     "output_type": "display_data"
    }
   ],
   "source": [
    "# KMeans için karışıklık matrisinin görselleştirilmesi\n",
    "cm_kmeans = confusion_matrix(y, y_kmeans)\n",
    "plt.figure(figsize=(6,4))\n",
    "sns.heatmap(cm_kmeans, annot=True, fmt='d', cmap='Blues')\n",
    "plt.title('KMeans Karışıklık Matrisi')\n",
    "plt.xlabel('Tahmin Edilen')\n",
    "plt.ylabel('Gerçek')\n",
    "plt.show()"
   ]
  },
  {
   "cell_type": "code",
   "execution_count": 14,
   "id": "528d53ea",
   "metadata": {
    "execution": {
     "iopub.execute_input": "2024-09-19T06:28:54.246149Z",
     "iopub.status.busy": "2024-09-19T06:28:54.245216Z",
     "iopub.status.idle": "2024-09-19T06:28:57.261592Z",
     "shell.execute_reply": "2024-09-19T06:28:57.260376Z"
    },
    "papermill": {
     "duration": 3.026007,
     "end_time": "2024-09-19T06:28:57.264487",
     "exception": false,
     "start_time": "2024-09-19T06:28:54.238480",
     "status": "completed"
    },
    "tags": []
   },
   "outputs": [],
   "source": [
    "# Gaussian Mixture Model (GMM) ile kümeleme yapılması\n",
    "gmm = GaussianMixture(n_components=2, random_state=42)\n",
    "y_gmm = gmm.fit_predict(x_scaled)"
   ]
  },
  {
   "cell_type": "code",
   "execution_count": 15,
   "id": "bd80b70b",
   "metadata": {
    "execution": {
     "iopub.execute_input": "2024-09-19T06:28:57.277761Z",
     "iopub.status.busy": "2024-09-19T06:28:57.277309Z",
     "iopub.status.idle": "2024-09-19T06:50:02.121494Z",
     "shell.execute_reply": "2024-09-19T06:50:02.120187Z"
    },
    "papermill": {
     "duration": 1264.861998,
     "end_time": "2024-09-19T06:50:02.132323",
     "exception": false,
     "start_time": "2024-09-19T06:28:57.270325",
     "status": "completed"
    },
    "tags": []
   },
   "outputs": [
    {
     "name": "stdout",
     "output_type": "stream",
     "text": [
      "Gaussian Mixture Silhouette Skoru: 0.12614117064154126\n",
      "Gaussian Mixture ARI Skoru: -0.06657941819007289\n"
     ]
    }
   ],
   "source": [
    "# Gaussian Mixture için Silhouette ve ARI skorlarının hesaplanması\n",
    "silhouette_gmm = silhouette_score(x_scaled, y_gmm)\n",
    "ari_gmm = adjusted_rand_score(y, y_gmm)\n",
    "print(f'Gaussian Mixture Silhouette Skoru: {silhouette_gmm}')\n",
    "print(f'Gaussian Mixture ARI Skoru: {ari_gmm}')"
   ]
  },
  {
   "cell_type": "code",
   "execution_count": 16,
   "id": "c9c078a1",
   "metadata": {
    "execution": {
     "iopub.execute_input": "2024-09-19T06:50:02.149911Z",
     "iopub.status.busy": "2024-09-19T06:50:02.149472Z",
     "iopub.status.idle": "2024-09-19T06:50:02.481709Z",
     "shell.execute_reply": "2024-09-19T06:50:02.480517Z"
    },
    "papermill": {
     "duration": 0.343963,
     "end_time": "2024-09-19T06:50:02.484665",
     "exception": false,
     "start_time": "2024-09-19T06:50:02.140702",
     "status": "completed"
    },
    "tags": []
   },
   "outputs": [
    {
     "data": {
      "image/png": "[encoded data removed]",
      "text/plain": [
       "<Figure size 600x400 with 2 Axes>"
      ]
     },
     "metadata": {},
     "output_type": "display_data"
    }
   ],
   "source": [
    "# Gaussian Mixture için karışıklık matrisinin görselleştirilmesi\n",
    "cm_gmm = confusion_matrix(y, y_gmm)\n",
    "plt.figure(figsize=(6,4))\n",
    "sns.heatmap(cm_gmm, annot=True, fmt='d', cmap='Greens')\n",
    "plt.title('Gaussian Mixture Karışıklık Matrisi')\n",
    "plt.xlabel('Tahmin Edilen')\n",
    "plt.ylabel('Gerçek')\n",
    "plt.show()"
   ]
  }
 ],
 "metadata": {
  "kaggle": {
   "accelerator": "none",
   "dataSources": [
    {
     "datasetId": 1936563,
     "sourceId": 6674905,
     "sourceType": "datasetVersion"
    }
   ],
   "dockerImageVersionId": 30761,
   "isGpuEnabled": false,
   "isInternetEnabled": false,
   "language": "python",
   "sourceType": "notebook"
  },
  "kernelspec": {
   "display_name": "Python 3",
   "language": "python",
   "name": "python3"
  },
  "language_info": {
   "codemirror_mode": {
    "name": "ipython",
    "version": 3
   },
   "file_extension": ".py",
   "mimetype": "text/x-python",
   "name": "python",
   "nbconvert_exporter": "python",
   "pygments_lexer": "ipython3",
   "version": "3.10.14"
  },
  "papermill": {
   "default_parameters": {},
   "duration": 2528.828633,
   "end_time": "2024-09-19T06:50:03.213445",
   "environment_variables": {},
   "exception": null,
   "input_path": "__notebook__.ipynb",
   "output_path": "__notebook__.ipynb",
   "parameters": {},
   "start_time": "2024-09-19T06:07:54.384812",
   "version": "2.6.0"
  }
 },
 "nbformat": 4,
 "nbformat_minor": 5
}
