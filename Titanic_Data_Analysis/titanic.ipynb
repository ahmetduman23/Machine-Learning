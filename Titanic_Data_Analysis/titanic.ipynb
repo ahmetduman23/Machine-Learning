{
 "cells": [
  {
   "cell_type": "code",
   "execution_count": 1,
   "id": "7bd1d01c",
   "metadata": {
    "_cell_guid": "b1076dfc-b9ad-4769-8c92-a6c4dae69d19",
    "_uuid": "8f2839f25d086af736a60e9eeb907d3b93b6e0e5",
    "execution": {
     "iopub.execute_input": "2024-10-06T19:30:19.828909Z",
     "iopub.status.busy": "2024-10-06T19:30:19.828494Z",
     "iopub.status.idle": "2024-10-06T19:30:23.162152Z",
     "shell.execute_reply": "2024-10-06T19:30:23.161004Z"
    },
    "papermill": {
     "duration": 3.343891,
     "end_time": "2024-10-06T19:30:23.165006",
     "exception": false,
     "start_time": "2024-10-06T19:30:19.821115",
     "status": "completed"
    },
    "tags": []
   },
   "outputs": [
    {
     "data": {
      "text/html": [
       "<div>\n",
       "<style scoped>\n",
       "    .dataframe tbody tr th:only-of-type {\n",
       "        vertical-align: middle;\n",
       "    }\n",
       "\n",
       "    .dataframe tbody tr th {\n",
       "        vertical-align: top;\n",
       "    }\n",
       "\n",
       "    .dataframe thead th {\n",
       "        text-align: right;\n",
       "    }\n",
       "</style>\n",
       "<table border=\"1\" class=\"dataframe\">\n",
       "  <thead>\n",
       "    <tr style=\"text-align: right;\">\n",
       "      <th></th>\n",
       "      <th>survived</th>\n",
       "      <th>pclass</th>\n",
       "      <th>sex</th>\n",
       "      <th>age</th>\n",
       "      <th>sibsp</th>\n",
       "      <th>parch</th>\n",
       "      <th>fare</th>\n",
       "      <th>embarked</th>\n",
       "      <th>class</th>\n",
       "      <th>who</th>\n",
       "      <th>adult_male</th>\n",
       "      <th>deck</th>\n",
       "      <th>embark_town</th>\n",
       "      <th>alive</th>\n",
       "      <th>alone</th>\n",
       "    </tr>\n",
       "  </thead>\n",
       "  <tbody>\n",
       "    <tr>\n",
       "      <th>0</th>\n",
       "      <td>0</td>\n",
       "      <td>3</td>\n",
       "      <td>male</td>\n",
       "      <td>22.0</td>\n",
       "      <td>1</td>\n",
       "      <td>0</td>\n",
       "      <td>7.2500</td>\n",
       "      <td>S</td>\n",
       "      <td>Third</td>\n",
       "      <td>man</td>\n",
       "      <td>True</td>\n",
       "      <td>NaN</td>\n",
       "      <td>Southampton</td>\n",
       "      <td>no</td>\n",
       "      <td>False</td>\n",
       "    </tr>\n",
       "    <tr>\n",
       "      <th>1</th>\n",
       "      <td>1</td>\n",
       "      <td>1</td>\n",
       "      <td>female</td>\n",
       "      <td>38.0</td>\n",
       "      <td>1</td>\n",
       "      <td>0</td>\n",
       "      <td>71.2833</td>\n",
       "      <td>C</td>\n",
       "      <td>First</td>\n",
       "      <td>woman</td>\n",
       "      <td>False</td>\n",
       "      <td>C</td>\n",
       "      <td>Cherbourg</td>\n",
       "      <td>yes</td>\n",
       "      <td>False</td>\n",
       "    </tr>\n",
       "    <tr>\n",
       "      <th>2</th>\n",
       "      <td>1</td>\n",
       "      <td>3</td>\n",
       "      <td>female</td>\n",
       "      <td>26.0</td>\n",
       "      <td>0</td>\n",
       "      <td>0</td>\n",
       "      <td>7.9250</td>\n",
       "      <td>S</td>\n",
       "      <td>Third</td>\n",
       "      <td>woman</td>\n",
       "      <td>False</td>\n",
       "      <td>NaN</td>\n",
       "      <td>Southampton</td>\n",
       "      <td>yes</td>\n",
       "      <td>True</td>\n",
       "    </tr>\n",
       "    <tr>\n",
       "      <th>3</th>\n",
       "      <td>1</td>\n",
       "      <td>1</td>\n",
       "      <td>female</td>\n",
       "      <td>35.0</td>\n",
       "      <td>1</td>\n",
       "      <td>0</td>\n",
       "      <td>53.1000</td>\n",
       "      <td>S</td>\n",
       "      <td>First</td>\n",
       "      <td>woman</td>\n",
       "      <td>False</td>\n",
       "      <td>C</td>\n",
       "      <td>Southampton</td>\n",
       "      <td>yes</td>\n",
       "      <td>False</td>\n",
       "    </tr>\n",
       "    <tr>\n",
       "      <th>4</th>\n",
       "      <td>0</td>\n",
       "      <td>3</td>\n",
       "      <td>male</td>\n",
       "      <td>35.0</td>\n",
       "      <td>0</td>\n",
       "      <td>0</td>\n",
       "      <td>8.0500</td>\n",
       "      <td>S</td>\n",
       "      <td>Third</td>\n",
       "      <td>man</td>\n",
       "      <td>True</td>\n",
       "      <td>NaN</td>\n",
       "      <td>Southampton</td>\n",
       "      <td>no</td>\n",
       "      <td>True</td>\n",
       "    </tr>\n",
       "  </tbody>\n",
       "</table>\n",
       "</div>"
      ],
      "text/plain": [
       "   survived  pclass     sex   age  sibsp  parch     fare embarked  class  \\\n",
       "0         0       3    male  22.0      1      0   7.2500        S  Third   \n",
       "1         1       1  female  38.0      1      0  71.2833        C  First   \n",
       "2         1       3  female  26.0      0      0   7.9250        S  Third   \n",
       "3         1       1  female  35.0      1      0  53.1000        S  First   \n",
       "4         0       3    male  35.0      0      0   8.0500        S  Third   \n",
       "\n",
       "     who  adult_male deck  embark_town alive  alone  \n",
       "0    man        True  NaN  Southampton    no  False  \n",
       "1  woman       False    C    Cherbourg   yes  False  \n",
       "2  woman       False  NaN  Southampton   yes   True  \n",
       "3  woman       False    C  Southampton   yes  False  \n",
       "4    man        True  NaN  Southampton    no   True  "
      ]
     },
     "execution_count": 1,
     "metadata": {},
     "output_type": "execute_result"
    }
   ],
   "source": [
    "import numpy as np\n",
    "import pandas as pd \n",
    "import seaborn as sns \n",
    "import matplotlib.pyplot as plt\n",
    "\n",
    "pd.set_option(\"display.max_columns\",None)\n",
    "df=sns.load_dataset(\"titanic\")\n",
    "df.head(5)"
   ]
  },
  {
   "cell_type": "markdown",
   "id": "4d521cc8",
   "metadata": {
    "papermill": {
     "duration": 0.005455,
     "end_time": "2024-10-06T19:30:23.177524",
     "exception": false,
     "start_time": "2024-10-06T19:30:23.172069",
     "status": "completed"
    },
    "tags": []
   },
   "source": [
    "# Kategorik Verilerin Analizi"
   ]
  },
  {
   "cell_type": "code",
   "execution_count": 2,
   "id": "31dfe859",
   "metadata": {
    "execution": {
     "iopub.execute_input": "2024-10-06T19:30:23.190864Z",
     "iopub.status.busy": "2024-10-06T19:30:23.190392Z",
     "iopub.status.idle": "2024-10-06T19:30:23.239215Z",
     "shell.execute_reply": "2024-10-06T19:30:23.237908Z"
    },
    "papermill": {
     "duration": 0.058821,
     "end_time": "2024-10-06T19:30:23.242089",
     "exception": false,
     "start_time": "2024-10-06T19:30:23.183268",
     "status": "completed"
    },
    "tags": []
   },
   "outputs": [
    {
     "name": "stdout",
     "output_type": "stream",
     "text": [
      "######## Shape #########\n",
      "(891, 15)\n",
      "######## Type #########\n",
      "survived          int64\n",
      "pclass            int64\n",
      "sex              object\n",
      "age             float64\n",
      "sibsp             int64\n",
      "parch             int64\n",
      "fare            float64\n",
      "embarked         object\n",
      "class          category\n",
      "who              object\n",
      "adult_male         bool\n",
      "deck           category\n",
      "embark_town      object\n",
      "alive            object\n",
      "alone              bool\n",
      "dtype: object\n",
      "######## Head #########\n",
      "   survived  pclass     sex   age  sibsp  parch     fare embarked  class  \\\n",
      "0         0       3    male  22.0      1      0   7.2500        S  Third   \n",
      "1         1       1  female  38.0      1      0  71.2833        C  First   \n",
      "2         1       3  female  26.0      0      0   7.9250        S  Third   \n",
      "3         1       1  female  35.0      1      0  53.1000        S  First   \n",
      "4         0       3    male  35.0      0      0   8.0500        S  Third   \n",
      "\n",
      "     who  adult_male deck  embark_town alive  alone  \n",
      "0    man        True  NaN  Southampton    no  False  \n",
      "1  woman       False    C    Cherbourg   yes  False  \n",
      "2  woman       False  NaN  Southampton   yes   True  \n",
      "3  woman       False    C  Southampton   yes  False  \n",
      "4    man        True  NaN  Southampton    no   True  \n",
      "######## Tail #########\n",
      "     survived  pclass     sex   age  sibsp  parch   fare embarked   class  \\\n",
      "886         0       2    male  27.0      0      0  13.00        S  Second   \n",
      "887         1       1  female  19.0      0      0  30.00        S   First   \n",
      "888         0       3  female   NaN      1      2  23.45        S   Third   \n",
      "889         1       1    male  26.0      0      0  30.00        C   First   \n",
      "890         0       3    male  32.0      0      0   7.75        Q   Third   \n",
      "\n",
      "       who  adult_male deck  embark_town alive  alone  \n",
      "886    man        True  NaN  Southampton    no   True  \n",
      "887  woman       False    B  Southampton   yes   True  \n",
      "888  woman       False  NaN  Southampton    no  False  \n",
      "889    man        True    C    Cherbourg   yes   True  \n",
      "890    man        True  NaN   Queenstown    no   True  \n",
      "######## NaN #########\n",
      "survived         0\n",
      "pclass           0\n",
      "sex              0\n",
      "age            177\n",
      "sibsp            0\n",
      "parch            0\n",
      "fare             0\n",
      "embarked         2\n",
      "class            0\n",
      "who              0\n",
      "adult_male       0\n",
      "deck           688\n",
      "embark_town      2\n",
      "alive            0\n",
      "alone            0\n",
      "dtype: int64\n",
      "######## Quantiles #########\n",
      "          count       mean        std   min    0%      25%      50%   75%  \\\n",
      "survived  891.0   0.383838   0.486592  0.00  0.00   0.0000   0.0000   1.0   \n",
      "pclass    891.0   2.308642   0.836071  1.00  1.00   2.0000   3.0000   3.0   \n",
      "age       714.0  29.699118  14.526497  0.42  0.42  20.1250  28.0000  38.0   \n",
      "sibsp     891.0   0.523008   1.102743  0.00  0.00   0.0000   0.0000   1.0   \n",
      "parch     891.0   0.381594   0.806057  0.00  0.00   0.0000   0.0000   0.0   \n",
      "fare      891.0  32.204208  49.693429  0.00  0.00   7.9104  14.4542  31.0   \n",
      "\n",
      "              90%      100%       max  \n",
      "survived   1.0000    1.0000    1.0000  \n",
      "pclass     3.0000    3.0000    3.0000  \n",
      "age       50.0000   80.0000   80.0000  \n",
      "sibsp      1.0000    8.0000    8.0000  \n",
      "parch      2.0000    6.0000    6.0000  \n",
      "fare      77.9583  512.3292  512.3292  \n"
     ]
    }
   ],
   "source": [
    "# Dataframe'in genel özelliklerine göz atma\n",
    "\n",
    "def check_df(dataframe,head=5):\n",
    "    print(\"######## Shape #########\")  # Dataframe'in satır ve sütun bilgisini ekrana yazdırma \n",
    "    print(dataframe.shape)\n",
    "    print(\"######## Type #########\")   # Dataframe de bulunan sütunların tiplerini ekrana yazdırma\n",
    "    print(dataframe.dtypes)\n",
    "    print(\"######## Head #########\")   # Dataframe'in ilk 5 satırını ekrana yazdırma\n",
    "    print(dataframe.head(head))\n",
    "    print(\"######## Tail #########\")   # Dataframe'in son 5 satırını ekrana yazdırma\n",
    "    print(dataframe.tail(head))\n",
    "    print(\"######## NaN #########\")    # Dataframe de bulunan eksik verileri tespit etme\n",
    "    print(dataframe.isnull().sum())\n",
    "    print(\"######## Quantiles #########\")   # Dataframe den yüzdelik dilimler halinde bilgi alma\n",
    "    print(dataframe.describe([0,0.25,0.50,0.75,0.90,1]).T)\n",
    "    \n",
    "check_df(df)\n",
    "    "
   ]
  },
  {
   "cell_type": "code",
   "execution_count": 3,
   "id": "31346254",
   "metadata": {
    "execution": {
     "iopub.execute_input": "2024-10-06T19:30:23.255566Z",
     "iopub.status.busy": "2024-10-06T19:30:23.255133Z",
     "iopub.status.idle": "2024-10-06T19:30:23.262810Z",
     "shell.execute_reply": "2024-10-06T19:30:23.261788Z"
    },
    "papermill": {
     "duration": 0.017568,
     "end_time": "2024-10-06T19:30:23.265632",
     "exception": false,
     "start_time": "2024-10-06T19:30:23.248064",
     "status": "completed"
    },
    "tags": []
   },
   "outputs": [
    {
     "name": "stdout",
     "output_type": "stream",
     "text": [
      "['sex', 'embarked', 'class', 'who', 'adult_male', 'deck', 'embark_town', 'alive', 'alone']\n"
     ]
    }
   ],
   "source": [
    "# Tip bilgisine göre kategorik olan sütunlara ulaşalım\n",
    "\n",
    "cat_colm=[col for col in df.columns if str(df[col].dtypes) in [\"category\",\"object\",\"bool\"]]\n",
    "print(cat_colm)"
   ]
  },
  {
   "cell_type": "code",
   "execution_count": 4,
   "id": "cddfdb1a",
   "metadata": {
    "execution": {
     "iopub.execute_input": "2024-10-06T19:30:23.279894Z",
     "iopub.status.busy": "2024-10-06T19:30:23.278858Z",
     "iopub.status.idle": "2024-10-06T19:30:23.299828Z",
     "shell.execute_reply": "2024-10-06T19:30:23.298507Z"
    },
    "papermill": {
     "duration": 0.030844,
     "end_time": "2024-10-06T19:30:23.302400",
     "exception": false,
     "start_time": "2024-10-06T19:30:23.271556",
     "status": "completed"
    },
    "tags": []
   },
   "outputs": [
    {
     "name": "stdout",
     "output_type": "stream",
     "text": [
      "num_but_cat olarak seçilen sütunlar: ['survived', 'pclass', 'sibsp', 'parch']\n",
      "cat_but_car olarak seçilen sütunlar: []\n",
      "Kategorik sütunlar: ['sex', 'embarked', 'class', 'who', 'deck', 'embark_town', 'alive']\n"
     ]
    }
   ],
   "source": [
    "# Numerik olup ama kategorik olan değişkenleri seçelim (örneğin: survived)\n",
    "num_but_cat = [col for col in df.columns if df[col].nunique() < 10 and df[col].dtype in [\"int64\", \"float64\"]]\n",
    "print(f\"num_but_cat olarak seçilen sütunlar: {num_but_cat}\")\n",
    "\n",
    "# Çok fazla değişkene sahip kategorik verileri çıkaralım (20 sınırı)\n",
    "cat_but_car = [col for col in df.columns if df[col].nunique() > 20 and df[col].dtype in [\"category\", \"object\"]]\n",
    "print(f\"cat_but_car olarak seçilen sütunlar: {cat_but_car}\")\n",
    "\n",
    "# Kategorik değişkenleri birleştirme (num_but_cat ve cat_but_car dışındaki kategorik değişkenler)\n",
    "cat_colm = [col for col in df.columns if str(df[col].dtype) in [\"category\", \"object\"]]\n",
    "cat_colm = [col for col in cat_colm if col not in cat_but_car]\n",
    "\n",
    "print(f\"Kategorik sütunlar: {cat_colm}\")"
   ]
  },
  {
   "cell_type": "code",
   "execution_count": 5,
   "id": "7c0c1063",
   "metadata": {
    "execution": {
     "iopub.execute_input": "2024-10-06T19:30:23.317646Z",
     "iopub.status.busy": "2024-10-06T19:30:23.316411Z",
     "iopub.status.idle": "2024-10-06T19:30:24.834724Z",
     "shell.execute_reply": "2024-10-06T19:30:24.833017Z"
    },
    "papermill": {
     "duration": 1.528453,
     "end_time": "2024-10-06T19:30:24.837389",
     "exception": false,
     "start_time": "2024-10-06T19:30:23.308936",
     "status": "completed"
    },
    "tags": []
   },
   "outputs": [
    {
     "name": "stdout",
     "output_type": "stream",
     "text": [
      "        sex  %'lik Oran\n",
      "sex                    \n",
      "male    577   64.758698\n",
      "female  314   35.241302\n",
      "################################################\n"
     ]
    },
    {
     "data": {
      "image/png": "[encoded data removed]",
      "text/plain": [
       "<Figure size 640x480 with 1 Axes>"
      ]
     },
     "metadata": {},
     "output_type": "display_data"
    },
    {
     "name": "stdout",
     "output_type": "stream",
     "text": [
      "          embarked  %'lik Oran\n",
      "embarked                      \n",
      "S              644   72.278339\n",
      "C              168   18.855219\n",
      "Q               77    8.641975\n",
      "################################################\n"
     ]
    },
    {
     "data": {
      "image/png": "[encoded data removed]",
      "text/plain": [
       "<Figure size 640x480 with 1 Axes>"
      ]
     },
     "metadata": {},
     "output_type": "display_data"
    },
    {
     "name": "stdout",
     "output_type": "stream",
     "text": [
      "        class  %'lik Oran\n",
      "class                    \n",
      "Third     491   55.106622\n",
      "First     216   24.242424\n",
      "Second    184   20.650954\n",
      "################################################\n"
     ]
    },
    {
     "name": "stderr",
     "output_type": "stream",
     "text": [
      "/opt/conda/lib/python3.10/site-packages/seaborn/categorical.py:641: FutureWarning: The default of observed=False is deprecated and will be changed to True in a future version of pandas. Pass observed=False to retain current behavior or observed=True to adopt the future default and silence this warning.\n",
      "  grouped_vals = vals.groupby(grouper)\n"
     ]
    },
    {
     "data": {
      "image/png": "[encoded data removed]",
      "text/plain": [
       "<Figure size 640x480 with 1 Axes>"
      ]
     },
     "metadata": {},
     "output_type": "display_data"
    },
    {
     "name": "stdout",
     "output_type": "stream",
     "text": [
      "       who  %'lik Oran\n",
      "who                   \n",
      "man    537   60.269360\n",
      "woman  271   30.415264\n",
      "child   83    9.315376\n",
      "################################################\n"
     ]
    },
    {
     "data": {
      "image/png": "[encoded data removed]",
      "text/plain": [
       "<Figure size 640x480 with 1 Axes>"
      ]
     },
     "metadata": {},
     "output_type": "display_data"
    },
    {
     "name": "stdout",
     "output_type": "stream",
     "text": [
      "      deck  %'lik Oran\n",
      "deck                  \n",
      "C       59    6.621773\n",
      "B       47    5.274972\n",
      "D       33    3.703704\n",
      "E       32    3.591470\n",
      "A       15    1.683502\n",
      "F       13    1.459035\n",
      "G        4    0.448934\n",
      "################################################\n"
     ]
    },
    {
     "name": "stderr",
     "output_type": "stream",
     "text": [
      "/opt/conda/lib/python3.10/site-packages/seaborn/categorical.py:641: FutureWarning: The default of observed=False is deprecated and will be changed to True in a future version of pandas. Pass observed=False to retain current behavior or observed=True to adopt the future default and silence this warning.\n",
      "  grouped_vals = vals.groupby(grouper)\n"
     ]
    },
    {
     "data": {
      "image/png": "[encoded data removed]",
      "text/plain": [
       "<Figure size 640x480 with 1 Axes>"
      ]
     },
     "metadata": {},
     "output_type": "display_data"
    },
    {
     "name": "stdout",
     "output_type": "stream",
     "text": [
      "             embark_town  %'lik Oran\n",
      "embark_town                         \n",
      "Southampton          644   72.278339\n",
      "Cherbourg            168   18.855219\n",
      "Queenstown            77    8.641975\n",
      "################################################\n"
     ]
    },
    {
     "data": {
      "image/png": "[encoded data removed]",
      "text/plain": [
       "<Figure size 640x480 with 1 Axes>"
      ]
     },
     "metadata": {},
     "output_type": "display_data"
    },
    {
     "name": "stdout",
     "output_type": "stream",
     "text": [
      "       alive  %'lik Oran\n",
      "alive                   \n",
      "no       549   61.616162\n",
      "yes      342   38.383838\n",
      "################################################\n"
     ]
    },
    {
     "data": {
      "image/png": "[encoded data removed]",
      "text/plain": [
       "<Figure size 640x480 with 1 Axes>"
      ]
     },
     "metadata": {},
     "output_type": "display_data"
    }
   ],
   "source": [
    "# Kategorik değişkenlerin özetini yazdıran fonksiyon\n",
    "def cat_summary(dataframe, col_name, plot=False):\n",
    "    summary = pd.DataFrame({col_name: dataframe[col_name].value_counts(),\n",
    "                            \"%'lik Oran\": 100 * dataframe[col_name].value_counts() / len(dataframe)})\n",
    "    print(summary)\n",
    "    print(\"################################################\")\n",
    "    if plot:\n",
    "        sns.countplot(x=dataframe[col_name], data=dataframe)\n",
    "        plt.show()\n",
    "\n",
    "# Boolean türde olan verileri dönüştürme ve görselleştirme\n",
    "for col in cat_colm:\n",
    "    if df[col].dtype == \"bool\":\n",
    "        df[col] = df[col].astype(int)\n",
    "    cat_summary(df, col, plot=True)"
   ]
  },
  {
   "cell_type": "markdown",
   "id": "72647890",
   "metadata": {
    "papermill": {
     "duration": 0.009605,
     "end_time": "2024-10-06T19:30:24.856872",
     "exception": false,
     "start_time": "2024-10-06T19:30:24.847267",
     "status": "completed"
    },
    "tags": []
   },
   "source": [
    "# Sayısal Verilerin Analizi"
   ]
  },
  {
   "cell_type": "code",
   "execution_count": 6,
   "id": "b18e3dc9",
   "metadata": {
    "execution": {
     "iopub.execute_input": "2024-10-06T19:30:24.877493Z",
     "iopub.status.busy": "2024-10-06T19:30:24.877058Z",
     "iopub.status.idle": "2024-10-06T19:30:24.885186Z",
     "shell.execute_reply": "2024-10-06T19:30:24.883909Z"
    },
    "papermill": {
     "duration": 0.021581,
     "end_time": "2024-10-06T19:30:24.887827",
     "exception": false,
     "start_time": "2024-10-06T19:30:24.866246",
     "status": "completed"
    },
    "tags": []
   },
   "outputs": [
    {
     "name": "stdout",
     "output_type": "stream",
     "text": [
      "['survived', 'pclass', 'age', 'sibsp', 'parch', 'fare']\n",
      "['age', 'fare']\n"
     ]
    }
   ],
   "source": [
    "# Sayısal verilerin bulunduğu sütunları seçiyoruz\n",
    "\n",
    "num_colm=[col for col in df.columns if df[col].dtypes in [\"int\",\"float\"]]\n",
    "print(num_colm)\n",
    "\n",
    "# Kategorik olup numerik gibi görünen sütunları siliyoruz\n",
    "num_colm = [col for col in num_colm if col not in num_but_cat]\n",
    "print(num_colm)"
   ]
  },
  {
   "cell_type": "code",
   "execution_count": 7,
   "id": "f91da074",
   "metadata": {
    "execution": {
     "iopub.execute_input": "2024-10-06T19:30:24.909724Z",
     "iopub.status.busy": "2024-10-06T19:30:24.909009Z",
     "iopub.status.idle": "2024-10-06T19:30:25.598168Z",
     "shell.execute_reply": "2024-10-06T19:30:25.597040Z"
    },
    "papermill": {
     "duration": 0.703328,
     "end_time": "2024-10-06T19:30:25.601501",
     "exception": false,
     "start_time": "2024-10-06T19:30:24.898173",
     "status": "completed"
    },
    "tags": []
   },
   "outputs": [
    {
     "name": "stdout",
     "output_type": "stream",
     "text": [
      "count    714.000000\n",
      "mean      29.699118\n",
      "std       14.526497\n",
      "min        0.420000\n",
      "25%       20.125000\n",
      "50%       28.000000\n",
      "75%       38.000000\n",
      "max       80.000000\n",
      "Name: age, dtype: float64\n"
     ]
    },
    {
     "data": {
      "image/png": "[encoded data removed]",
      "text/plain": [
       "<Figure size 640x480 with 1 Axes>"
      ]
     },
     "metadata": {},
     "output_type": "display_data"
    },
    {
     "name": "stdout",
     "output_type": "stream",
     "text": [
      "#####################################\n",
      "count    891.000000\n",
      "mean      32.204208\n",
      "std       49.693429\n",
      "min        0.000000\n",
      "25%        7.910400\n",
      "50%       14.454200\n",
      "75%       31.000000\n",
      "max      512.329200\n",
      "Name: fare, dtype: float64\n"
     ]
    },
    {
     "data": {
      "image/png": "[encoded data removed]",
      "text/plain": [
       "<Figure size 640x480 with 1 Axes>"
      ]
     },
     "metadata": {},
     "output_type": "display_data"
    },
    {
     "name": "stdout",
     "output_type": "stream",
     "text": [
      "#####################################\n"
     ]
    }
   ],
   "source": [
    "# Sayısal verilerimizi grafiksel olarak analiz edelim\n",
    "def num_summary(dataframe,numerical_col,plot=False):\n",
    "    print(df[numerical_col].describe().T)\n",
    "    \n",
    "    if plot:\n",
    "        dataframe[numerical_col].hist()\n",
    "        plt.xlabel(numerical_col)\n",
    "        plt.title(numerical_col)\n",
    "        plt.show(block=True)\n",
    "    print(\"#####################################\")\n",
    "    \n",
    "for col in num_colm:\n",
    "    num_summary(df,col,plot=True)"
   ]
  },
  {
   "cell_type": "markdown",
   "id": "612cb95d",
   "metadata": {
    "papermill": {
     "duration": 0.010298,
     "end_time": "2024-10-06T19:30:25.622510",
     "exception": false,
     "start_time": "2024-10-06T19:30:25.612212",
     "status": "completed"
    },
    "tags": []
   },
   "source": [
    "# Hedef Değişken Analizi"
   ]
  },
  {
   "cell_type": "code",
   "execution_count": 8,
   "id": "895a9528",
   "metadata": {
    "execution": {
     "iopub.execute_input": "2024-10-06T19:30:25.646154Z",
     "iopub.status.busy": "2024-10-06T19:30:25.645736Z",
     "iopub.status.idle": "2024-10-06T19:30:25.674497Z",
     "shell.execute_reply": "2024-10-06T19:30:25.672654Z"
    },
    "papermill": {
     "duration": 0.044089,
     "end_time": "2024-10-06T19:30:25.677132",
     "exception": false,
     "start_time": "2024-10-06T19:30:25.633043",
     "status": "completed"
    },
    "tags": []
   },
   "outputs": [
    {
     "name": "stdout",
     "output_type": "stream",
     "text": [
      "        TARGET_MEAN\n",
      "sex                \n",
      "female     0.742038\n",
      "male       0.188908\n",
      "          TARGET_MEAN\n",
      "embarked             \n",
      "C            0.553571\n",
      "Q            0.389610\n",
      "S            0.336957\n",
      "        TARGET_MEAN\n",
      "class              \n",
      "First      0.629630\n",
      "Second     0.472826\n",
      "Third      0.242363\n",
      "       TARGET_MEAN\n",
      "who               \n",
      "child     0.590361\n",
      "man       0.163873\n",
      "woman     0.756458\n",
      "      TARGET_MEAN\n",
      "deck             \n",
      "A        0.466667\n",
      "B        0.744681\n",
      "C        0.593220\n",
      "D        0.757576\n",
      "E        0.750000\n",
      "F        0.615385\n",
      "G        0.500000\n",
      "             TARGET_MEAN\n",
      "embark_town             \n",
      "Cherbourg       0.553571\n",
      "Queenstown      0.389610\n",
      "Southampton     0.336957\n",
      "       TARGET_MEAN\n",
      "alive             \n",
      "no             0.0\n",
      "yes            1.0\n"
     ]
    }
   ],
   "source": [
    "# Kategorik değişkenlerle hedef değişken analizi\n",
    "\n",
    "def target_summary_with_cat(dataframe,target,categorical_col):\n",
    "    print(pd.DataFrame({\"TARGET_MEAN\":dataframe.groupby(categorical_col,observed=True)[target].mean()}))\n",
    "    \n",
    "    \n",
    "for col in cat_colm:\n",
    "    target_summary_with_cat(df,\"survived\",col)"
   ]
  },
  {
   "cell_type": "code",
   "execution_count": 9,
   "id": "86166649",
   "metadata": {
    "execution": {
     "iopub.execute_input": "2024-10-06T19:30:25.700470Z",
     "iopub.status.busy": "2024-10-06T19:30:25.700040Z",
     "iopub.status.idle": "2024-10-06T19:30:25.715145Z",
     "shell.execute_reply": "2024-10-06T19:30:25.713658Z"
    },
    "papermill": {
     "duration": 0.029831,
     "end_time": "2024-10-06T19:30:25.717608",
     "exception": false,
     "start_time": "2024-10-06T19:30:25.687777",
     "status": "completed"
    },
    "tags": []
   },
   "outputs": [
    {
     "name": "stdout",
     "output_type": "stream",
     "text": [
      "                age\n",
      "survived           \n",
      "0         30.626179\n",
      "1         28.343690\n",
      "\n",
      "\n",
      "               fare\n",
      "survived           \n",
      "0         22.117887\n",
      "1         48.395408\n",
      "\n",
      "\n"
     ]
    }
   ],
   "source": [
    "# Sayısal değişkenlerle hedef değişken analizi\n",
    "\n",
    "def target_summary_with_num(dataframe,target,numerical_col):\n",
    "    print(dataframe.groupby(target,observed=True).agg({numerical_col:\"mean\"}),end=\"\\n\\n\\n\")\n",
    "    \n",
    "    \n",
    "for col in num_colm:\n",
    "    target_summary_with_num(df,\"survived\",col)"
   ]
  },
  {
   "cell_type": "markdown",
   "id": "e9696bab",
   "metadata": {
    "papermill": {
     "duration": 0.010632,
     "end_time": "2024-10-06T19:30:25.739315",
     "exception": false,
     "start_time": "2024-10-06T19:30:25.728683",
     "status": "completed"
    },
    "tags": []
   },
   "source": [
    "# Korelasyon Analizi"
   ]
  },
  {
   "cell_type": "code",
   "execution_count": 10,
   "id": "d73d17e4",
   "metadata": {
    "execution": {
     "iopub.execute_input": "2024-10-06T19:30:25.763327Z",
     "iopub.status.busy": "2024-10-06T19:30:25.762853Z",
     "iopub.status.idle": "2024-10-06T19:30:26.161636Z",
     "shell.execute_reply": "2024-10-06T19:30:26.160248Z"
    },
    "papermill": {
     "duration": 0.414328,
     "end_time": "2024-10-06T19:30:26.164509",
     "exception": false,
     "start_time": "2024-10-06T19:30:25.750181",
     "status": "completed"
    },
    "tags": []
   },
   "outputs": [
    {
     "data": {
      "image/png": "[encoded data removed]",
      "text/plain": [
       "<Figure size 1200x1200 with 2 Axes>"
      ]
     },
     "metadata": {},
     "output_type": "display_data"
    }
   ],
   "source": [
    "corr=df[num_colm].corr()\n",
    "\n",
    "# Isı haritası\n",
    "\n",
    "# Bu veri setinde sadece 2 adet sayısal veri geldiği için ısı haritası küçük fakat farklı veri setlerinde deneyebilirsiniz :)\n",
    "sns.set(rc={\"figure.figsize\":[12,12]})\n",
    "\n",
    "sns.heatmap(corr,cmap=\"RdBu\",annot=True,fmt='.2f')\n",
    "plt.show()"
   ]
  }
 ],
 "metadata": {
  "kaggle": {
   "accelerator": "none",
   "dataSources": [],
   "dockerImageVersionId": 30786,
   "isGpuEnabled": false,
   "isInternetEnabled": true,
   "language": "python",
   "sourceType": "notebook"
  },
  "kernelspec": {
   "display_name": "Python 3",
   "language": "python",
   "name": "python3"
  },
  "language_info": {
   "codemirror_mode": {
    "name": "ipython",
    "version": 3
   },
   "file_extension": ".py",
   "mimetype": "text/x-python",
   "name": "python",
   "nbconvert_exporter": "python",
   "pygments_lexer": "ipython3",
   "version": "3.10.14"
  },
  "papermill": {
   "default_parameters": {},
   "duration": 10.013691,
   "end_time": "2024-10-06T19:30:26.799362",
   "environment_variables": {},
   "exception": null,
   "input_path": "__notebook__.ipynb",
   "output_path": "__notebook__.ipynb",
   "parameters": {},
   "start_time": "2024-10-06T19:30:16.785671",
   "version": "2.6.0"
  }
 },
 "nbformat": 4,
 "nbformat_minor": 5
}
