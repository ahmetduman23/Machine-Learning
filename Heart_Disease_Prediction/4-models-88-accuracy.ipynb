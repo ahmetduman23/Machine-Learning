{
 "cells": [
  {
   "cell_type": "markdown",
   "id": "9f5ba63d",
   "metadata": {
    "papermill": {
     "duration": 0.007954,
     "end_time": "2024-09-19T14:27:36.374226",
     "exception": false,
     "start_time": "2024-09-19T14:27:36.366272",
     "status": "completed"
    },
    "tags": []
   },
   "source": [
    "# Denetimli Makine Öğrenmesi"
   ]
  },
  {
   "cell_type": "markdown",
   "id": "ba599b82",
   "metadata": {
    "papermill": {
     "duration": 0.006849,
     "end_time": "2024-09-19T14:27:36.389003",
     "exception": false,
     "start_time": "2024-09-19T14:27:36.382154",
     "status": "completed"
    },
    "tags": []
   },
   "source": [
    "## Kullanılan Algoritmalar:\n",
    "* XGBoost\n",
    "* Random Forest\n",
    "* KNN\n",
    "* GaussianNB   "
   ]
  },
  {
   "cell_type": "markdown",
   "id": "1bca08ae",
   "metadata": {
    "papermill": {
     "duration": 0.006596,
     "end_time": "2024-09-19T14:27:36.402586",
     "exception": false,
     "start_time": "2024-09-19T14:27:36.395990",
     "status": "completed"
    },
    "tags": []
   },
   "source": [
    "### Gerekli kütüphaneleri Yüklüyoruz"
   ]
  },
  {
   "cell_type": "code",
   "execution_count": 1,
   "id": "e4e21073",
   "metadata": {
    "execution": {
     "iopub.execute_input": "2024-09-19T14:27:36.419239Z",
     "iopub.status.busy": "2024-09-19T14:27:36.418764Z",
     "iopub.status.idle": "2024-09-19T14:27:39.498983Z",
     "shell.execute_reply": "2024-09-19T14:27:39.497850Z"
    },
    "id": "psNUHp_Yu4NV",
    "papermill": {
     "duration": 3.092001,
     "end_time": "2024-09-19T14:27:39.501769",
     "exception": false,
     "start_time": "2024-09-19T14:27:36.409768",
     "status": "completed"
    },
    "tags": []
   },
   "outputs": [],
   "source": [
    "import pandas as pd\n",
    "from xgboost import XGBClassifier\n",
    "import matplotlib.pyplot as plt\n",
    "import seaborn as sns\n",
    "from imblearn.over_sampling import SMOTE\n",
    "from sklearn.metrics import confusion_matrix, accuracy_score, precision_score, recall_score, f1_score\n",
    "from sklearn.ensemble import RandomForestClassifier\n",
    "from sklearn.model_selection import train_test_split,cross_val_score\n",
    "from sklearn.preprocessing import StandardScaler\n",
    "from sklearn.preprocessing import LabelEncoder\n",
    "from sklearn.naive_bayes import GaussianNB\n",
    "from sklearn.neighbors import KNeighborsClassifier\n",
    "from sklearn.svm import SVC\n",
    "from sklearn.model_selection import GridSearchCV\n",
    "from sklearn.metrics import mean_absolute_error,mean_absolute_percentage_error,mean_squared_error"
   ]
  },
  {
   "cell_type": "markdown",
   "id": "3d963ac3",
   "metadata": {
    "papermill": {
     "duration": 0.006942,
     "end_time": "2024-09-19T14:27:39.516138",
     "exception": false,
     "start_time": "2024-09-19T14:27:39.509196",
     "status": "completed"
    },
    "tags": []
   },
   "source": [
    "#### Veri setini okunuyup önizleme yapıyoruz df.head() fonksiyonunda ki sayıyı arttırıp daha fazla veriye ulaşabilirsiniz"
   ]
  },
  {
   "cell_type": "code",
   "execution_count": 2,
   "id": "0a694483",
   "metadata": {
    "collapsed": true,
    "execution": {
     "iopub.execute_input": "2024-09-19T14:27:39.532382Z",
     "iopub.status.busy": "2024-09-19T14:27:39.531837Z",
     "iopub.status.idle": "2024-09-19T14:27:40.706984Z",
     "shell.execute_reply": "2024-09-19T14:27:40.705853Z"
    },
    "id": "rYbDA3t2vWQL",
    "jupyter": {
     "outputs_hidden": true
    },
    "outputId": "2f0e8c86-5d89-4e05-bb0a-8f2ae226b43c",
    "papermill": {
     "duration": 1.186746,
     "end_time": "2024-09-19T14:27:40.710024",
     "exception": false,
     "start_time": "2024-09-19T14:27:39.523278",
     "status": "completed"
    },
    "tags": []
   },
   "outputs": [
    {
     "data": {
      "text/html": [
       "<div>\n",
       "<style scoped>\n",
       "    .dataframe tbody tr th:only-of-type {\n",
       "        vertical-align: middle;\n",
       "    }\n",
       "\n",
       "    .dataframe tbody tr th {\n",
       "        vertical-align: top;\n",
       "    }\n",
       "\n",
       "    .dataframe thead th {\n",
       "        text-align: right;\n",
       "    }\n",
       "</style>\n",
       "<table border=\"1\" class=\"dataframe\">\n",
       "  <thead>\n",
       "    <tr style=\"text-align: right;\">\n",
       "      <th></th>\n",
       "      <th>HeartDisease</th>\n",
       "      <th>BMI</th>\n",
       "      <th>Smoking</th>\n",
       "      <th>AlcoholDrinking</th>\n",
       "      <th>Stroke</th>\n",
       "      <th>PhysicalHealth</th>\n",
       "      <th>MentalHealth</th>\n",
       "      <th>DiffWalking</th>\n",
       "      <th>Sex</th>\n",
       "      <th>AgeCategory</th>\n",
       "      <th>Race</th>\n",
       "      <th>Diabetic</th>\n",
       "      <th>PhysicalActivity</th>\n",
       "      <th>GenHealth</th>\n",
       "      <th>SleepTime</th>\n",
       "      <th>Asthma</th>\n",
       "      <th>KidneyDisease</th>\n",
       "      <th>SkinCancer</th>\n",
       "    </tr>\n",
       "  </thead>\n",
       "  <tbody>\n",
       "    <tr>\n",
       "      <th>0</th>\n",
       "      <td>No</td>\n",
       "      <td>16.60</td>\n",
       "      <td>Yes</td>\n",
       "      <td>No</td>\n",
       "      <td>No</td>\n",
       "      <td>3.0</td>\n",
       "      <td>30.0</td>\n",
       "      <td>No</td>\n",
       "      <td>Female</td>\n",
       "      <td>55-59</td>\n",
       "      <td>White</td>\n",
       "      <td>Yes</td>\n",
       "      <td>Yes</td>\n",
       "      <td>Very good</td>\n",
       "      <td>5.0</td>\n",
       "      <td>Yes</td>\n",
       "      <td>No</td>\n",
       "      <td>Yes</td>\n",
       "    </tr>\n",
       "    <tr>\n",
       "      <th>1</th>\n",
       "      <td>No</td>\n",
       "      <td>20.34</td>\n",
       "      <td>No</td>\n",
       "      <td>No</td>\n",
       "      <td>Yes</td>\n",
       "      <td>0.0</td>\n",
       "      <td>0.0</td>\n",
       "      <td>No</td>\n",
       "      <td>Female</td>\n",
       "      <td>80 or older</td>\n",
       "      <td>White</td>\n",
       "      <td>No</td>\n",
       "      <td>Yes</td>\n",
       "      <td>Very good</td>\n",
       "      <td>7.0</td>\n",
       "      <td>No</td>\n",
       "      <td>No</td>\n",
       "      <td>No</td>\n",
       "    </tr>\n",
       "    <tr>\n",
       "      <th>2</th>\n",
       "      <td>No</td>\n",
       "      <td>26.58</td>\n",
       "      <td>Yes</td>\n",
       "      <td>No</td>\n",
       "      <td>No</td>\n",
       "      <td>20.0</td>\n",
       "      <td>30.0</td>\n",
       "      <td>No</td>\n",
       "      <td>Male</td>\n",
       "      <td>65-69</td>\n",
       "      <td>White</td>\n",
       "      <td>Yes</td>\n",
       "      <td>Yes</td>\n",
       "      <td>Fair</td>\n",
       "      <td>8.0</td>\n",
       "      <td>Yes</td>\n",
       "      <td>No</td>\n",
       "      <td>No</td>\n",
       "    </tr>\n",
       "  </tbody>\n",
       "</table>\n",
       "</div>"
      ],
      "text/plain": [
       "  HeartDisease    BMI Smoking AlcoholDrinking Stroke  PhysicalHealth  \\\n",
       "0           No  16.60     Yes              No     No             3.0   \n",
       "1           No  20.34      No              No    Yes             0.0   \n",
       "2           No  26.58     Yes              No     No            20.0   \n",
       "\n",
       "   MentalHealth DiffWalking     Sex  AgeCategory   Race Diabetic  \\\n",
       "0          30.0          No  Female        55-59  White      Yes   \n",
       "1           0.0          No  Female  80 or older  White       No   \n",
       "2          30.0          No    Male        65-69  White      Yes   \n",
       "\n",
       "  PhysicalActivity  GenHealth  SleepTime Asthma KidneyDisease SkinCancer  \n",
       "0              Yes  Very good        5.0    Yes            No        Yes  \n",
       "1              Yes  Very good        7.0     No            No         No  \n",
       "2              Yes       Fair        8.0    Yes            No         No  "
      ]
     },
     "execution_count": 2,
     "metadata": {},
     "output_type": "execute_result"
    }
   ],
   "source": [
    "df=pd.read_csv(\"/kaggle/input/personal-key-indicators-of-heart-disease/2020/heart_2020_cleaned.csv\")\n",
    "df.head(3)"
   ]
  },
  {
   "cell_type": "markdown",
   "id": "c20ff94e",
   "metadata": {
    "papermill": {
     "duration": 0.007707,
     "end_time": "2024-09-19T14:27:40.729164",
     "exception": false,
     "start_time": "2024-09-19T14:27:40.721457",
     "status": "completed"
    },
    "tags": []
   },
   "source": [
    "#### Veri setimizde bulunan değerleri model tahmini için numerik veriye çeviriyoruz"
   ]
  },
  {
   "cell_type": "code",
   "execution_count": 3,
   "id": "306b77cc",
   "metadata": {
    "execution": {
     "iopub.execute_input": "2024-09-19T14:27:40.746415Z",
     "iopub.status.busy": "2024-09-19T14:27:40.745894Z",
     "iopub.status.idle": "2024-09-19T14:27:40.826460Z",
     "shell.execute_reply": "2024-09-19T14:27:40.825136Z"
    },
    "id": "N99VuoD-vuvc",
    "papermill": {
     "duration": 0.093229,
     "end_time": "2024-09-19T14:27:40.829952",
     "exception": false,
     "start_time": "2024-09-19T14:27:40.736723",
     "status": "completed"
    },
    "tags": []
   },
   "outputs": [],
   "source": [
    "le=LabelEncoder()\n",
    "le.fit(df[\"SkinCancer\"])\n",
    "df[\"SkinCancer\"]=le.transform(df[\"SkinCancer\"])"
   ]
  },
  {
   "cell_type": "code",
   "execution_count": 4,
   "id": "26420514",
   "metadata": {
    "collapsed": true,
    "execution": {
     "iopub.execute_input": "2024-09-19T14:27:40.851965Z",
     "iopub.status.busy": "2024-09-19T14:27:40.850755Z",
     "iopub.status.idle": "2024-09-19T14:27:40.873359Z",
     "shell.execute_reply": "2024-09-19T14:27:40.872252Z"
    },
    "id": "MMDl7fZxxeRD",
    "jupyter": {
     "outputs_hidden": true
    },
    "outputId": "9a0a5ae2-d5b7-417e-a18f-f02b2828ff7a",
    "papermill": {
     "duration": 0.035055,
     "end_time": "2024-09-19T14:27:40.876234",
     "exception": false,
     "start_time": "2024-09-19T14:27:40.841179",
     "status": "completed"
    },
    "tags": []
   },
   "outputs": [
    {
     "data": {
      "text/html": [
       "<div>\n",
       "<style scoped>\n",
       "    .dataframe tbody tr th:only-of-type {\n",
       "        vertical-align: middle;\n",
       "    }\n",
       "\n",
       "    .dataframe tbody tr th {\n",
       "        vertical-align: top;\n",
       "    }\n",
       "\n",
       "    .dataframe thead th {\n",
       "        text-align: right;\n",
       "    }\n",
       "</style>\n",
       "<table border=\"1\" class=\"dataframe\">\n",
       "  <thead>\n",
       "    <tr style=\"text-align: right;\">\n",
       "      <th></th>\n",
       "      <th>HeartDisease</th>\n",
       "      <th>BMI</th>\n",
       "      <th>Smoking</th>\n",
       "      <th>AlcoholDrinking</th>\n",
       "      <th>Stroke</th>\n",
       "      <th>PhysicalHealth</th>\n",
       "      <th>MentalHealth</th>\n",
       "      <th>DiffWalking</th>\n",
       "      <th>Sex</th>\n",
       "      <th>AgeCategory</th>\n",
       "      <th>Race</th>\n",
       "      <th>Diabetic</th>\n",
       "      <th>PhysicalActivity</th>\n",
       "      <th>GenHealth</th>\n",
       "      <th>SleepTime</th>\n",
       "      <th>Asthma</th>\n",
       "      <th>KidneyDisease</th>\n",
       "      <th>SkinCancer</th>\n",
       "    </tr>\n",
       "  </thead>\n",
       "  <tbody>\n",
       "    <tr>\n",
       "      <th>0</th>\n",
       "      <td>No</td>\n",
       "      <td>16.60</td>\n",
       "      <td>Yes</td>\n",
       "      <td>No</td>\n",
       "      <td>No</td>\n",
       "      <td>3.0</td>\n",
       "      <td>30.0</td>\n",
       "      <td>No</td>\n",
       "      <td>Female</td>\n",
       "      <td>55-59</td>\n",
       "      <td>White</td>\n",
       "      <td>Yes</td>\n",
       "      <td>Yes</td>\n",
       "      <td>Very good</td>\n",
       "      <td>5.0</td>\n",
       "      <td>Yes</td>\n",
       "      <td>No</td>\n",
       "      <td>1</td>\n",
       "    </tr>\n",
       "    <tr>\n",
       "      <th>1</th>\n",
       "      <td>No</td>\n",
       "      <td>20.34</td>\n",
       "      <td>No</td>\n",
       "      <td>No</td>\n",
       "      <td>Yes</td>\n",
       "      <td>0.0</td>\n",
       "      <td>0.0</td>\n",
       "      <td>No</td>\n",
       "      <td>Female</td>\n",
       "      <td>80 or older</td>\n",
       "      <td>White</td>\n",
       "      <td>No</td>\n",
       "      <td>Yes</td>\n",
       "      <td>Very good</td>\n",
       "      <td>7.0</td>\n",
       "      <td>No</td>\n",
       "      <td>No</td>\n",
       "      <td>0</td>\n",
       "    </tr>\n",
       "    <tr>\n",
       "      <th>2</th>\n",
       "      <td>No</td>\n",
       "      <td>26.58</td>\n",
       "      <td>Yes</td>\n",
       "      <td>No</td>\n",
       "      <td>No</td>\n",
       "      <td>20.0</td>\n",
       "      <td>30.0</td>\n",
       "      <td>No</td>\n",
       "      <td>Male</td>\n",
       "      <td>65-69</td>\n",
       "      <td>White</td>\n",
       "      <td>Yes</td>\n",
       "      <td>Yes</td>\n",
       "      <td>Fair</td>\n",
       "      <td>8.0</td>\n",
       "      <td>Yes</td>\n",
       "      <td>No</td>\n",
       "      <td>0</td>\n",
       "    </tr>\n",
       "  </tbody>\n",
       "</table>\n",
       "</div>"
      ],
      "text/plain": [
       "  HeartDisease    BMI Smoking AlcoholDrinking Stroke  PhysicalHealth  \\\n",
       "0           No  16.60     Yes              No     No             3.0   \n",
       "1           No  20.34      No              No    Yes             0.0   \n",
       "2           No  26.58     Yes              No     No            20.0   \n",
       "\n",
       "   MentalHealth DiffWalking     Sex  AgeCategory   Race Diabetic  \\\n",
       "0          30.0          No  Female        55-59  White      Yes   \n",
       "1           0.0          No  Female  80 or older  White       No   \n",
       "2          30.0          No    Male        65-69  White      Yes   \n",
       "\n",
       "  PhysicalActivity  GenHealth  SleepTime Asthma KidneyDisease  SkinCancer  \n",
       "0              Yes  Very good        5.0    Yes            No           1  \n",
       "1              Yes  Very good        7.0     No            No           0  \n",
       "2              Yes       Fair        8.0    Yes            No           0  "
      ]
     },
     "execution_count": 4,
     "metadata": {},
     "output_type": "execute_result"
    }
   ],
   "source": [
    "df.head(3)"
   ]
  },
  {
   "cell_type": "code",
   "execution_count": 5,
   "id": "e4bd3cde",
   "metadata": {
    "execution": {
     "iopub.execute_input": "2024-09-19T14:27:40.899158Z",
     "iopub.status.busy": "2024-09-19T14:27:40.898168Z",
     "iopub.status.idle": "2024-09-19T14:27:41.349300Z",
     "shell.execute_reply": "2024-09-19T14:27:41.347784Z"
    },
    "id": "e1XjpfbPxqH9",
    "papermill": {
     "duration": 0.465158,
     "end_time": "2024-09-19T14:27:41.353074",
     "exception": false,
     "start_time": "2024-09-19T14:27:40.887916",
     "status": "completed"
    },
    "tags": []
   },
   "outputs": [],
   "source": [
    "features=[\"AgeCategory\",\"HeartDisease\", \"Smoking\", \"AlcoholDrinking\", \"Stroke\", \"DiffWalking\", \"Sex\", \"Race\", \"Diabetic\", \"PhysicalActivity\", \"GenHealth\", \"Asthma\", \"KidneyDisease\"]\n",
    "df = pd.get_dummies(df, columns=features, drop_first=True)"
   ]
  },
  {
   "cell_type": "code",
   "execution_count": 6,
   "id": "e900c911",
   "metadata": {
    "collapsed": true,
    "execution": {
     "iopub.execute_input": "2024-09-19T14:27:41.377209Z",
     "iopub.status.busy": "2024-09-19T14:27:41.376684Z",
     "iopub.status.idle": "2024-09-19T14:27:41.385376Z",
     "shell.execute_reply": "2024-09-19T14:27:41.383343Z"
    },
    "id": "fdfZ-XFCz84W",
    "jupyter": {
     "outputs_hidden": true
    },
    "outputId": "b9e55d67-6af5-475f-9473-0a43825806fd",
    "papermill": {
     "duration": 0.022853,
     "end_time": "2024-09-19T14:27:41.388235",
     "exception": false,
     "start_time": "2024-09-19T14:27:41.365382",
     "status": "completed"
    },
    "tags": []
   },
   "outputs": [
    {
     "name": "stdout",
     "output_type": "stream",
     "text": [
      "Index(['BMI', 'PhysicalHealth', 'MentalHealth', 'SleepTime', 'SkinCancer',\n",
      "       'AgeCategory_25-29', 'AgeCategory_30-34', 'AgeCategory_35-39',\n",
      "       'AgeCategory_40-44', 'AgeCategory_45-49', 'AgeCategory_50-54',\n",
      "       'AgeCategory_55-59', 'AgeCategory_60-64', 'AgeCategory_65-69',\n",
      "       'AgeCategory_70-74', 'AgeCategory_75-79', 'AgeCategory_80 or older',\n",
      "       'HeartDisease_Yes', 'Smoking_Yes', 'AlcoholDrinking_Yes', 'Stroke_Yes',\n",
      "       'DiffWalking_Yes', 'Sex_Male', 'Race_Asian', 'Race_Black',\n",
      "       'Race_Hispanic', 'Race_Other', 'Race_White',\n",
      "       'Diabetic_No, borderline diabetes', 'Diabetic_Yes',\n",
      "       'Diabetic_Yes (during pregnancy)', 'PhysicalActivity_Yes',\n",
      "       'GenHealth_Fair', 'GenHealth_Good', 'GenHealth_Poor',\n",
      "       'GenHealth_Very good', 'Asthma_Yes', 'KidneyDisease_Yes'],\n",
      "      dtype='object')\n",
      "319795\n"
     ]
    }
   ],
   "source": [
    "info=df.columns\n",
    "print(info)\n",
    "print(len(df))"
   ]
  },
  {
   "cell_type": "markdown",
   "id": "a90b08c8",
   "metadata": {
    "papermill": {
     "duration": 0.011224,
     "end_time": "2024-09-19T14:27:41.412474",
     "exception": false,
     "start_time": "2024-09-19T14:27:41.401250",
     "status": "completed"
    },
    "tags": []
   },
   "source": [
    "#### Veri setimizde hatalı,eksik verileri daha iyi tahmin için bulup kaldırıyoruz "
   ]
  },
  {
   "cell_type": "code",
   "execution_count": 7,
   "id": "6ae17d5d",
   "metadata": {
    "collapsed": true,
    "execution": {
     "iopub.execute_input": "2024-09-19T14:27:41.430719Z",
     "iopub.status.busy": "2024-09-19T14:27:41.430197Z",
     "iopub.status.idle": "2024-09-19T14:27:41.454786Z",
     "shell.execute_reply": "2024-09-19T14:27:41.453522Z"
    },
    "id": "woFMFEA65LbQ",
    "jupyter": {
     "outputs_hidden": true
    },
    "outputId": "e6f8132f-360d-48f3-9e2f-d0349ff2aad5",
    "papermill": {
     "duration": 0.037309,
     "end_time": "2024-09-19T14:27:41.457751",
     "exception": false,
     "start_time": "2024-09-19T14:27:41.420442",
     "status": "completed"
    },
    "tags": []
   },
   "outputs": [
    {
     "name": "stdout",
     "output_type": "stream",
     "text": [
      "BMI                                 0\n",
      "PhysicalHealth                      0\n",
      "MentalHealth                        0\n",
      "SleepTime                           0\n",
      "SkinCancer                          0\n",
      "AgeCategory_25-29                   0\n",
      "AgeCategory_30-34                   0\n",
      "AgeCategory_35-39                   0\n",
      "AgeCategory_40-44                   0\n",
      "AgeCategory_45-49                   0\n",
      "AgeCategory_50-54                   0\n",
      "AgeCategory_55-59                   0\n",
      "AgeCategory_60-64                   0\n",
      "AgeCategory_65-69                   0\n",
      "AgeCategory_70-74                   0\n",
      "AgeCategory_75-79                   0\n",
      "AgeCategory_80 or older             0\n",
      "HeartDisease_Yes                    0\n",
      "Smoking_Yes                         0\n",
      "AlcoholDrinking_Yes                 0\n",
      "Stroke_Yes                          0\n",
      "DiffWalking_Yes                     0\n",
      "Sex_Male                            0\n",
      "Race_Asian                          0\n",
      "Race_Black                          0\n",
      "Race_Hispanic                       0\n",
      "Race_Other                          0\n",
      "Race_White                          0\n",
      "Diabetic_No, borderline diabetes    0\n",
      "Diabetic_Yes                        0\n",
      "Diabetic_Yes (during pregnancy)     0\n",
      "PhysicalActivity_Yes                0\n",
      "GenHealth_Fair                      0\n",
      "GenHealth_Good                      0\n",
      "GenHealth_Poor                      0\n",
      "GenHealth_Very good                 0\n",
      "Asthma_Yes                          0\n",
      "KidneyDisease_Yes                   0\n",
      "dtype: int64\n"
     ]
    }
   ],
   "source": [
    "missing_values=df.isnull().sum()\n",
    "if missing_values.sum() > 0:\n",
    "    df.dropna(inplace=True)\n",
    "print(missing_values)"
   ]
  },
  {
   "cell_type": "code",
   "execution_count": 8,
   "id": "48123436",
   "metadata": {
    "collapsed": true,
    "execution": {
     "iopub.execute_input": "2024-09-19T14:27:41.481219Z",
     "iopub.status.busy": "2024-09-19T14:27:41.480795Z",
     "iopub.status.idle": "2024-09-19T14:27:41.505931Z",
     "shell.execute_reply": "2024-09-19T14:27:41.504395Z"
    },
    "id": "7RanN93_yGoq",
    "jupyter": {
     "outputs_hidden": true
    },
    "outputId": "a9cf7b27-ed69-40ef-e7b5-430f5e554152",
    "papermill": {
     "duration": 0.038026,
     "end_time": "2024-09-19T14:27:41.508909",
     "exception": false,
     "start_time": "2024-09-19T14:27:41.470883",
     "status": "completed"
    },
    "tags": []
   },
   "outputs": [
    {
     "data": {
      "text/html": [
       "<div>\n",
       "<style scoped>\n",
       "    .dataframe tbody tr th:only-of-type {\n",
       "        vertical-align: middle;\n",
       "    }\n",
       "\n",
       "    .dataframe tbody tr th {\n",
       "        vertical-align: top;\n",
       "    }\n",
       "\n",
       "    .dataframe thead th {\n",
       "        text-align: right;\n",
       "    }\n",
       "</style>\n",
       "<table border=\"1\" class=\"dataframe\">\n",
       "  <thead>\n",
       "    <tr style=\"text-align: right;\">\n",
       "      <th></th>\n",
       "      <th>BMI</th>\n",
       "      <th>PhysicalHealth</th>\n",
       "      <th>MentalHealth</th>\n",
       "      <th>SleepTime</th>\n",
       "      <th>SkinCancer</th>\n",
       "      <th>AgeCategory_25-29</th>\n",
       "      <th>AgeCategory_30-34</th>\n",
       "      <th>AgeCategory_35-39</th>\n",
       "      <th>AgeCategory_40-44</th>\n",
       "      <th>AgeCategory_45-49</th>\n",
       "      <th>...</th>\n",
       "      <th>Diabetic_No, borderline diabetes</th>\n",
       "      <th>Diabetic_Yes</th>\n",
       "      <th>Diabetic_Yes (during pregnancy)</th>\n",
       "      <th>PhysicalActivity_Yes</th>\n",
       "      <th>GenHealth_Fair</th>\n",
       "      <th>GenHealth_Good</th>\n",
       "      <th>GenHealth_Poor</th>\n",
       "      <th>GenHealth_Very good</th>\n",
       "      <th>Asthma_Yes</th>\n",
       "      <th>KidneyDisease_Yes</th>\n",
       "    </tr>\n",
       "  </thead>\n",
       "  <tbody>\n",
       "    <tr>\n",
       "      <th>0</th>\n",
       "      <td>16.60</td>\n",
       "      <td>3.0</td>\n",
       "      <td>30.0</td>\n",
       "      <td>5.0</td>\n",
       "      <td>1</td>\n",
       "      <td>False</td>\n",
       "      <td>False</td>\n",
       "      <td>False</td>\n",
       "      <td>False</td>\n",
       "      <td>False</td>\n",
       "      <td>...</td>\n",
       "      <td>False</td>\n",
       "      <td>True</td>\n",
       "      <td>False</td>\n",
       "      <td>True</td>\n",
       "      <td>False</td>\n",
       "      <td>False</td>\n",
       "      <td>False</td>\n",
       "      <td>True</td>\n",
       "      <td>True</td>\n",
       "      <td>False</td>\n",
       "    </tr>\n",
       "    <tr>\n",
       "      <th>1</th>\n",
       "      <td>20.34</td>\n",
       "      <td>0.0</td>\n",
       "      <td>0.0</td>\n",
       "      <td>7.0</td>\n",
       "      <td>0</td>\n",
       "      <td>False</td>\n",
       "      <td>False</td>\n",
       "      <td>False</td>\n",
       "      <td>False</td>\n",
       "      <td>False</td>\n",
       "      <td>...</td>\n",
       "      <td>False</td>\n",
       "      <td>False</td>\n",
       "      <td>False</td>\n",
       "      <td>True</td>\n",
       "      <td>False</td>\n",
       "      <td>False</td>\n",
       "      <td>False</td>\n",
       "      <td>True</td>\n",
       "      <td>False</td>\n",
       "      <td>False</td>\n",
       "    </tr>\n",
       "    <tr>\n",
       "      <th>2</th>\n",
       "      <td>26.58</td>\n",
       "      <td>20.0</td>\n",
       "      <td>30.0</td>\n",
       "      <td>8.0</td>\n",
       "      <td>0</td>\n",
       "      <td>False</td>\n",
       "      <td>False</td>\n",
       "      <td>False</td>\n",
       "      <td>False</td>\n",
       "      <td>False</td>\n",
       "      <td>...</td>\n",
       "      <td>False</td>\n",
       "      <td>True</td>\n",
       "      <td>False</td>\n",
       "      <td>True</td>\n",
       "      <td>True</td>\n",
       "      <td>False</td>\n",
       "      <td>False</td>\n",
       "      <td>False</td>\n",
       "      <td>True</td>\n",
       "      <td>False</td>\n",
       "    </tr>\n",
       "  </tbody>\n",
       "</table>\n",
       "<p>3 rows × 38 columns</p>\n",
       "</div>"
      ],
      "text/plain": [
       "     BMI  PhysicalHealth  MentalHealth  SleepTime  SkinCancer  \\\n",
       "0  16.60             3.0          30.0        5.0           1   \n",
       "1  20.34             0.0           0.0        7.0           0   \n",
       "2  26.58            20.0          30.0        8.0           0   \n",
       "\n",
       "   AgeCategory_25-29  AgeCategory_30-34  AgeCategory_35-39  AgeCategory_40-44  \\\n",
       "0              False              False              False              False   \n",
       "1              False              False              False              False   \n",
       "2              False              False              False              False   \n",
       "\n",
       "   AgeCategory_45-49  ...  Diabetic_No, borderline diabetes  Diabetic_Yes  \\\n",
       "0              False  ...                             False          True   \n",
       "1              False  ...                             False         False   \n",
       "2              False  ...                             False          True   \n",
       "\n",
       "   Diabetic_Yes (during pregnancy)  PhysicalActivity_Yes  GenHealth_Fair  \\\n",
       "0                            False                  True           False   \n",
       "1                            False                  True           False   \n",
       "2                            False                  True            True   \n",
       "\n",
       "   GenHealth_Good  GenHealth_Poor  GenHealth_Very good  Asthma_Yes  \\\n",
       "0           False           False                 True        True   \n",
       "1           False           False                 True       False   \n",
       "2           False           False                False        True   \n",
       "\n",
       "   KidneyDisease_Yes  \n",
       "0              False  \n",
       "1              False  \n",
       "2              False  \n",
       "\n",
       "[3 rows x 38 columns]"
      ]
     },
     "execution_count": 8,
     "metadata": {},
     "output_type": "execute_result"
    }
   ],
   "source": [
    "df.head(3)"
   ]
  },
  {
   "cell_type": "code",
   "execution_count": 9,
   "id": "056844ee",
   "metadata": {
    "execution": {
     "iopub.execute_input": "2024-09-19T14:27:41.534419Z",
     "iopub.status.busy": "2024-09-19T14:27:41.534004Z",
     "iopub.status.idle": "2024-09-19T14:27:41.567578Z",
     "shell.execute_reply": "2024-09-19T14:27:41.566267Z"
    },
    "id": "Zu3sza1Vy-5i",
    "outputId": "b2506fc8-fb6e-481b-a3ca-c13f91162336",
    "papermill": {
     "duration": 0.048548,
     "end_time": "2024-09-19T14:27:41.571362",
     "exception": false,
     "start_time": "2024-09-19T14:27:41.522814",
     "status": "completed"
    },
    "tags": []
   },
   "outputs": [
    {
     "name": "stdout",
     "output_type": "stream",
     "text": [
      "<class 'pandas.core.frame.DataFrame'>\n",
      "RangeIndex: 319795 entries, 0 to 319794\n",
      "Data columns (total 38 columns):\n",
      " #   Column                            Non-Null Count   Dtype  \n",
      "---  ------                            --------------   -----  \n",
      " 0   BMI                               319795 non-null  float64\n",
      " 1   PhysicalHealth                    319795 non-null  float64\n",
      " 2   MentalHealth                      319795 non-null  float64\n",
      " 3   SleepTime                         319795 non-null  float64\n",
      " 4   SkinCancer                        319795 non-null  int64  \n",
      " 5   AgeCategory_25-29                 319795 non-null  bool   \n",
      " 6   AgeCategory_30-34                 319795 non-null  bool   \n",
      " 7   AgeCategory_35-39                 319795 non-null  bool   \n",
      " 8   AgeCategory_40-44                 319795 non-null  bool   \n",
      " 9   AgeCategory_45-49                 319795 non-null  bool   \n",
      " 10  AgeCategory_50-54                 319795 non-null  bool   \n",
      " 11  AgeCategory_55-59                 319795 non-null  bool   \n",
      " 12  AgeCategory_60-64                 319795 non-null  bool   \n",
      " 13  AgeCategory_65-69                 319795 non-null  bool   \n",
      " 14  AgeCategory_70-74                 319795 non-null  bool   \n",
      " 15  AgeCategory_75-79                 319795 non-null  bool   \n",
      " 16  AgeCategory_80 or older           319795 non-null  bool   \n",
      " 17  HeartDisease_Yes                  319795 non-null  bool   \n",
      " 18  Smoking_Yes                       319795 non-null  bool   \n",
      " 19  AlcoholDrinking_Yes               319795 non-null  bool   \n",
      " 20  Stroke_Yes                        319795 non-null  bool   \n",
      " 21  DiffWalking_Yes                   319795 non-null  bool   \n",
      " 22  Sex_Male                          319795 non-null  bool   \n",
      " 23  Race_Asian                        319795 non-null  bool   \n",
      " 24  Race_Black                        319795 non-null  bool   \n",
      " 25  Race_Hispanic                     319795 non-null  bool   \n",
      " 26  Race_Other                        319795 non-null  bool   \n",
      " 27  Race_White                        319795 non-null  bool   \n",
      " 28  Diabetic_No, borderline diabetes  319795 non-null  bool   \n",
      " 29  Diabetic_Yes                      319795 non-null  bool   \n",
      " 30  Diabetic_Yes (during pregnancy)   319795 non-null  bool   \n",
      " 31  PhysicalActivity_Yes              319795 non-null  bool   \n",
      " 32  GenHealth_Fair                    319795 non-null  bool   \n",
      " 33  GenHealth_Good                    319795 non-null  bool   \n",
      " 34  GenHealth_Poor                    319795 non-null  bool   \n",
      " 35  GenHealth_Very good               319795 non-null  bool   \n",
      " 36  Asthma_Yes                        319795 non-null  bool   \n",
      " 37  KidneyDisease_Yes                 319795 non-null  bool   \n",
      "dtypes: bool(33), float64(4), int64(1)\n",
      "memory usage: 22.3 MB\n"
     ]
    }
   ],
   "source": [
    "df.info()"
   ]
  },
  {
   "cell_type": "markdown",
   "id": "ebc1c4df",
   "metadata": {
    "papermill": {
     "duration": 0.013554,
     "end_time": "2024-09-19T14:27:41.598489",
     "exception": false,
     "start_time": "2024-09-19T14:27:41.584935",
     "status": "completed"
    },
    "tags": []
   },
   "source": [
    "#### Veri setini x y olarak ayırıp ardından verilerimizin %80 ini eğitim, %20 sini test olarak kabul edip eğitiyoruz\n"
   ]
  },
  {
   "cell_type": "code",
   "execution_count": 10,
   "id": "2abc2df9",
   "metadata": {
    "execution": {
     "iopub.execute_input": "2024-09-19T14:27:41.618024Z",
     "iopub.status.busy": "2024-09-19T14:27:41.617472Z",
     "iopub.status.idle": "2024-09-19T14:27:41.643841Z",
     "shell.execute_reply": "2024-09-19T14:27:41.642644Z"
    },
    "id": "XRoD-5j9yPMb",
    "papermill": {
     "duration": 0.039676,
     "end_time": "2024-09-19T14:27:41.647034",
     "exception": false,
     "start_time": "2024-09-19T14:27:41.607358",
     "status": "completed"
    },
    "tags": []
   },
   "outputs": [],
   "source": [
    "y=df[\"SkinCancer\"]\n",
    "x=df.drop(\"SkinCancer\",axis=1)"
   ]
  },
  {
   "cell_type": "code",
   "execution_count": 11,
   "id": "0c3b606f",
   "metadata": {
    "execution": {
     "iopub.execute_input": "2024-09-19T14:27:41.672417Z",
     "iopub.status.busy": "2024-09-19T14:27:41.672011Z",
     "iopub.status.idle": "2024-09-19T14:27:42.365379Z",
     "shell.execute_reply": "2024-09-19T14:27:42.364048Z"
    },
    "id": "77U7lWLY2TeN",
    "papermill": {
     "duration": 0.707032,
     "end_time": "2024-09-19T14:27:42.368019",
     "exception": false,
     "start_time": "2024-09-19T14:27:41.660987",
     "status": "completed"
    },
    "tags": []
   },
   "outputs": [],
   "source": [
    "ss=StandardScaler()\n",
    "x=ss.fit_transform(x)"
   ]
  },
  {
   "cell_type": "code",
   "execution_count": 12,
   "id": "4e47df8e",
   "metadata": {
    "execution": {
     "iopub.execute_input": "2024-09-19T14:27:42.387182Z",
     "iopub.status.busy": "2024-09-19T14:27:42.386753Z",
     "iopub.status.idle": "2024-09-19T14:27:45.395874Z",
     "shell.execute_reply": "2024-09-19T14:27:45.394367Z"
    },
    "id": "7Ne7Rhz7jSHz",
    "papermill": {
     "duration": 3.021761,
     "end_time": "2024-09-19T14:27:45.398497",
     "exception": false,
     "start_time": "2024-09-19T14:27:42.376736",
     "status": "completed"
    },
    "tags": []
   },
   "outputs": [],
   "source": [
    "smote = SMOTE(random_state=42)\n",
    "x_smote, y_smote = smote.fit_resample(x, y)"
   ]
  },
  {
   "cell_type": "code",
   "execution_count": 13,
   "id": "db64f60d",
   "metadata": {
    "execution": {
     "iopub.execute_input": "2024-09-19T14:27:45.418000Z",
     "iopub.status.busy": "2024-09-19T14:27:45.417549Z",
     "iopub.status.idle": "2024-09-19T14:27:45.538651Z",
     "shell.execute_reply": "2024-09-19T14:27:45.537463Z"
    },
    "id": "Pxkp5r--yaHS",
    "papermill": {
     "duration": 0.134001,
     "end_time": "2024-09-19T14:27:45.541381",
     "exception": false,
     "start_time": "2024-09-19T14:27:45.407380",
     "status": "completed"
    },
    "tags": []
   },
   "outputs": [],
   "source": [
    "x_train, x_test, y_train, y_test = train_test_split(x_smote, y_smote, train_size=0.8, random_state=42)"
   ]
  },
  {
   "cell_type": "markdown",
   "id": "918fa4f6",
   "metadata": {
    "papermill": {
     "duration": 0.008506,
     "end_time": "2024-09-19T14:27:45.558933",
     "exception": false,
     "start_time": "2024-09-19T14:27:45.550427",
     "status": "completed"
    },
    "tags": []
   },
   "source": [
    "#### Farklı algoritmalar kullanarak model üzerinde ki başarılarını kıyaslıyoruz"
   ]
  },
  {
   "cell_type": "code",
   "execution_count": 14,
   "id": "14901c84",
   "metadata": {
    "collapsed": true,
    "execution": {
     "iopub.execute_input": "2024-09-19T14:27:45.579260Z",
     "iopub.status.busy": "2024-09-19T14:27:45.578849Z",
     "iopub.status.idle": "2024-09-19T14:28:41.054304Z",
     "shell.execute_reply": "2024-09-19T14:28:41.052875Z"
    },
    "id": "HfRfa5l3ym5v",
    "jupyter": {
     "outputs_hidden": true
    },
    "papermill": {
     "duration": 55.489251,
     "end_time": "2024-09-19T14:28:41.057073",
     "exception": false,
     "start_time": "2024-09-19T14:27:45.567822",
     "status": "completed"
    },
    "tags": []
   },
   "outputs": [],
   "source": [
    "rf = RandomForestClassifier(n_estimators=100, max_depth=5, random_state=42)\n",
    "model_rf = rf.fit(x_train, y_train)\n",
    "acr_RF = model_rf.score(x_test, y_test)"
   ]
  },
  {
   "cell_type": "code",
   "execution_count": 15,
   "id": "22900f82",
   "metadata": {
    "execution": {
     "iopub.execute_input": "2024-09-19T14:28:41.079638Z",
     "iopub.status.busy": "2024-09-19T14:28:41.078552Z",
     "iopub.status.idle": "2024-09-19T14:29:01.759432Z",
     "shell.execute_reply": "2024-09-19T14:29:01.758375Z"
    },
    "id": "Jy0Z46bA0eXv",
    "papermill": {
     "duration": 20.69551,
     "end_time": "2024-09-19T14:29:01.762098",
     "exception": false,
     "start_time": "2024-09-19T14:28:41.066588",
     "status": "completed"
    },
    "tags": []
   },
   "outputs": [],
   "source": [
    "xg=XGBClassifier(max_depth=7, n_estimators=300,learning_rate=0.2)\n",
    "model_xgb=xg.fit(x_train,y_train)\n",
    "acr_XGB=model_xgb.score(x_test,y_test)"
   ]
  },
  {
   "cell_type": "code",
   "execution_count": 16,
   "id": "65f47982",
   "metadata": {
    "execution": {
     "iopub.execute_input": "2024-09-19T14:29:01.782150Z",
     "iopub.status.busy": "2024-09-19T14:29:01.781747Z",
     "iopub.status.idle": "2024-09-19T14:31:30.729050Z",
     "shell.execute_reply": "2024-09-19T14:31:30.727731Z"
    },
    "id": "TPPz1sI4HnPe",
    "papermill": {
     "duration": 148.960511,
     "end_time": "2024-09-19T14:31:30.732033",
     "exception": false,
     "start_time": "2024-09-19T14:29:01.771522",
     "status": "completed"
    },
    "tags": []
   },
   "outputs": [],
   "source": [
    "knn=KNeighborsClassifier(n_neighbors=3)\n",
    "model_knn=knn.fit(x_train,y_train)\n",
    "acr_KNN=model_knn.score(x_test,y_test)"
   ]
  },
  {
   "cell_type": "code",
   "execution_count": 17,
   "id": "a61b2e17",
   "metadata": {
    "execution": {
     "iopub.execute_input": "2024-09-19T14:31:30.752277Z",
     "iopub.status.busy": "2024-09-19T14:31:30.751841Z",
     "iopub.status.idle": "2024-09-19T14:31:31.216104Z",
     "shell.execute_reply": "2024-09-19T14:31:31.214935Z"
    },
    "id": "LzSkN1T8HoeL",
    "papermill": {
     "duration": 0.477717,
     "end_time": "2024-09-19T14:31:31.218945",
     "exception": false,
     "start_time": "2024-09-19T14:31:30.741228",
     "status": "completed"
    },
    "tags": []
   },
   "outputs": [],
   "source": [
    "gaussian=GaussianNB()\n",
    "model_gaus=gaussian.fit(x_train,y_train)\n",
    "acr_Gaus=model_gaus.score(x_test,y_test)"
   ]
  },
  {
   "cell_type": "code",
   "execution_count": 18,
   "id": "6ee243cb",
   "metadata": {
    "execution": {
     "iopub.execute_input": "2024-09-19T14:31:31.238992Z",
     "iopub.status.busy": "2024-09-19T14:31:31.238533Z",
     "iopub.status.idle": "2024-09-19T14:31:31.252291Z",
     "shell.execute_reply": "2024-09-19T14:31:31.250957Z"
    },
    "id": "-YOu4mQZHsHI",
    "outputId": "9ce04c34-b1b3-446b-9a3b-aec3ac95d200",
    "papermill": {
     "duration": 0.026785,
     "end_time": "2024-09-19T14:31:31.254892",
     "exception": false,
     "start_time": "2024-09-19T14:31:31.228107",
     "status": "completed"
    },
    "tags": []
   },
   "outputs": [
    {
     "data": {
      "text/html": [
       "<div>\n",
       "<style scoped>\n",
       "    .dataframe tbody tr th:only-of-type {\n",
       "        vertical-align: middle;\n",
       "    }\n",
       "\n",
       "    .dataframe tbody tr th {\n",
       "        vertical-align: top;\n",
       "    }\n",
       "\n",
       "    .dataframe thead th {\n",
       "        text-align: right;\n",
       "    }\n",
       "</style>\n",
       "<table border=\"1\" class=\"dataframe\">\n",
       "  <thead>\n",
       "    <tr style=\"text-align: right;\">\n",
       "      <th></th>\n",
       "      <th>Model</th>\n",
       "      <th>Score</th>\n",
       "    </tr>\n",
       "  </thead>\n",
       "  <tbody>\n",
       "    <tr>\n",
       "      <th>2</th>\n",
       "      <td>XGBoost</td>\n",
       "      <td>0.883836</td>\n",
       "    </tr>\n",
       "    <tr>\n",
       "      <th>0</th>\n",
       "      <td>KNN</td>\n",
       "      <td>0.852540</td>\n",
       "    </tr>\n",
       "    <tr>\n",
       "      <th>1</th>\n",
       "      <td>Random Forest</td>\n",
       "      <td>0.722151</td>\n",
       "    </tr>\n",
       "    <tr>\n",
       "      <th>3</th>\n",
       "      <td>GaussianNB</td>\n",
       "      <td>0.698158</td>\n",
       "    </tr>\n",
       "  </tbody>\n",
       "</table>\n",
       "</div>"
      ],
      "text/plain": [
       "           Model     Score\n",
       "2        XGBoost  0.883836\n",
       "0            KNN  0.852540\n",
       "1  Random Forest  0.722151\n",
       "3     GaussianNB  0.698158"
      ]
     },
     "execution_count": 18,
     "metadata": {},
     "output_type": "execute_result"
    }
   ],
   "source": [
    "models=pd.DataFrame({\n",
    "    'Model':['KNN','Random Forest','XGBoost','GaussianNB'],\n",
    "    'Score':[acr_KNN,acr_RF,acr_XGB,acr_Gaus]})\n",
    "\n",
    "models.sort_values(by='Score',ascending=False)"
   ]
  },
  {
   "cell_type": "markdown",
   "id": "dccc1a52",
   "metadata": {
    "papermill": {
     "duration": 0.00908,
     "end_time": "2024-09-19T14:31:31.273555",
     "exception": false,
     "start_time": "2024-09-19T14:31:31.264475",
     "status": "completed"
    },
    "tags": []
   },
   "source": [
    "#### Daha yüksek bir başarım elde etmek için cross validation ile modeli kapsamlı bir eğitime veriyoruz"
   ]
  },
  {
   "cell_type": "markdown",
   "id": "9164fa67",
   "metadata": {
    "papermill": {
     "duration": 0.009665,
     "end_time": "2024-09-19T14:31:31.292456",
     "exception": false,
     "start_time": "2024-09-19T14:31:31.282791",
     "status": "completed"
    },
    "tags": []
   },
   "source": [
    "#### !Burada zaman açısından cv 5 seçilmiştir isterseniz 10 seçerek daha kapsamlı bir veri eğitimi yapabilirsiniz"
   ]
  },
  {
   "cell_type": "code",
   "execution_count": 19,
   "id": "bfbd3a3a",
   "metadata": {
    "execution": {
     "iopub.execute_input": "2024-09-19T14:31:31.313039Z",
     "iopub.status.busy": "2024-09-19T14:31:31.312278Z",
     "iopub.status.idle": "2024-09-19T14:38:08.693614Z",
     "shell.execute_reply": "2024-09-19T14:38:08.692319Z"
    },
    "id": "P-UGUHVYPuX8",
    "papermill": {
     "duration": 397.394658,
     "end_time": "2024-09-19T14:38:08.696374",
     "exception": false,
     "start_time": "2024-09-19T14:31:31.301716",
     "status": "completed"
    },
    "tags": []
   },
   "outputs": [],
   "source": [
    "cros_knn=cross_val_score(model_knn,x,y,cv=5)\n",
    "cros_xgb=cross_val_score(model_xgb,x,y,cv=5)\n",
    "cros_gaus=cross_val_score(model_gaus,x,y,cv=5)\n",
    "cros_rf=cross_val_score(model_rf,x,y,cv=5)"
   ]
  },
  {
   "cell_type": "code",
   "execution_count": 20,
   "id": "163d6728",
   "metadata": {
    "execution": {
     "iopub.execute_input": "2024-09-19T14:38:08.717188Z",
     "iopub.status.busy": "2024-09-19T14:38:08.716733Z",
     "iopub.status.idle": "2024-09-19T14:38:08.723512Z",
     "shell.execute_reply": "2024-09-19T14:38:08.722133Z"
    },
    "id": "fJMW5FvmGzNu",
    "outputId": "81495ce8-7c1f-477d-d783-5f150bdd26fc",
    "papermill": {
     "duration": 0.019998,
     "end_time": "2024-09-19T14:38:08.726056",
     "exception": false,
     "start_time": "2024-09-19T14:38:08.706058",
     "status": "completed"
    },
    "tags": []
   },
   "outputs": [
    {
     "name": "stdout",
     "output_type": "stream",
     "text": [
      "0.8841914351381354\n",
      "0.9062524429712785\n",
      "0.6039025000390875\n",
      "0.9067683985052925\n"
     ]
    }
   ],
   "source": [
    "print(cros_knn.max())\n",
    "print(cros_xgb.max())\n",
    "print(cros_gaus.max())\n",
    "print(cros_rf.max())"
   ]
  },
  {
   "cell_type": "code",
   "execution_count": 21,
   "id": "ff5b4242",
   "metadata": {
    "execution": {
     "iopub.execute_input": "2024-09-19T14:38:08.747047Z",
     "iopub.status.busy": "2024-09-19T14:38:08.746449Z",
     "iopub.status.idle": "2024-09-19T14:56:39.882429Z",
     "shell.execute_reply": "2024-09-19T14:56:39.880824Z"
    },
    "id": "wzzzkzPfI9Kx",
    "outputId": "ca0cb1cf-03a2-4690-98f9-9f7fae7d872c",
    "papermill": {
     "duration": 1111.150165,
     "end_time": "2024-09-19T14:56:39.885563",
     "exception": false,
     "start_time": "2024-09-19T14:38:08.735398",
     "status": "completed"
    },
    "tags": []
   },
   "outputs": [
    {
     "name": "stdout",
     "output_type": "stream",
     "text": [
      "Fitting 5 folds for each of 27 candidates, totalling 135 fits\n"
     ]
    }
   ],
   "source": [
    "param_grid_xgb = {\n",
    "    'max_depth': [3, 5, 7],\n",
    "    'learning_rate': [0.01, 0.1, 0.2],\n",
    "    'n_estimators': [100,200,300]\n",
    "}\n",
    "\n",
    "xgb = XGBClassifier()\n",
    "grid_search_xgb = GridSearchCV(estimator=xgb, param_grid=param_grid_xgb, cv=5, scoring='accuracy', verbose=1, n_jobs=-1)\n",
    "new_model_xgb=grid_search_xgb.fit(x_train, y_train)\n"
   ]
  },
  {
   "cell_type": "code",
   "execution_count": 22,
   "id": "f3f39434",
   "metadata": {
    "execution": {
     "iopub.execute_input": "2024-09-19T14:56:39.907136Z",
     "iopub.status.busy": "2024-09-19T14:56:39.906666Z",
     "iopub.status.idle": "2024-09-19T14:56:39.914143Z",
     "shell.execute_reply": "2024-09-19T14:56:39.912668Z"
    },
    "id": "IDG_cxGIJRGK",
    "outputId": "3628a9c3-bc8b-4c66-9fb9-2204dd451769",
    "papermill": {
     "duration": 0.020948,
     "end_time": "2024-09-19T14:56:39.916437",
     "exception": false,
     "start_time": "2024-09-19T14:56:39.895489",
     "status": "completed"
    },
    "tags": []
   },
   "outputs": [
    {
     "name": "stdout",
     "output_type": "stream",
     "text": [
      "Best parameters for XGBoost: {'learning_rate': 0.2, 'max_depth': 7, 'n_estimators': 300}\n",
      "Best score for XGBoost: 0.8823952881413213\n"
     ]
    }
   ],
   "source": [
    "print(\"Best parameters for XGBoost:\", grid_search_xgb.best_params_)\n",
    "print(\"Best score for XGBoost:\", grid_search_xgb.best_score_)"
   ]
  },
  {
   "cell_type": "markdown",
   "id": "58eac3b2",
   "metadata": {
    "papermill": {
     "duration": 0.009361,
     "end_time": "2024-09-19T14:56:39.935431",
     "exception": false,
     "start_time": "2024-09-19T14:56:39.926070",
     "status": "completed"
    },
    "tags": []
   },
   "source": [
    "#### En iyi bulduğumuz xgboost modelimizi tahmin için kullanıp gerekli skorları ekrana yazdırıyoruz"
   ]
  },
  {
   "cell_type": "code",
   "execution_count": 23,
   "id": "ef98d6af",
   "metadata": {
    "execution": {
     "iopub.execute_input": "2024-09-19T14:56:39.956454Z",
     "iopub.status.busy": "2024-09-19T14:56:39.956014Z",
     "iopub.status.idle": "2024-09-19T14:56:40.566738Z",
     "shell.execute_reply": "2024-09-19T14:56:40.565492Z"
    },
    "id": "T4wIWfmUfW-_",
    "papermill": {
     "duration": 0.624258,
     "end_time": "2024-09-19T14:56:40.569257",
     "exception": false,
     "start_time": "2024-09-19T14:56:39.944999",
     "status": "completed"
    },
    "tags": []
   },
   "outputs": [],
   "source": [
    "y_pred = new_model_xgb.predict(x_test)"
   ]
  },
  {
   "cell_type": "code",
   "execution_count": 24,
   "id": "0f645cce",
   "metadata": {
    "execution": {
     "iopub.execute_input": "2024-09-19T14:56:40.590997Z",
     "iopub.status.busy": "2024-09-19T14:56:40.590441Z",
     "iopub.status.idle": "2024-09-19T14:56:40.779114Z",
     "shell.execute_reply": "2024-09-19T14:56:40.777874Z"
    },
    "id": "cmbRFd1siiE3",
    "papermill": {
     "duration": 0.203194,
     "end_time": "2024-09-19T14:56:40.782247",
     "exception": false,
     "start_time": "2024-09-19T14:56:40.579053",
     "status": "completed"
    },
    "tags": []
   },
   "outputs": [],
   "source": [
    "accuracy = accuracy_score(y_test, y_pred)\n",
    "precision = precision_score(y_test, y_pred)\n",
    "recall = recall_score(y_test, y_pred)\n",
    "f1 = f1_score(y_test, y_pred)"
   ]
  },
  {
   "cell_type": "code",
   "execution_count": 25,
   "id": "bae74dbb",
   "metadata": {
    "execution": {
     "iopub.execute_input": "2024-09-19T14:56:40.808781Z",
     "iopub.status.busy": "2024-09-19T14:56:40.807615Z",
     "iopub.status.idle": "2024-09-19T14:56:40.815397Z",
     "shell.execute_reply": "2024-09-19T14:56:40.813985Z"
    },
    "id": "CWZn3gwzikXM",
    "outputId": "87dc0e19-b0fb-4043-8a7b-4c067eb59d24",
    "papermill": {
     "duration": 0.021964,
     "end_time": "2024-09-19T14:56:40.817852",
     "exception": false,
     "start_time": "2024-09-19T14:56:40.795888",
     "status": "completed"
    },
    "tags": []
   },
   "outputs": [
    {
     "name": "stdout",
     "output_type": "stream",
     "text": [
      "Accuracy: 0.8838358148477037\n",
      "Precision: 0.8934408867864582\n",
      "Recall: 0.8718951321183726\n",
      "F1 Score: 0.8825365275307738\n"
     ]
    }
   ],
   "source": [
    "print(f\"Accuracy: {accuracy}\")\n",
    "print(f\"Precision: {precision}\")\n",
    "print(f\"Recall: {recall}\")\n",
    "print(f\"F1 Score: {f1}\")"
   ]
  },
  {
   "cell_type": "code",
   "execution_count": 26,
   "id": "dae7e7b3",
   "metadata": {
    "execution": {
     "iopub.execute_input": "2024-09-19T14:56:40.840319Z",
     "iopub.status.busy": "2024-09-19T14:56:40.839815Z",
     "iopub.status.idle": "2024-09-19T14:56:40.852136Z",
     "shell.execute_reply": "2024-09-19T14:56:40.850641Z"
    },
    "id": "_a-kukGVfcbX",
    "outputId": "030b6e3b-757a-491d-83b3-fcd3caa1345b",
    "papermill": {
     "duration": 0.026507,
     "end_time": "2024-09-19T14:56:40.854381",
     "exception": false,
     "start_time": "2024-09-19T14:56:40.827874",
     "status": "completed"
    },
    "tags": []
   },
   "outputs": [
    {
     "name": "stdout",
     "output_type": "stream",
     "text": [
      "MAPE değeri:234399487463990.22\n",
      "MAE değeri:0.1161641851522963\n",
      "MSE değeri:0.1161641851522963\n"
     ]
    }
   ],
   "source": [
    "MAPE=mean_absolute_percentage_error(y_test,y_pred)\n",
    "MAE=mean_absolute_error(y_test,y_pred)\n",
    "MSE=mean_squared_error(y_test,y_pred)\n",
    "\n",
    "print(f\"MAPE değeri:{MAPE}\")\n",
    "print(f\"MAE değeri:{MAE}\")\n",
    "print(f\"MSE değeri:{MSE}\")"
   ]
  },
  {
   "cell_type": "code",
   "execution_count": 27,
   "id": "8300de48",
   "metadata": {
    "execution": {
     "iopub.execute_input": "2024-09-19T14:56:40.877022Z",
     "iopub.status.busy": "2024-09-19T14:56:40.875890Z",
     "iopub.status.idle": "2024-09-19T14:56:41.146557Z",
     "shell.execute_reply": "2024-09-19T14:56:41.145334Z"
    },
    "id": "2jtxYnq-u1mF",
    "outputId": "b91c974a-2841-4624-9559-d54e9cbb813e",
    "papermill": {
     "duration": 0.285894,
     "end_time": "2024-09-19T14:56:41.150250",
     "exception": false,
     "start_time": "2024-09-19T14:56:40.864356",
     "status": "completed"
    },
    "tags": []
   },
   "outputs": [
    {
     "data": {
      "image/png": "[encoded data removed]",
      "text/plain": [
       "<Figure size 800x600 with 1 Axes>"
      ]
     },
     "metadata": {},
     "output_type": "display_data"
    }
   ],
   "source": [
    "cm = confusion_matrix(y_test, y_pred)\n",
    "\n",
    "plt.figure(figsize=(8,6))\n",
    "sns.heatmap(cm, annot=True, fmt='d', cmap='Blues', cbar=False)\n",
    "plt.xlabel('Predicted Labels')\n",
    "plt.ylabel('True Labels')\n",
    "plt.title('Confusion Matrix')\n",
    "plt.show()\n"
   ]
  }
 ],
 "metadata": {
  "colab": {
   "provenance": []
  },
  "kaggle": {
   "accelerator": "none",
   "dataSources": [
    {
     "datasetId": 1936563,
     "sourceId": 6674905,
     "sourceType": "datasetVersion"
    }
   ],
   "isGpuEnabled": false,
   "isInternetEnabled": true,
   "language": "python",
   "sourceType": "notebook"
  },
  "kernelspec": {
   "display_name": "Python 3",
   "name": "python3"
  },
  "language_info": {
   "codemirror_mode": {
    "name": "ipython",
    "version": 3
   },
   "file_extension": ".py",
   "mimetype": "text/x-python",
   "name": "python",
   "nbconvert_exporter": "python",
   "pygments_lexer": "ipython3",
   "version": "3.10.14"
  },
  "papermill": {
   "default_parameters": {},
   "duration": 1750.231215,
   "end_time": "2024-09-19T14:56:43.783162",
   "environment_variables": {},
   "exception": null,
   "input_path": "__notebook__.ipynb",
   "output_path": "__notebook__.ipynb",
   "parameters": {},
   "start_time": "2024-09-19T14:27:33.551947",
   "version": "2.6.0"
  }
 },
 "nbformat": 4,
 "nbformat_minor": 5
}
